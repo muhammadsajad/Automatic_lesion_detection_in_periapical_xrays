{
  "cells": [
    {
      "cell_type": "markdown",
      "metadata": {
        "id": "view-in-github",
        "colab_type": "text"
      },
      "source": [
        "<a href=\"https://colab.research.google.com/github/muhammadsajad/Automatic_lesion_detection_in_periapical_xrays/blob/main/Periapical_Xrays_Classifier.ipynb\" target=\"_parent\"><img src=\"https://colab.research.google.com/assets/colab-badge.svg\" alt=\"Open In Colab\"/></a>"
      ]
    },
    {
      "cell_type": "code",
      "execution_count": 2,
      "metadata": {
        "id": "Si2WVhm0113G"
      },
      "outputs": [],
      "source": [
        "import numpy as np\n",
        "import matplotlib.pyplot as plt\n",
        "import glob\n",
        "import cv2\n",
        "import random\n",
        "from shutil import copyfile\n",
        "\n",
        "import tensorflow as tf\n",
        "from tensorflow import keras\n",
        "from tensorflow.keras import layers\n",
        "from keras.models import Model, Sequential\n",
        "from keras.layers import Dense, Flatten, Conv2D, MaxPooling2D, Dropout\n",
        "# from keras.layers.normalization import BatchNormalization\n",
        "import os\n",
        "import seaborn as sns\n",
        "from keras.applications.vgg16 import VGG16\n",
        "from keras.preprocessing.image import ImageDataGenerator"
      ]
    },
    {
      "cell_type": "markdown",
      "metadata": {
        "id": "iClO7wt7wWfT"
      },
      "source": [
        "How to use datasets from Kaggle on Google Colab using Kaggle API ? Watch this Video: https://www.youtube.com/watch?v=gwDOUuBH7ws"
      ]
    },
    {
      "cell_type": "code",
      "execution_count": 3,
      "metadata": {
        "id": "aE-VvOM4r8Na"
      },
      "outputs": [],
      "source": [
        "# Give the path of kaggle.jason file in order to download data directly from kaggle.\n",
        "import os\n",
        "os.environ['KAGGLE_CONFIG_DIR']='/content'"
      ]
    },
    {
      "cell_type": "markdown",
      "source": [
        "**1- Downloading dataset from Kaggle**"
      ],
      "metadata": {
        "id": "2C6eBq6b7p6D"
      }
    },
    {
      "cell_type": "code",
      "execution_count": 4,
      "metadata": {
        "colab": {
          "base_uri": "https://localhost:8080/"
        },
        "id": "c3C80S2usKYK",
        "outputId": "f931e04b-3d06-4c97-d2fe-e2fd811a54f9"
      },
      "outputs": [
        {
          "output_type": "stream",
          "name": "stdout",
          "text": [
            "Warning: Your Kaggle API key is readable by other users on this system! To fix this, you can run 'chmod 600 /content/kaggle.json'\n",
            "Downloading periapical-xrays.zip to /content\n",
            " 95% 145M/153M [00:02<00:00, 68.5MB/s]\n",
            "100% 153M/153M [00:02<00:00, 70.0MB/s]\n"
          ]
        }
      ],
      "source": [
        "# This is the kaggle api of data set.\n",
        "!kaggle datasets download -d muhammadsajad/periapical-xrays"
      ]
    },
    {
      "cell_type": "code",
      "execution_count": 5,
      "metadata": {
        "colab": {
          "base_uri": "https://localhost:8080/"
        },
        "id": "MopYbavesMZB",
        "outputId": "40094123-99ab-4a23-e952-95c2dcd54ad7"
      },
      "outputs": [
        {
          "output_type": "stream",
          "name": "stdout",
          "text": [
            "Archive:  periapical-xrays.zip\n",
            "  inflating: Periapical_Xrays/Primary Endo with Secondary Perio/Primary Endo with Secondary Perio (10).JPG  \n",
            "  inflating: Periapical_Xrays/Primary Endo with Secondary Perio/Primary Endo with Secondary Perio (100).JPG  \n",
            "  inflating: Periapical_Xrays/Primary Endo with Secondary Perio/Primary Endo with Secondary Perio (101).JPG  \n",
            "  inflating: Periapical_Xrays/Primary Endo with Secondary Perio/Primary Endo with Secondary Perio (102).JPG  \n",
            "  inflating: Periapical_Xrays/Primary Endo with Secondary Perio/Primary Endo with Secondary Perio (103).JPG  \n",
            "  inflating: Periapical_Xrays/Primary Endo with Secondary Perio/Primary Endo with Secondary Perio (104).JPG  \n",
            "  inflating: Periapical_Xrays/Primary Endo with Secondary Perio/Primary Endo with Secondary Perio (105).JPG  \n",
            "  inflating: Periapical_Xrays/Primary Endo with Secondary Perio/Primary Endo with Secondary Perio (106).JPG  \n",
            "  inflating: Periapical_Xrays/Primary Endo with Secondary Perio/Primary Endo with Secondary Perio (107).JPG  \n",
            "  inflating: Periapical_Xrays/Primary Endo with Secondary Perio/Primary Endo with Secondary Perio (108).JPG  \n",
            "  inflating: Periapical_Xrays/Primary Endo with Secondary Perio/Primary Endo with Secondary Perio (109).JPG  \n",
            "  inflating: Periapical_Xrays/Primary Endo with Secondary Perio/Primary Endo with Secondary Perio (11).JPG  \n",
            "  inflating: Periapical_Xrays/Primary Endo with Secondary Perio/Primary Endo with Secondary Perio (110).JPG  \n",
            "  inflating: Periapical_Xrays/Primary Endo with Secondary Perio/Primary Endo with Secondary Perio (111).JPG  \n",
            "  inflating: Periapical_Xrays/Primary Endo with Secondary Perio/Primary Endo with Secondary Perio (112).JPG  \n",
            "  inflating: Periapical_Xrays/Primary Endo with Secondary Perio/Primary Endo with Secondary Perio (113).JPG  \n",
            "  inflating: Periapical_Xrays/Primary Endo with Secondary Perio/Primary Endo with Secondary Perio (114).JPG  \n",
            "  inflating: Periapical_Xrays/Primary Endo with Secondary Perio/Primary Endo with Secondary Perio (115).JPG  \n",
            "  inflating: Periapical_Xrays/Primary Endo with Secondary Perio/Primary Endo with Secondary Perio (116).JPG  \n",
            "  inflating: Periapical_Xrays/Primary Endo with Secondary Perio/Primary Endo with Secondary Perio (117).JPG  \n",
            "  inflating: Periapical_Xrays/Primary Endo with Secondary Perio/Primary Endo with Secondary Perio (118).JPG  \n",
            "  inflating: Periapical_Xrays/Primary Endo with Secondary Perio/Primary Endo with Secondary Perio (119).JPG  \n",
            "  inflating: Periapical_Xrays/Primary Endo with Secondary Perio/Primary Endo with Secondary Perio (12).JPG  \n",
            "  inflating: Periapical_Xrays/Primary Endo with Secondary Perio/Primary Endo with Secondary Perio (120).JPG  \n",
            "  inflating: Periapical_Xrays/Primary Endo with Secondary Perio/Primary Endo with Secondary Perio (121).JPG  \n",
            "  inflating: Periapical_Xrays/Primary Endo with Secondary Perio/Primary Endo with Secondary Perio (122).JPG  \n",
            "  inflating: Periapical_Xrays/Primary Endo with Secondary Perio/Primary Endo with Secondary Perio (13).JPG  \n",
            "  inflating: Periapical_Xrays/Primary Endo with Secondary Perio/Primary Endo with Secondary Perio (14).JPG  \n",
            "  inflating: Periapical_Xrays/Primary Endo with Secondary Perio/Primary Endo with Secondary Perio (15).JPG  \n",
            "  inflating: Periapical_Xrays/Primary Endo with Secondary Perio/Primary Endo with Secondary Perio (16).JPG  \n",
            "  inflating: Periapical_Xrays/Primary Endo with Secondary Perio/Primary Endo with Secondary Perio (17).JPG  \n",
            "  inflating: Periapical_Xrays/Primary Endo with Secondary Perio/Primary Endo with Secondary Perio (18).JPG  \n",
            "  inflating: Periapical_Xrays/Primary Endo with Secondary Perio/Primary Endo with Secondary Perio (19).JPG  \n",
            "  inflating: Periapical_Xrays/Primary Endo with Secondary Perio/Primary Endo with Secondary Perio (2).JPG  \n",
            "  inflating: Periapical_Xrays/Primary Endo with Secondary Perio/Primary Endo with Secondary Perio (20).JPG  \n",
            "  inflating: Periapical_Xrays/Primary Endo with Secondary Perio/Primary Endo with Secondary Perio (21).JPG  \n",
            "  inflating: Periapical_Xrays/Primary Endo with Secondary Perio/Primary Endo with Secondary Perio (22).JPG  \n",
            "  inflating: Periapical_Xrays/Primary Endo with Secondary Perio/Primary Endo with Secondary Perio (23).JPG  \n",
            "  inflating: Periapical_Xrays/Primary Endo with Secondary Perio/Primary Endo with Secondary Perio (24).JPG  \n",
            "  inflating: Periapical_Xrays/Primary Endo with Secondary Perio/Primary Endo with Secondary Perio (25).JPG  \n",
            "  inflating: Periapical_Xrays/Primary Endo with Secondary Perio/Primary Endo with Secondary Perio (26).JPG  \n",
            "  inflating: Periapical_Xrays/Primary Endo with Secondary Perio/Primary Endo with Secondary Perio (27).JPG  \n",
            "  inflating: Periapical_Xrays/Primary Endo with Secondary Perio/Primary Endo with Secondary Perio (28).JPG  \n",
            "  inflating: Periapical_Xrays/Primary Endo with Secondary Perio/Primary Endo with Secondary Perio (29).JPG  \n",
            "  inflating: Periapical_Xrays/Primary Endo with Secondary Perio/Primary Endo with Secondary Perio (3).JPG  \n",
            "  inflating: Periapical_Xrays/Primary Endo with Secondary Perio/Primary Endo with Secondary Perio (30).JPG  \n",
            "  inflating: Periapical_Xrays/Primary Endo with Secondary Perio/Primary Endo with Secondary Perio (31).JPG  \n",
            "  inflating: Periapical_Xrays/Primary Endo with Secondary Perio/Primary Endo with Secondary Perio (32).JPG  \n",
            "  inflating: Periapical_Xrays/Primary Endo with Secondary Perio/Primary Endo with Secondary Perio (33).JPG  \n",
            "  inflating: Periapical_Xrays/Primary Endo with Secondary Perio/Primary Endo with Secondary Perio (34).JPG  \n",
            "  inflating: Periapical_Xrays/Primary Endo with Secondary Perio/Primary Endo with Secondary Perio (35).JPG  \n",
            "  inflating: Periapical_Xrays/Primary Endo with Secondary Perio/Primary Endo with Secondary Perio (36).JPG  \n",
            "  inflating: Periapical_Xrays/Primary Endo with Secondary Perio/Primary Endo with Secondary Perio (37).JPG  \n",
            "  inflating: Periapical_Xrays/Primary Endo with Secondary Perio/Primary Endo with Secondary Perio (38).JPG  \n",
            "  inflating: Periapical_Xrays/Primary Endo with Secondary Perio/Primary Endo with Secondary Perio (39).JPG  \n",
            "  inflating: Periapical_Xrays/Primary Endo with Secondary Perio/Primary Endo with Secondary Perio (4).JPG  \n",
            "  inflating: Periapical_Xrays/Primary Endo with Secondary Perio/Primary Endo with Secondary Perio (40).JPG  \n",
            "  inflating: Periapical_Xrays/Primary Endo with Secondary Perio/Primary Endo with Secondary Perio (41).JPG  \n",
            "  inflating: Periapical_Xrays/Primary Endo with Secondary Perio/Primary Endo with Secondary Perio (42).JPG  \n",
            "  inflating: Periapical_Xrays/Primary Endo with Secondary Perio/Primary Endo with Secondary Perio (43).JPG  \n",
            "  inflating: Periapical_Xrays/Primary Endo with Secondary Perio/Primary Endo with Secondary Perio (44).JPG  \n",
            "  inflating: Periapical_Xrays/Primary Endo with Secondary Perio/Primary Endo with Secondary Perio (45).JPG  \n",
            "  inflating: Periapical_Xrays/Primary Endo with Secondary Perio/Primary Endo with Secondary Perio (46).JPG  \n",
            "  inflating: Periapical_Xrays/Primary Endo with Secondary Perio/Primary Endo with Secondary Perio (47).JPG  \n",
            "  inflating: Periapical_Xrays/Primary Endo with Secondary Perio/Primary Endo with Secondary Perio (48).JPG  \n",
            "  inflating: Periapical_Xrays/Primary Endo with Secondary Perio/Primary Endo with Secondary Perio (49).JPG  \n",
            "  inflating: Periapical_Xrays/Primary Endo with Secondary Perio/Primary Endo with Secondary Perio (5).JPG  \n",
            "  inflating: Periapical_Xrays/Primary Endo with Secondary Perio/Primary Endo with Secondary Perio (50).JPG  \n",
            "  inflating: Periapical_Xrays/Primary Endo with Secondary Perio/Primary Endo with Secondary Perio (51).JPG  \n",
            "  inflating: Periapical_Xrays/Primary Endo with Secondary Perio/Primary Endo with Secondary Perio (52).JPG  \n",
            "  inflating: Periapical_Xrays/Primary Endo with Secondary Perio/Primary Endo with Secondary Perio (53).JPG  \n",
            "  inflating: Periapical_Xrays/Primary Endo with Secondary Perio/Primary Endo with Secondary Perio (54).JPG  \n",
            "  inflating: Periapical_Xrays/Primary Endo with Secondary Perio/Primary Endo with Secondary Perio (55).JPG  \n",
            "  inflating: Periapical_Xrays/Primary Endo with Secondary Perio/Primary Endo with Secondary Perio (56).JPG  \n",
            "  inflating: Periapical_Xrays/Primary Endo with Secondary Perio/Primary Endo with Secondary Perio (57).JPG  \n",
            "  inflating: Periapical_Xrays/Primary Endo with Secondary Perio/Primary Endo with Secondary Perio (58).JPG  \n",
            "  inflating: Periapical_Xrays/Primary Endo with Secondary Perio/Primary Endo with Secondary Perio (59).JPG  \n",
            "  inflating: Periapical_Xrays/Primary Endo with Secondary Perio/Primary Endo with Secondary Perio (6).JPG  \n",
            "  inflating: Periapical_Xrays/Primary Endo with Secondary Perio/Primary Endo with Secondary Perio (60).JPG  \n",
            "  inflating: Periapical_Xrays/Primary Endo with Secondary Perio/Primary Endo with Secondary Perio (61).JPG  \n",
            "  inflating: Periapical_Xrays/Primary Endo with Secondary Perio/Primary Endo with Secondary Perio (62).JPG  \n",
            "  inflating: Periapical_Xrays/Primary Endo with Secondary Perio/Primary Endo with Secondary Perio (63).JPG  \n",
            "  inflating: Periapical_Xrays/Primary Endo with Secondary Perio/Primary Endo with Secondary Perio (64).JPG  \n",
            "  inflating: Periapical_Xrays/Primary Endo with Secondary Perio/Primary Endo with Secondary Perio (65).JPG  \n",
            "  inflating: Periapical_Xrays/Primary Endo with Secondary Perio/Primary Endo with Secondary Perio (66).JPG  \n",
            "  inflating: Periapical_Xrays/Primary Endo with Secondary Perio/Primary Endo with Secondary Perio (67).JPG  \n",
            "  inflating: Periapical_Xrays/Primary Endo with Secondary Perio/Primary Endo with Secondary Perio (68).JPG  \n",
            "  inflating: Periapical_Xrays/Primary Endo with Secondary Perio/Primary Endo with Secondary Perio (69).JPG  \n",
            "  inflating: Periapical_Xrays/Primary Endo with Secondary Perio/Primary Endo with Secondary Perio (7).JPG  \n",
            "  inflating: Periapical_Xrays/Primary Endo with Secondary Perio/Primary Endo with Secondary Perio (70).JPG  \n",
            "  inflating: Periapical_Xrays/Primary Endo with Secondary Perio/Primary Endo with Secondary Perio (71).JPG  \n",
            "  inflating: Periapical_Xrays/Primary Endo with Secondary Perio/Primary Endo with Secondary Perio (72).JPG  \n",
            "  inflating: Periapical_Xrays/Primary Endo with Secondary Perio/Primary Endo with Secondary Perio (73).JPG  \n",
            "  inflating: Periapical_Xrays/Primary Endo with Secondary Perio/Primary Endo with Secondary Perio (74).JPG  \n",
            "  inflating: Periapical_Xrays/Primary Endo with Secondary Perio/Primary Endo with Secondary Perio (75).JPG  \n",
            "  inflating: Periapical_Xrays/Primary Endo with Secondary Perio/Primary Endo with Secondary Perio (76).JPG  \n",
            "  inflating: Periapical_Xrays/Primary Endo with Secondary Perio/Primary Endo with Secondary Perio (77).JPG  \n",
            "  inflating: Periapical_Xrays/Primary Endo with Secondary Perio/Primary Endo with Secondary Perio (78).JPG  \n",
            "  inflating: Periapical_Xrays/Primary Endo with Secondary Perio/Primary Endo with Secondary Perio (79).JPG  \n",
            "  inflating: Periapical_Xrays/Primary Endo with Secondary Perio/Primary Endo with Secondary Perio (8).JPG  \n",
            "  inflating: Periapical_Xrays/Primary Endo with Secondary Perio/Primary Endo with Secondary Perio (80).JPG  \n",
            "  inflating: Periapical_Xrays/Primary Endo with Secondary Perio/Primary Endo with Secondary Perio (81).JPG  \n",
            "  inflating: Periapical_Xrays/Primary Endo with Secondary Perio/Primary Endo with Secondary Perio (82).JPG  \n",
            "  inflating: Periapical_Xrays/Primary Endo with Secondary Perio/Primary Endo with Secondary Perio (83).JPG  \n",
            "  inflating: Periapical_Xrays/Primary Endo with Secondary Perio/Primary Endo with Secondary Perio (84).JPG  \n",
            "  inflating: Periapical_Xrays/Primary Endo with Secondary Perio/Primary Endo with Secondary Perio (85).JPG  \n",
            "  inflating: Periapical_Xrays/Primary Endo with Secondary Perio/Primary Endo with Secondary Perio (86).JPG  \n",
            "  inflating: Periapical_Xrays/Primary Endo with Secondary Perio/Primary Endo with Secondary Perio (87).JPG  \n",
            "  inflating: Periapical_Xrays/Primary Endo with Secondary Perio/Primary Endo with Secondary Perio (88).JPG  \n",
            "  inflating: Periapical_Xrays/Primary Endo with Secondary Perio/Primary Endo with Secondary Perio (89).JPG  \n",
            "  inflating: Periapical_Xrays/Primary Endo with Secondary Perio/Primary Endo with Secondary Perio (9).JPG  \n",
            "  inflating: Periapical_Xrays/Primary Endo with Secondary Perio/Primary Endo with Secondary Perio (90).JPG  \n",
            "  inflating: Periapical_Xrays/Primary Endo with Secondary Perio/Primary Endo with Secondary Perio (91).JPG  \n",
            "  inflating: Periapical_Xrays/Primary Endo with Secondary Perio/Primary Endo with Secondary Perio (92).JPG  \n",
            "  inflating: Periapical_Xrays/Primary Endo with Secondary Perio/Primary Endo with Secondary Perio (93).JPG  \n",
            "  inflating: Periapical_Xrays/Primary Endo with Secondary Perio/Primary Endo with Secondary Perio (94).JPG  \n",
            "  inflating: Periapical_Xrays/Primary Endo with Secondary Perio/Primary Endo with Secondary Perio (95).JPG  \n",
            "  inflating: Periapical_Xrays/Primary Endo with Secondary Perio/Primary Endo with Secondary Perio (96).JPG  \n",
            "  inflating: Periapical_Xrays/Primary Endo with Secondary Perio/Primary Endo with Secondary Perio (97).JPG  \n",
            "  inflating: Periapical_Xrays/Primary Endo with Secondary Perio/Primary Endo with Secondary Perio (98).JPG  \n",
            "  inflating: Periapical_Xrays/Primary Endo with Secondary Perio/Primary Endo with Secondary Perio (99).JPG  \n",
            "  inflating: Periapical_Xrays/Primary Endo with Secondary Perio/Primary Endo with Secondary Perio.JPG  \n",
            "  inflating: Periapical_Xrays/Primary Endodontic Lesion/Primary Endodontic  Lesion (10).JPG  \n",
            "  inflating: Periapical_Xrays/Primary Endodontic Lesion/Primary Endodontic  Lesion (11).JPG  \n",
            "  inflating: Periapical_Xrays/Primary Endodontic Lesion/Primary Endodontic  Lesion (12).JPG  \n",
            "  inflating: Periapical_Xrays/Primary Endodontic Lesion/Primary Endodontic  Lesion (13).JPG  \n",
            "  inflating: Periapical_Xrays/Primary Endodontic Lesion/Primary Endodontic  Lesion (14).JPG  \n",
            "  inflating: Periapical_Xrays/Primary Endodontic Lesion/Primary Endodontic  Lesion (15).JPG  \n",
            "  inflating: Periapical_Xrays/Primary Endodontic Lesion/Primary Endodontic  Lesion (16).JPG  \n",
            "  inflating: Periapical_Xrays/Primary Endodontic Lesion/Primary Endodontic  Lesion (17).JPG  \n",
            "  inflating: Periapical_Xrays/Primary Endodontic Lesion/Primary Endodontic  Lesion (18).JPG  \n",
            "  inflating: Periapical_Xrays/Primary Endodontic Lesion/Primary Endodontic  Lesion (19).JPG  \n",
            "  inflating: Periapical_Xrays/Primary Endodontic Lesion/Primary Endodontic  Lesion (2).JPG  \n",
            "  inflating: Periapical_Xrays/Primary Endodontic Lesion/Primary Endodontic  Lesion (20).JPG  \n",
            "  inflating: Periapical_Xrays/Primary Endodontic Lesion/Primary Endodontic  Lesion (21).JPG  \n",
            "  inflating: Periapical_Xrays/Primary Endodontic Lesion/Primary Endodontic  Lesion (22).JPG  \n",
            "  inflating: Periapical_Xrays/Primary Endodontic Lesion/Primary Endodontic  Lesion (23).JPG  \n",
            "  inflating: Periapical_Xrays/Primary Endodontic Lesion/Primary Endodontic  Lesion (24).JPG  \n",
            "  inflating: Periapical_Xrays/Primary Endodontic Lesion/Primary Endodontic  Lesion (25).JPG  \n",
            "  inflating: Periapical_Xrays/Primary Endodontic Lesion/Primary Endodontic  Lesion (26).JPG  \n",
            "  inflating: Periapical_Xrays/Primary Endodontic Lesion/Primary Endodontic  Lesion (27).JPG  \n",
            "  inflating: Periapical_Xrays/Primary Endodontic Lesion/Primary Endodontic  Lesion (28).JPG  \n",
            "  inflating: Periapical_Xrays/Primary Endodontic Lesion/Primary Endodontic  Lesion (29).JPG  \n",
            "  inflating: Periapical_Xrays/Primary Endodontic Lesion/Primary Endodontic  Lesion (3).JPG  \n",
            "  inflating: Periapical_Xrays/Primary Endodontic Lesion/Primary Endodontic  Lesion (30).JPG  \n",
            "  inflating: Periapical_Xrays/Primary Endodontic Lesion/Primary Endodontic  Lesion (31).JPG  \n",
            "  inflating: Periapical_Xrays/Primary Endodontic Lesion/Primary Endodontic  Lesion (32).JPG  \n",
            "  inflating: Periapical_Xrays/Primary Endodontic Lesion/Primary Endodontic  Lesion (33).JPG  \n",
            "  inflating: Periapical_Xrays/Primary Endodontic Lesion/Primary Endodontic  Lesion (34).JPG  \n",
            "  inflating: Periapical_Xrays/Primary Endodontic Lesion/Primary Endodontic  Lesion (35).JPG  \n",
            "  inflating: Periapical_Xrays/Primary Endodontic Lesion/Primary Endodontic  Lesion (36).JPG  \n",
            "  inflating: Periapical_Xrays/Primary Endodontic Lesion/Primary Endodontic  Lesion (37).JPG  \n",
            "  inflating: Periapical_Xrays/Primary Endodontic Lesion/Primary Endodontic  Lesion (38).JPG  \n",
            "  inflating: Periapical_Xrays/Primary Endodontic Lesion/Primary Endodontic  Lesion (39).JPG  \n",
            "  inflating: Periapical_Xrays/Primary Endodontic Lesion/Primary Endodontic  Lesion (4).JPG  \n",
            "  inflating: Periapical_Xrays/Primary Endodontic Lesion/Primary Endodontic  Lesion (40).JPG  \n",
            "  inflating: Periapical_Xrays/Primary Endodontic Lesion/Primary Endodontic  Lesion (41).JPG  \n",
            "  inflating: Periapical_Xrays/Primary Endodontic Lesion/Primary Endodontic  Lesion (42).JPG  \n",
            "  inflating: Periapical_Xrays/Primary Endodontic Lesion/Primary Endodontic  Lesion (43).JPG  \n",
            "  inflating: Periapical_Xrays/Primary Endodontic Lesion/Primary Endodontic  Lesion (44).JPG  \n",
            "  inflating: Periapical_Xrays/Primary Endodontic Lesion/Primary Endodontic  Lesion (45).JPG  \n",
            "  inflating: Periapical_Xrays/Primary Endodontic Lesion/Primary Endodontic  Lesion (46).JPG  \n",
            "  inflating: Periapical_Xrays/Primary Endodontic Lesion/Primary Endodontic  Lesion (47).JPG  \n",
            "  inflating: Periapical_Xrays/Primary Endodontic Lesion/Primary Endodontic  Lesion (48).JPG  \n",
            "  inflating: Periapical_Xrays/Primary Endodontic Lesion/Primary Endodontic  Lesion (49).JPG  \n",
            "  inflating: Periapical_Xrays/Primary Endodontic Lesion/Primary Endodontic  Lesion (5).JPG  \n",
            "  inflating: Periapical_Xrays/Primary Endodontic Lesion/Primary Endodontic  Lesion (50).JPG  \n",
            "  inflating: Periapical_Xrays/Primary Endodontic Lesion/Primary Endodontic  Lesion (51).JPG  \n",
            "  inflating: Periapical_Xrays/Primary Endodontic Lesion/Primary Endodontic  Lesion (52).JPG  \n",
            "  inflating: Periapical_Xrays/Primary Endodontic Lesion/Primary Endodontic  Lesion (53).JPG  \n",
            "  inflating: Periapical_Xrays/Primary Endodontic Lesion/Primary Endodontic  Lesion (6).JPG  \n",
            "  inflating: Periapical_Xrays/Primary Endodontic Lesion/Primary Endodontic  Lesion (7).JPG  \n",
            "  inflating: Periapical_Xrays/Primary Endodontic Lesion/Primary Endodontic  Lesion (8).JPG  \n",
            "  inflating: Periapical_Xrays/Primary Endodontic Lesion/Primary Endodontic  Lesion (9).JPG  \n",
            "  inflating: Periapical_Xrays/Primary Endodontic Lesion/Primary Endodontic  Lesion.JPG  \n",
            "  inflating: Periapical_Xrays/Primary Endodontic Lesion/Primary Endodontic Lesion (10).JPG  \n",
            "  inflating: Periapical_Xrays/Primary Endodontic Lesion/Primary Endodontic Lesion (11).JPG  \n",
            "  inflating: Periapical_Xrays/Primary Endodontic Lesion/Primary Endodontic Lesion (12).JPG  \n",
            "  inflating: Periapical_Xrays/Primary Endodontic Lesion/Primary Endodontic Lesion (13).JPG  \n",
            "  inflating: Periapical_Xrays/Primary Endodontic Lesion/Primary Endodontic Lesion (14).JPG  \n",
            "  inflating: Periapical_Xrays/Primary Endodontic Lesion/Primary Endodontic Lesion (15).JPG  \n",
            "  inflating: Periapical_Xrays/Primary Endodontic Lesion/Primary Endodontic Lesion (16).JPG  \n",
            "  inflating: Periapical_Xrays/Primary Endodontic Lesion/Primary Endodontic Lesion (17).JPG  \n",
            "  inflating: Periapical_Xrays/Primary Endodontic Lesion/Primary Endodontic Lesion (18).JPG  \n",
            "  inflating: Periapical_Xrays/Primary Endodontic Lesion/Primary Endodontic Lesion (19).JPG  \n",
            "  inflating: Periapical_Xrays/Primary Endodontic Lesion/Primary Endodontic Lesion (2).JPG  \n",
            "  inflating: Periapical_Xrays/Primary Endodontic Lesion/Primary Endodontic Lesion (20).JPG  \n",
            "  inflating: Periapical_Xrays/Primary Endodontic Lesion/Primary Endodontic Lesion (21).JPG  \n",
            "  inflating: Periapical_Xrays/Primary Endodontic Lesion/Primary Endodontic Lesion (22).JPG  \n",
            "  inflating: Periapical_Xrays/Primary Endodontic Lesion/Primary Endodontic Lesion (23).JPG  \n",
            "  inflating: Periapical_Xrays/Primary Endodontic Lesion/Primary Endodontic Lesion (24).JPG  \n",
            "  inflating: Periapical_Xrays/Primary Endodontic Lesion/Primary Endodontic Lesion (25).JPG  \n",
            "  inflating: Periapical_Xrays/Primary Endodontic Lesion/Primary Endodontic Lesion (26).JPG  \n",
            "  inflating: Periapical_Xrays/Primary Endodontic Lesion/Primary Endodontic Lesion (27).JPG  \n",
            "  inflating: Periapical_Xrays/Primary Endodontic Lesion/Primary Endodontic Lesion (28).JPG  \n",
            "  inflating: Periapical_Xrays/Primary Endodontic Lesion/Primary Endodontic Lesion (29).JPG  \n",
            "  inflating: Periapical_Xrays/Primary Endodontic Lesion/Primary Endodontic Lesion (3).JPG  \n",
            "  inflating: Periapical_Xrays/Primary Endodontic Lesion/Primary Endodontic Lesion (30).JPG  \n",
            "  inflating: Periapical_Xrays/Primary Endodontic Lesion/Primary Endodontic Lesion (31).JPG  \n",
            "  inflating: Periapical_Xrays/Primary Endodontic Lesion/Primary Endodontic Lesion (32).JPG  \n",
            "  inflating: Periapical_Xrays/Primary Endodontic Lesion/Primary Endodontic Lesion (33).JPG  \n",
            "  inflating: Periapical_Xrays/Primary Endodontic Lesion/Primary Endodontic Lesion (34).JPG  \n",
            "  inflating: Periapical_Xrays/Primary Endodontic Lesion/Primary Endodontic Lesion (35).JPG  \n",
            "  inflating: Periapical_Xrays/Primary Endodontic Lesion/Primary Endodontic Lesion (36).JPG  \n",
            "  inflating: Periapical_Xrays/Primary Endodontic Lesion/Primary Endodontic Lesion (37).JPG  \n",
            "  inflating: Periapical_Xrays/Primary Endodontic Lesion/Primary Endodontic Lesion (38).JPG  \n",
            "  inflating: Periapical_Xrays/Primary Endodontic Lesion/Primary Endodontic Lesion (39).JPG  \n",
            "  inflating: Periapical_Xrays/Primary Endodontic Lesion/Primary Endodontic Lesion (4).JPG  \n",
            "  inflating: Periapical_Xrays/Primary Endodontic Lesion/Primary Endodontic Lesion (40).JPG  \n",
            "  inflating: Periapical_Xrays/Primary Endodontic Lesion/Primary Endodontic Lesion (41).JPG  \n",
            "  inflating: Periapical_Xrays/Primary Endodontic Lesion/Primary Endodontic Lesion (42).JPG  \n",
            "  inflating: Periapical_Xrays/Primary Endodontic Lesion/Primary Endodontic Lesion (43).JPG  \n",
            "  inflating: Periapical_Xrays/Primary Endodontic Lesion/Primary Endodontic Lesion (44).JPG  \n",
            "  inflating: Periapical_Xrays/Primary Endodontic Lesion/Primary Endodontic Lesion (45).JPG  \n",
            "  inflating: Periapical_Xrays/Primary Endodontic Lesion/Primary Endodontic Lesion (46).JPG  \n",
            "  inflating: Periapical_Xrays/Primary Endodontic Lesion/Primary Endodontic Lesion (47).JPG  \n",
            "  inflating: Periapical_Xrays/Primary Endodontic Lesion/Primary Endodontic Lesion (48).JPG  \n",
            "  inflating: Periapical_Xrays/Primary Endodontic Lesion/Primary Endodontic Lesion (49).JPG  \n",
            "  inflating: Periapical_Xrays/Primary Endodontic Lesion/Primary Endodontic Lesion (5).JPG  \n",
            "  inflating: Periapical_Xrays/Primary Endodontic Lesion/Primary Endodontic Lesion (50).JPG  \n",
            "  inflating: Periapical_Xrays/Primary Endodontic Lesion/Primary Endodontic Lesion (51).JPG  \n",
            "  inflating: Periapical_Xrays/Primary Endodontic Lesion/Primary Endodontic Lesion (52).JPG  \n",
            "  inflating: Periapical_Xrays/Primary Endodontic Lesion/Primary Endodontic Lesion (53).JPG  \n",
            "  inflating: Periapical_Xrays/Primary Endodontic Lesion/Primary Endodontic Lesion (54).JPG  \n",
            "  inflating: Periapical_Xrays/Primary Endodontic Lesion/Primary Endodontic Lesion (55).JPG  \n",
            "  inflating: Periapical_Xrays/Primary Endodontic Lesion/Primary Endodontic Lesion (56).JPG  \n",
            "  inflating: Periapical_Xrays/Primary Endodontic Lesion/Primary Endodontic Lesion (57).JPG  \n",
            "  inflating: Periapical_Xrays/Primary Endodontic Lesion/Primary Endodontic Lesion (58).JPG  \n",
            "  inflating: Periapical_Xrays/Primary Endodontic Lesion/Primary Endodontic Lesion (59).JPG  \n",
            "  inflating: Periapical_Xrays/Primary Endodontic Lesion/Primary Endodontic Lesion (6).JPG  \n",
            "  inflating: Periapical_Xrays/Primary Endodontic Lesion/Primary Endodontic Lesion (60).JPG  \n",
            "  inflating: Periapical_Xrays/Primary Endodontic Lesion/Primary Endodontic Lesion (61).JPG  \n",
            "  inflating: Periapical_Xrays/Primary Endodontic Lesion/Primary Endodontic Lesion (62).JPG  \n",
            "  inflating: Periapical_Xrays/Primary Endodontic Lesion/Primary Endodontic Lesion (63).JPG  \n",
            "  inflating: Periapical_Xrays/Primary Endodontic Lesion/Primary Endodontic Lesion (64).JPG  \n",
            "  inflating: Periapical_Xrays/Primary Endodontic Lesion/Primary Endodontic Lesion (65).JPG  \n",
            "  inflating: Periapical_Xrays/Primary Endodontic Lesion/Primary Endodontic Lesion (66).JPG  \n",
            "  inflating: Periapical_Xrays/Primary Endodontic Lesion/Primary Endodontic Lesion (67).JPG  \n",
            "  inflating: Periapical_Xrays/Primary Endodontic Lesion/Primary Endodontic Lesion (68).JPG  \n",
            "  inflating: Periapical_Xrays/Primary Endodontic Lesion/Primary Endodontic Lesion (69).JPG  \n",
            "  inflating: Periapical_Xrays/Primary Endodontic Lesion/Primary Endodontic Lesion (7).JPG  \n",
            "  inflating: Periapical_Xrays/Primary Endodontic Lesion/Primary Endodontic Lesion (70).JPG  \n",
            "  inflating: Periapical_Xrays/Primary Endodontic Lesion/Primary Endodontic Lesion (71).JPG  \n",
            "  inflating: Periapical_Xrays/Primary Endodontic Lesion/Primary Endodontic Lesion (8).JPG  \n",
            "  inflating: Periapical_Xrays/Primary Endodontic Lesion/Primary Endodontic Lesion (9).JPG  \n",
            "  inflating: Periapical_Xrays/Primary Endodontic Lesion/Primary Endodontic Lesion.JPG  \n",
            "  inflating: Periapical_Xrays/Primary Perio with Secondary Endo/Primary Perio with Secondary Endo (10).JPG  \n",
            "  inflating: Periapical_Xrays/Primary Perio with Secondary Endo/Primary Perio with Secondary Endo (11).JPG  \n",
            "  inflating: Periapical_Xrays/Primary Perio with Secondary Endo/Primary Perio with Secondary Endo (12).JPG  \n",
            "  inflating: Periapical_Xrays/Primary Perio with Secondary Endo/Primary Perio with Secondary Endo (13).JPG  \n",
            "  inflating: Periapical_Xrays/Primary Perio with Secondary Endo/Primary Perio with Secondary Endo (14).JPG  \n",
            "  inflating: Periapical_Xrays/Primary Perio with Secondary Endo/Primary Perio with Secondary Endo (15).JPG  \n",
            "  inflating: Periapical_Xrays/Primary Perio with Secondary Endo/Primary Perio with Secondary Endo (16).JPG  \n",
            "  inflating: Periapical_Xrays/Primary Perio with Secondary Endo/Primary Perio with Secondary Endo (17).JPG  \n",
            "  inflating: Periapical_Xrays/Primary Perio with Secondary Endo/Primary Perio with Secondary Endo (18).JPG  \n",
            "  inflating: Periapical_Xrays/Primary Perio with Secondary Endo/Primary Perio with Secondary Endo (19).JPG  \n",
            "  inflating: Periapical_Xrays/Primary Perio with Secondary Endo/Primary Perio with Secondary Endo (2).JPG  \n",
            "  inflating: Periapical_Xrays/Primary Perio with Secondary Endo/Primary Perio with Secondary Endo (20).JPG  \n",
            "  inflating: Periapical_Xrays/Primary Perio with Secondary Endo/Primary Perio with Secondary Endo (21).JPG  \n",
            "  inflating: Periapical_Xrays/Primary Perio with Secondary Endo/Primary Perio with Secondary Endo (22).JPG  \n",
            "  inflating: Periapical_Xrays/Primary Perio with Secondary Endo/Primary Perio with Secondary Endo (23).JPG  \n",
            "  inflating: Periapical_Xrays/Primary Perio with Secondary Endo/Primary Perio with Secondary Endo (24).JPG  \n",
            "  inflating: Periapical_Xrays/Primary Perio with Secondary Endo/Primary Perio with Secondary Endo (25).JPG  \n",
            "  inflating: Periapical_Xrays/Primary Perio with Secondary Endo/Primary Perio with Secondary Endo (26).JPG  \n",
            "  inflating: Periapical_Xrays/Primary Perio with Secondary Endo/Primary Perio with Secondary Endo (27).JPG  \n",
            "  inflating: Periapical_Xrays/Primary Perio with Secondary Endo/Primary Perio with Secondary Endo (28).JPG  \n",
            "  inflating: Periapical_Xrays/Primary Perio with Secondary Endo/Primary Perio with Secondary Endo (29).JPG  \n",
            "  inflating: Periapical_Xrays/Primary Perio with Secondary Endo/Primary Perio with Secondary Endo (3).JPG  \n",
            "  inflating: Periapical_Xrays/Primary Perio with Secondary Endo/Primary Perio with Secondary Endo (30).JPG  \n",
            "  inflating: Periapical_Xrays/Primary Perio with Secondary Endo/Primary Perio with Secondary Endo (31).JPG  \n",
            "  inflating: Periapical_Xrays/Primary Perio with Secondary Endo/Primary Perio with Secondary Endo (32).JPG  \n",
            "  inflating: Periapical_Xrays/Primary Perio with Secondary Endo/Primary Perio with Secondary Endo (33).JPG  \n",
            "  inflating: Periapical_Xrays/Primary Perio with Secondary Endo/Primary Perio with Secondary Endo (34).JPG  \n",
            "  inflating: Periapical_Xrays/Primary Perio with Secondary Endo/Primary Perio with Secondary Endo (35).JPG  \n",
            "  inflating: Periapical_Xrays/Primary Perio with Secondary Endo/Primary Perio with Secondary Endo (36).JPG  \n",
            "  inflating: Periapical_Xrays/Primary Perio with Secondary Endo/Primary Perio with Secondary Endo (37).JPG  \n",
            "  inflating: Periapical_Xrays/Primary Perio with Secondary Endo/Primary Perio with Secondary Endo (38).JPG  \n",
            "  inflating: Periapical_Xrays/Primary Perio with Secondary Endo/Primary Perio with Secondary Endo (39).JPG  \n",
            "  inflating: Periapical_Xrays/Primary Perio with Secondary Endo/Primary Perio with Secondary Endo (4).JPG  \n",
            "  inflating: Periapical_Xrays/Primary Perio with Secondary Endo/Primary Perio with Secondary Endo (5).JPG  \n",
            "  inflating: Periapical_Xrays/Primary Perio with Secondary Endo/Primary Perio with Secondary Endo (6).JPG  \n",
            "  inflating: Periapical_Xrays/Primary Perio with Secondary Endo/Primary Perio with Secondary Endo (7).JPG  \n",
            "  inflating: Periapical_Xrays/Primary Perio with Secondary Endo/Primary Perio with Secondary Endo (8).JPG  \n",
            "  inflating: Periapical_Xrays/Primary Perio with Secondary Endo/Primary Perio with Secondary Endo (9).JPG  \n",
            "  inflating: Periapical_Xrays/Primary Perio with Secondary Endo/Primary Perio with Secondary Endo.JPG  \n",
            "  inflating: Periapical_Xrays/Primary Periodontal Lesion/Primary Periodontal Lesion (10).JPG  \n",
            "  inflating: Periapical_Xrays/Primary Periodontal Lesion/Primary Periodontal Lesion (100).JPG  \n",
            "  inflating: Periapical_Xrays/Primary Periodontal Lesion/Primary Periodontal Lesion (101).JPG  \n",
            "  inflating: Periapical_Xrays/Primary Periodontal Lesion/Primary Periodontal Lesion (102).JPG  \n",
            "  inflating: Periapical_Xrays/Primary Periodontal Lesion/Primary Periodontal Lesion (103).JPG  \n",
            "  inflating: Periapical_Xrays/Primary Periodontal Lesion/Primary Periodontal Lesion (104).JPG  \n",
            "  inflating: Periapical_Xrays/Primary Periodontal Lesion/Primary Periodontal Lesion (105).JPG  \n",
            "  inflating: Periapical_Xrays/Primary Periodontal Lesion/Primary Periodontal Lesion (106).JPG  \n",
            "  inflating: Periapical_Xrays/Primary Periodontal Lesion/Primary Periodontal Lesion (107).JPG  \n",
            "  inflating: Periapical_Xrays/Primary Periodontal Lesion/Primary Periodontal Lesion (108).JPG  \n",
            "  inflating: Periapical_Xrays/Primary Periodontal Lesion/Primary Periodontal Lesion (109).JPG  \n",
            "  inflating: Periapical_Xrays/Primary Periodontal Lesion/Primary Periodontal Lesion (11).JPG  \n",
            "  inflating: Periapical_Xrays/Primary Periodontal Lesion/Primary Periodontal Lesion (110).JPG  \n",
            "  inflating: Periapical_Xrays/Primary Periodontal Lesion/Primary Periodontal Lesion (111).JPG  \n",
            "  inflating: Periapical_Xrays/Primary Periodontal Lesion/Primary Periodontal Lesion (112).JPG  \n",
            "  inflating: Periapical_Xrays/Primary Periodontal Lesion/Primary Periodontal Lesion (113).JPG  \n",
            "  inflating: Periapical_Xrays/Primary Periodontal Lesion/Primary Periodontal Lesion (114).JPG  \n",
            "  inflating: Periapical_Xrays/Primary Periodontal Lesion/Primary Periodontal Lesion (115).JPG  \n",
            "  inflating: Periapical_Xrays/Primary Periodontal Lesion/Primary Periodontal Lesion (116).JPG  \n",
            "  inflating: Periapical_Xrays/Primary Periodontal Lesion/Primary Periodontal Lesion (117).JPG  \n",
            "  inflating: Periapical_Xrays/Primary Periodontal Lesion/Primary Periodontal Lesion (118).JPG  \n",
            "  inflating: Periapical_Xrays/Primary Periodontal Lesion/Primary Periodontal Lesion (12).JPG  \n",
            "  inflating: Periapical_Xrays/Primary Periodontal Lesion/Primary Periodontal Lesion (13).JPG  \n",
            "  inflating: Periapical_Xrays/Primary Periodontal Lesion/Primary Periodontal Lesion (14).JPG  \n",
            "  inflating: Periapical_Xrays/Primary Periodontal Lesion/Primary Periodontal Lesion (15).JPG  \n",
            "  inflating: Periapical_Xrays/Primary Periodontal Lesion/Primary Periodontal Lesion (16).JPG  \n",
            "  inflating: Periapical_Xrays/Primary Periodontal Lesion/Primary Periodontal Lesion (17).JPG  \n",
            "  inflating: Periapical_Xrays/Primary Periodontal Lesion/Primary Periodontal Lesion (18).JPG  \n",
            "  inflating: Periapical_Xrays/Primary Periodontal Lesion/Primary Periodontal Lesion (19).JPG  \n",
            "  inflating: Periapical_Xrays/Primary Periodontal Lesion/Primary Periodontal Lesion (2).JPG  \n",
            "  inflating: Periapical_Xrays/Primary Periodontal Lesion/Primary Periodontal Lesion (20).JPG  \n",
            "  inflating: Periapical_Xrays/Primary Periodontal Lesion/Primary Periodontal Lesion (21).JPG  \n",
            "  inflating: Periapical_Xrays/Primary Periodontal Lesion/Primary Periodontal Lesion (22).JPG  \n",
            "  inflating: Periapical_Xrays/Primary Periodontal Lesion/Primary Periodontal Lesion (23).JPG  \n",
            "  inflating: Periapical_Xrays/Primary Periodontal Lesion/Primary Periodontal Lesion (24).JPG  \n",
            "  inflating: Periapical_Xrays/Primary Periodontal Lesion/Primary Periodontal Lesion (25).JPG  \n",
            "  inflating: Periapical_Xrays/Primary Periodontal Lesion/Primary Periodontal Lesion (26).JPG  \n",
            "  inflating: Periapical_Xrays/Primary Periodontal Lesion/Primary Periodontal Lesion (27).JPG  \n",
            "  inflating: Periapical_Xrays/Primary Periodontal Lesion/Primary Periodontal Lesion (28).JPG  \n",
            "  inflating: Periapical_Xrays/Primary Periodontal Lesion/Primary Periodontal Lesion (29).JPG  \n",
            "  inflating: Periapical_Xrays/Primary Periodontal Lesion/Primary Periodontal Lesion (3).JPG  \n",
            "  inflating: Periapical_Xrays/Primary Periodontal Lesion/Primary Periodontal Lesion (30).JPG  \n",
            "  inflating: Periapical_Xrays/Primary Periodontal Lesion/Primary Periodontal Lesion (31).JPG  \n",
            "  inflating: Periapical_Xrays/Primary Periodontal Lesion/Primary Periodontal Lesion (32).JPG  \n",
            "  inflating: Periapical_Xrays/Primary Periodontal Lesion/Primary Periodontal Lesion (33).JPG  \n",
            "  inflating: Periapical_Xrays/Primary Periodontal Lesion/Primary Periodontal Lesion (34).JPG  \n",
            "  inflating: Periapical_Xrays/Primary Periodontal Lesion/Primary Periodontal Lesion (35).JPG  \n",
            "  inflating: Periapical_Xrays/Primary Periodontal Lesion/Primary Periodontal Lesion (36).JPG  \n",
            "  inflating: Periapical_Xrays/Primary Periodontal Lesion/Primary Periodontal Lesion (37).JPG  \n",
            "  inflating: Periapical_Xrays/Primary Periodontal Lesion/Primary Periodontal Lesion (38).JPG  \n",
            "  inflating: Periapical_Xrays/Primary Periodontal Lesion/Primary Periodontal Lesion (39).JPG  \n",
            "  inflating: Periapical_Xrays/Primary Periodontal Lesion/Primary Periodontal Lesion (4).JPG  \n",
            "  inflating: Periapical_Xrays/Primary Periodontal Lesion/Primary Periodontal Lesion (40).JPG  \n",
            "  inflating: Periapical_Xrays/Primary Periodontal Lesion/Primary Periodontal Lesion (41).JPG  \n",
            "  inflating: Periapical_Xrays/Primary Periodontal Lesion/Primary Periodontal Lesion (42).JPG  \n",
            "  inflating: Periapical_Xrays/Primary Periodontal Lesion/Primary Periodontal Lesion (43).JPG  \n",
            "  inflating: Periapical_Xrays/Primary Periodontal Lesion/Primary Periodontal Lesion (44).JPG  \n",
            "  inflating: Periapical_Xrays/Primary Periodontal Lesion/Primary Periodontal Lesion (45).JPG  \n",
            "  inflating: Periapical_Xrays/Primary Periodontal Lesion/Primary Periodontal Lesion (46).JPG  \n",
            "  inflating: Periapical_Xrays/Primary Periodontal Lesion/Primary Periodontal Lesion (47).JPG  \n",
            "  inflating: Periapical_Xrays/Primary Periodontal Lesion/Primary Periodontal Lesion (48).JPG  \n",
            "  inflating: Periapical_Xrays/Primary Periodontal Lesion/Primary Periodontal Lesion (49).JPG  \n",
            "  inflating: Periapical_Xrays/Primary Periodontal Lesion/Primary Periodontal Lesion (5).JPG  \n",
            "  inflating: Periapical_Xrays/Primary Periodontal Lesion/Primary Periodontal Lesion (50).JPG  \n",
            "  inflating: Periapical_Xrays/Primary Periodontal Lesion/Primary Periodontal Lesion (51).JPG  \n",
            "  inflating: Periapical_Xrays/Primary Periodontal Lesion/Primary Periodontal Lesion (52).JPG  \n",
            "  inflating: Periapical_Xrays/Primary Periodontal Lesion/Primary Periodontal Lesion (53).JPG  \n",
            "  inflating: Periapical_Xrays/Primary Periodontal Lesion/Primary Periodontal Lesion (54).JPG  \n",
            "  inflating: Periapical_Xrays/Primary Periodontal Lesion/Primary Periodontal Lesion (55).JPG  \n",
            "  inflating: Periapical_Xrays/Primary Periodontal Lesion/Primary Periodontal Lesion (56).JPG  \n",
            "  inflating: Periapical_Xrays/Primary Periodontal Lesion/Primary Periodontal Lesion (57).JPG  \n",
            "  inflating: Periapical_Xrays/Primary Periodontal Lesion/Primary Periodontal Lesion (58).JPG  \n",
            "  inflating: Periapical_Xrays/Primary Periodontal Lesion/Primary Periodontal Lesion (59).JPG  \n",
            "  inflating: Periapical_Xrays/Primary Periodontal Lesion/Primary Periodontal Lesion (6).JPG  \n",
            "  inflating: Periapical_Xrays/Primary Periodontal Lesion/Primary Periodontal Lesion (60).JPG  \n",
            "  inflating: Periapical_Xrays/Primary Periodontal Lesion/Primary Periodontal Lesion (61).JPG  \n",
            "  inflating: Periapical_Xrays/Primary Periodontal Lesion/Primary Periodontal Lesion (62).JPG  \n",
            "  inflating: Periapical_Xrays/Primary Periodontal Lesion/Primary Periodontal Lesion (63).JPG  \n",
            "  inflating: Periapical_Xrays/Primary Periodontal Lesion/Primary Periodontal Lesion (64).JPG  \n",
            "  inflating: Periapical_Xrays/Primary Periodontal Lesion/Primary Periodontal Lesion (65).JPG  \n",
            "  inflating: Periapical_Xrays/Primary Periodontal Lesion/Primary Periodontal Lesion (66).JPG  \n",
            "  inflating: Periapical_Xrays/Primary Periodontal Lesion/Primary Periodontal Lesion (67).JPG  \n",
            "  inflating: Periapical_Xrays/Primary Periodontal Lesion/Primary Periodontal Lesion (68).JPG  \n",
            "  inflating: Periapical_Xrays/Primary Periodontal Lesion/Primary Periodontal Lesion (69).JPG  \n",
            "  inflating: Periapical_Xrays/Primary Periodontal Lesion/Primary Periodontal Lesion (7).JPG  \n",
            "  inflating: Periapical_Xrays/Primary Periodontal Lesion/Primary Periodontal Lesion (70).JPG  \n",
            "  inflating: Periapical_Xrays/Primary Periodontal Lesion/Primary Periodontal Lesion (71).JPG  \n",
            "  inflating: Periapical_Xrays/Primary Periodontal Lesion/Primary Periodontal Lesion (72).JPG  \n",
            "  inflating: Periapical_Xrays/Primary Periodontal Lesion/Primary Periodontal Lesion (73).JPG  \n",
            "  inflating: Periapical_Xrays/Primary Periodontal Lesion/Primary Periodontal Lesion (74).JPG  \n",
            "  inflating: Periapical_Xrays/Primary Periodontal Lesion/Primary Periodontal Lesion (75).JPG  \n",
            "  inflating: Periapical_Xrays/Primary Periodontal Lesion/Primary Periodontal Lesion (76).JPG  \n",
            "  inflating: Periapical_Xrays/Primary Periodontal Lesion/Primary Periodontal Lesion (77).JPG  \n",
            "  inflating: Periapical_Xrays/Primary Periodontal Lesion/Primary Periodontal Lesion (78).JPG  \n",
            "  inflating: Periapical_Xrays/Primary Periodontal Lesion/Primary Periodontal Lesion (79).JPG  \n",
            "  inflating: Periapical_Xrays/Primary Periodontal Lesion/Primary Periodontal Lesion (8).JPG  \n",
            "  inflating: Periapical_Xrays/Primary Periodontal Lesion/Primary Periodontal Lesion (80).JPG  \n",
            "  inflating: Periapical_Xrays/Primary Periodontal Lesion/Primary Periodontal Lesion (81).JPG  \n",
            "  inflating: Periapical_Xrays/Primary Periodontal Lesion/Primary Periodontal Lesion (82).JPG  \n",
            "  inflating: Periapical_Xrays/Primary Periodontal Lesion/Primary Periodontal Lesion (83).JPG  \n",
            "  inflating: Periapical_Xrays/Primary Periodontal Lesion/Primary Periodontal Lesion (84).JPG  \n",
            "  inflating: Periapical_Xrays/Primary Periodontal Lesion/Primary Periodontal Lesion (85).JPG  \n",
            "  inflating: Periapical_Xrays/Primary Periodontal Lesion/Primary Periodontal Lesion (86).JPG  \n",
            "  inflating: Periapical_Xrays/Primary Periodontal Lesion/Primary Periodontal Lesion (87).JPG  \n",
            "  inflating: Periapical_Xrays/Primary Periodontal Lesion/Primary Periodontal Lesion (88).JPG  \n",
            "  inflating: Periapical_Xrays/Primary Periodontal Lesion/Primary Periodontal Lesion (89).JPG  \n",
            "  inflating: Periapical_Xrays/Primary Periodontal Lesion/Primary Periodontal Lesion (9).JPG  \n",
            "  inflating: Periapical_Xrays/Primary Periodontal Lesion/Primary Periodontal Lesion (90).JPG  \n",
            "  inflating: Periapical_Xrays/Primary Periodontal Lesion/Primary Periodontal Lesion (91).JPG  \n",
            "  inflating: Periapical_Xrays/Primary Periodontal Lesion/Primary Periodontal Lesion (92).JPG  \n",
            "  inflating: Periapical_Xrays/Primary Periodontal Lesion/Primary Periodontal Lesion (93).JPG  \n",
            "  inflating: Periapical_Xrays/Primary Periodontal Lesion/Primary Periodontal Lesion (94).JPG  \n",
            "  inflating: Periapical_Xrays/Primary Periodontal Lesion/Primary Periodontal Lesion (95).JPG  \n",
            "  inflating: Periapical_Xrays/Primary Periodontal Lesion/Primary Periodontal Lesion (96).JPG  \n",
            "  inflating: Periapical_Xrays/Primary Periodontal Lesion/Primary Periodontal Lesion (97).JPG  \n",
            "  inflating: Periapical_Xrays/Primary Periodontal Lesion/Primary Periodontal Lesion (98).JPG  \n",
            "  inflating: Periapical_Xrays/Primary Periodontal Lesion/Primary Periodontal Lesion (99).JPG  \n",
            "  inflating: Periapical_Xrays/Primary Periodontal Lesion/Primary Periodontal Lesion.JPG  \n",
            "  inflating: Periapical_Xrays/True Combined Lesions/True Combined Lesion.JPG  \n",
            "  inflating: Periapical_Xrays/True Combined Lesions/True Combined Lesions (10).JPG  \n",
            "  inflating: Periapical_Xrays/True Combined Lesions/True Combined Lesions (100).JPG  \n",
            "  inflating: Periapical_Xrays/True Combined Lesions/True Combined Lesions (101).JPG  \n",
            "  inflating: Periapical_Xrays/True Combined Lesions/True Combined Lesions (102).JPG  \n",
            "  inflating: Periapical_Xrays/True Combined Lesions/True Combined Lesions (103).JPG  \n",
            "  inflating: Periapical_Xrays/True Combined Lesions/True Combined Lesions (104).JPG  \n",
            "  inflating: Periapical_Xrays/True Combined Lesions/True Combined Lesions (105).JPG  \n",
            "  inflating: Periapical_Xrays/True Combined Lesions/True Combined Lesions (106).JPG  \n",
            "  inflating: Periapical_Xrays/True Combined Lesions/True Combined Lesions (107).JPG  \n",
            "  inflating: Periapical_Xrays/True Combined Lesions/True Combined Lesions (108).JPG  \n",
            "  inflating: Periapical_Xrays/True Combined Lesions/True Combined Lesions (109).JPG  \n",
            "  inflating: Periapical_Xrays/True Combined Lesions/True Combined Lesions (11).JPG  \n",
            "  inflating: Periapical_Xrays/True Combined Lesions/True Combined Lesions (110).JPG  \n",
            "  inflating: Periapical_Xrays/True Combined Lesions/True Combined Lesions (111).JPG  \n",
            "  inflating: Periapical_Xrays/True Combined Lesions/True Combined Lesions (112).JPG  \n",
            "  inflating: Periapical_Xrays/True Combined Lesions/True Combined Lesions (113).JPG  \n",
            "  inflating: Periapical_Xrays/True Combined Lesions/True Combined Lesions (114).JPG  \n",
            "  inflating: Periapical_Xrays/True Combined Lesions/True Combined Lesions (115).JPG  \n",
            "  inflating: Periapical_Xrays/True Combined Lesions/True Combined Lesions (116).JPG  \n",
            "  inflating: Periapical_Xrays/True Combined Lesions/True Combined Lesions (117).JPG  \n",
            "  inflating: Periapical_Xrays/True Combined Lesions/True Combined Lesions (118).JPG  \n",
            "  inflating: Periapical_Xrays/True Combined Lesions/True Combined Lesions (119).JPG  \n",
            "  inflating: Periapical_Xrays/True Combined Lesions/True Combined Lesions (12).JPG  \n",
            "  inflating: Periapical_Xrays/True Combined Lesions/True Combined Lesions (120).JPG  \n",
            "  inflating: Periapical_Xrays/True Combined Lesions/True Combined Lesions (121).JPG  \n",
            "  inflating: Periapical_Xrays/True Combined Lesions/True Combined Lesions (122).JPG  \n",
            "  inflating: Periapical_Xrays/True Combined Lesions/True Combined Lesions (123).JPG  \n",
            "  inflating: Periapical_Xrays/True Combined Lesions/True Combined Lesions (124).JPG  \n",
            "  inflating: Periapical_Xrays/True Combined Lesions/True Combined Lesions (125).JPG  \n",
            "  inflating: Periapical_Xrays/True Combined Lesions/True Combined Lesions (126).JPG  \n",
            "  inflating: Periapical_Xrays/True Combined Lesions/True Combined Lesions (127).JPG  \n",
            "  inflating: Periapical_Xrays/True Combined Lesions/True Combined Lesions (128).JPG  \n",
            "  inflating: Periapical_Xrays/True Combined Lesions/True Combined Lesions (129).JPG  \n",
            "  inflating: Periapical_Xrays/True Combined Lesions/True Combined Lesions (13).JPG  \n",
            "  inflating: Periapical_Xrays/True Combined Lesions/True Combined Lesions (130).JPG  \n",
            "  inflating: Periapical_Xrays/True Combined Lesions/True Combined Lesions (14).JPG  \n",
            "  inflating: Periapical_Xrays/True Combined Lesions/True Combined Lesions (15).JPG  \n",
            "  inflating: Periapical_Xrays/True Combined Lesions/True Combined Lesions (16).JPG  \n",
            "  inflating: Periapical_Xrays/True Combined Lesions/True Combined Lesions (17).JPG  \n",
            "  inflating: Periapical_Xrays/True Combined Lesions/True Combined Lesions (18).JPG  \n",
            "  inflating: Periapical_Xrays/True Combined Lesions/True Combined Lesions (19).JPG  \n",
            "  inflating: Periapical_Xrays/True Combined Lesions/True Combined Lesions (2).JPG  \n",
            "  inflating: Periapical_Xrays/True Combined Lesions/True Combined Lesions (20).JPG  \n",
            "  inflating: Periapical_Xrays/True Combined Lesions/True Combined Lesions (21).JPG  \n",
            "  inflating: Periapical_Xrays/True Combined Lesions/True Combined Lesions (22).JPG  \n",
            "  inflating: Periapical_Xrays/True Combined Lesions/True Combined Lesions (23).JPG  \n",
            "  inflating: Periapical_Xrays/True Combined Lesions/True Combined Lesions (24).JPG  \n",
            "  inflating: Periapical_Xrays/True Combined Lesions/True Combined Lesions (25).JPG  \n",
            "  inflating: Periapical_Xrays/True Combined Lesions/True Combined Lesions (26).JPG  \n",
            "  inflating: Periapical_Xrays/True Combined Lesions/True Combined Lesions (27).JPG  \n",
            "  inflating: Periapical_Xrays/True Combined Lesions/True Combined Lesions (28).JPG  \n",
            "  inflating: Periapical_Xrays/True Combined Lesions/True Combined Lesions (29).JPG  \n",
            "  inflating: Periapical_Xrays/True Combined Lesions/True Combined Lesions (3).JPG  \n",
            "  inflating: Periapical_Xrays/True Combined Lesions/True Combined Lesions (30).JPG  \n",
            "  inflating: Periapical_Xrays/True Combined Lesions/True Combined Lesions (31).JPG  \n",
            "  inflating: Periapical_Xrays/True Combined Lesions/True Combined Lesions (32).JPG  \n",
            "  inflating: Periapical_Xrays/True Combined Lesions/True Combined Lesions (33).JPG  \n",
            "  inflating: Periapical_Xrays/True Combined Lesions/True Combined Lesions (34).JPG  \n",
            "  inflating: Periapical_Xrays/True Combined Lesions/True Combined Lesions (35).JPG  \n",
            "  inflating: Periapical_Xrays/True Combined Lesions/True Combined Lesions (36).JPG  \n",
            "  inflating: Periapical_Xrays/True Combined Lesions/True Combined Lesions (37).JPG  \n",
            "  inflating: Periapical_Xrays/True Combined Lesions/True Combined Lesions (38).JPG  \n",
            "  inflating: Periapical_Xrays/True Combined Lesions/True Combined Lesions (39).JPG  \n",
            "  inflating: Periapical_Xrays/True Combined Lesions/True Combined Lesions (4).JPG  \n",
            "  inflating: Periapical_Xrays/True Combined Lesions/True Combined Lesions (40).JPG  \n",
            "  inflating: Periapical_Xrays/True Combined Lesions/True Combined Lesions (41).JPG  \n",
            "  inflating: Periapical_Xrays/True Combined Lesions/True Combined Lesions (42).JPG  \n",
            "  inflating: Periapical_Xrays/True Combined Lesions/True Combined Lesions (43).JPG  \n",
            "  inflating: Periapical_Xrays/True Combined Lesions/True Combined Lesions (44).JPG  \n",
            "  inflating: Periapical_Xrays/True Combined Lesions/True Combined Lesions (45).JPG  \n",
            "  inflating: Periapical_Xrays/True Combined Lesions/True Combined Lesions (46).JPG  \n",
            "  inflating: Periapical_Xrays/True Combined Lesions/True Combined Lesions (47).JPG  \n",
            "  inflating: Periapical_Xrays/True Combined Lesions/True Combined Lesions (48).JPG  \n",
            "  inflating: Periapical_Xrays/True Combined Lesions/True Combined Lesions (49).JPG  \n",
            "  inflating: Periapical_Xrays/True Combined Lesions/True Combined Lesions (5).JPG  \n",
            "  inflating: Periapical_Xrays/True Combined Lesions/True Combined Lesions (50).JPG  \n",
            "  inflating: Periapical_Xrays/True Combined Lesions/True Combined Lesions (51).JPG  \n",
            "  inflating: Periapical_Xrays/True Combined Lesions/True Combined Lesions (52).JPG  \n",
            "  inflating: Periapical_Xrays/True Combined Lesions/True Combined Lesions (53).JPG  \n",
            "  inflating: Periapical_Xrays/True Combined Lesions/True Combined Lesions (54).JPG  \n",
            "  inflating: Periapical_Xrays/True Combined Lesions/True Combined Lesions (55).JPG  \n",
            "  inflating: Periapical_Xrays/True Combined Lesions/True Combined Lesions (56).JPG  \n",
            "  inflating: Periapical_Xrays/True Combined Lesions/True Combined Lesions (57).JPG  \n",
            "  inflating: Periapical_Xrays/True Combined Lesions/True Combined Lesions (58).JPG  \n",
            "  inflating: Periapical_Xrays/True Combined Lesions/True Combined Lesions (59).JPG  \n",
            "  inflating: Periapical_Xrays/True Combined Lesions/True Combined Lesions (6).JPG  \n",
            "  inflating: Periapical_Xrays/True Combined Lesions/True Combined Lesions (60).JPG  \n",
            "  inflating: Periapical_Xrays/True Combined Lesions/True Combined Lesions (61).JPG  \n",
            "  inflating: Periapical_Xrays/True Combined Lesions/True Combined Lesions (62).JPG  \n",
            "  inflating: Periapical_Xrays/True Combined Lesions/True Combined Lesions (63).JPG  \n",
            "  inflating: Periapical_Xrays/True Combined Lesions/True Combined Lesions (64).JPG  \n",
            "  inflating: Periapical_Xrays/True Combined Lesions/True Combined Lesions (65).JPG  \n",
            "  inflating: Periapical_Xrays/True Combined Lesions/True Combined Lesions (66).JPG  \n",
            "  inflating: Periapical_Xrays/True Combined Lesions/True Combined Lesions (67).JPG  \n",
            "  inflating: Periapical_Xrays/True Combined Lesions/True Combined Lesions (68).JPG  \n",
            "  inflating: Periapical_Xrays/True Combined Lesions/True Combined Lesions (69).JPG  \n",
            "  inflating: Periapical_Xrays/True Combined Lesions/True Combined Lesions (7).JPG  \n",
            "  inflating: Periapical_Xrays/True Combined Lesions/True Combined Lesions (70).JPG  \n",
            "  inflating: Periapical_Xrays/True Combined Lesions/True Combined Lesions (71).JPG  \n",
            "  inflating: Periapical_Xrays/True Combined Lesions/True Combined Lesions (72).JPG  \n",
            "  inflating: Periapical_Xrays/True Combined Lesions/True Combined Lesions (73).JPG  \n",
            "  inflating: Periapical_Xrays/True Combined Lesions/True Combined Lesions (74).JPG  \n",
            "  inflating: Periapical_Xrays/True Combined Lesions/True Combined Lesions (75).JPG  \n",
            "  inflating: Periapical_Xrays/True Combined Lesions/True Combined Lesions (76).JPG  \n",
            "  inflating: Periapical_Xrays/True Combined Lesions/True Combined Lesions (77).JPG  \n",
            "  inflating: Periapical_Xrays/True Combined Lesions/True Combined Lesions (78).JPG  \n",
            "  inflating: Periapical_Xrays/True Combined Lesions/True Combined Lesions (79).JPG  \n",
            "  inflating: Periapical_Xrays/True Combined Lesions/True Combined Lesions (8).JPG  \n",
            "  inflating: Periapical_Xrays/True Combined Lesions/True Combined Lesions (80).JPG  \n",
            "  inflating: Periapical_Xrays/True Combined Lesions/True Combined Lesions (81).JPG  \n",
            "  inflating: Periapical_Xrays/True Combined Lesions/True Combined Lesions (82).JPG  \n",
            "  inflating: Periapical_Xrays/True Combined Lesions/True Combined Lesions (83).JPG  \n",
            "  inflating: Periapical_Xrays/True Combined Lesions/True Combined Lesions (84).JPG  \n",
            "  inflating: Periapical_Xrays/True Combined Lesions/True Combined Lesions (85).JPG  \n",
            "  inflating: Periapical_Xrays/True Combined Lesions/True Combined Lesions (86).JPG  \n",
            "  inflating: Periapical_Xrays/True Combined Lesions/True Combined Lesions (87).JPG  \n",
            "  inflating: Periapical_Xrays/True Combined Lesions/True Combined Lesions (88).JPG  \n",
            "  inflating: Periapical_Xrays/True Combined Lesions/True Combined Lesions (89).JPG  \n",
            "  inflating: Periapical_Xrays/True Combined Lesions/True Combined Lesions (9).JPG  \n",
            "  inflating: Periapical_Xrays/True Combined Lesions/True Combined Lesions (90).JPG  \n",
            "  inflating: Periapical_Xrays/True Combined Lesions/True Combined Lesions (91).JPG  \n",
            "  inflating: Periapical_Xrays/True Combined Lesions/True Combined Lesions (92).JPG  \n",
            "  inflating: Periapical_Xrays/True Combined Lesions/True Combined Lesions (93).JPG  \n",
            "  inflating: Periapical_Xrays/True Combined Lesions/True Combined Lesions (94).JPG  \n",
            "  inflating: Periapical_Xrays/True Combined Lesions/True Combined Lesions (95).JPG  \n",
            "  inflating: Periapical_Xrays/True Combined Lesions/True Combined Lesions (96).JPG  \n",
            "  inflating: Periapical_Xrays/True Combined Lesions/True Combined Lesions (97).JPG  \n",
            "  inflating: Periapical_Xrays/True Combined Lesions/True Combined Lesions (98).JPG  \n",
            "  inflating: Periapical_Xrays/True Combined Lesions/True Combined Lesions (99).JPG  \n",
            "  inflating: Periapical_Xrays/True Combined Lesions/True Combined Lesions.JPG  \n"
          ]
        }
      ],
      "source": [
        "!unzip \\*.zip && rm *.zip\n"
      ]
    },
    {
      "cell_type": "markdown",
      "source": [
        "# Display total number of images present in each category"
      ],
      "metadata": {
        "id": "3u1SEqVT79eJ"
      }
    },
    {
      "cell_type": "code",
      "execution_count": 6,
      "metadata": {
        "colab": {
          "base_uri": "https://localhost:8080/"
        },
        "id": "cYcPjw_osPEL",
        "outputId": "6c18d5fd-5b68-44e2-9ff5-31c9b02e41f3"
      },
      "outputs": [
        {
          "output_type": "stream",
          "name": "stdout",
          "text": [
            "There are 122 images of Primary Endo with Secondary Perio.\n",
            "There are 124 images of Primary Endodontic Lesion.\n",
            "There are 39 images of Primary Perio with Secondary Endo.\n",
            "There are 118 images of Primary Periodontal Lesion.\n",
            "There are 131 images of True Combined Lesions.\n"
          ]
        }
      ],
      "source": [
        "# Display total number of images present in each category\n",
        "source_path = '/content/Periapical_Xrays'\n",
        "\n",
        "source_path_Primary_Endo_with_Secondary_Perio = os.path.join(source_path, 'Primary Endo with Secondary Perio')\n",
        "source_path_Primary_Endodontic_Lesion = os.path.join(source_path, 'Primary Endodontic Lesion')\n",
        "source_path_Primary_Perio_with_Secondary_Endo = os.path.join(source_path, 'Primary Perio with Secondary Endo')\n",
        "source_path_Primary_Periodontal_Lesion = os.path.join(source_path, 'Primary Periodontal Lesion')\n",
        "source_path_True_Combined_Lesions = os.path.join(source_path, 'True Combined Lesions')\n",
        "\n",
        "# # Deletes all non-image files (there are two .db files bundled into the dataset)\n",
        "# !find /tmp/PetImages/ -type f ! -name \"*.jpg\" -exec rm {} +\n",
        "\n",
        "# os.listdir returns a list containing all files under the given path\n",
        "print(f\"There are {len(os.listdir(source_path_Primary_Endo_with_Secondary_Perio))} images of Primary Endo with Secondary Perio.\")\n",
        "print(f\"There are {len(os.listdir(source_path_Primary_Endodontic_Lesion))} images of Primary Endodontic Lesion.\")\n",
        "print(f\"There are {len(os.listdir(source_path_Primary_Perio_with_Secondary_Endo))} images of Primary Perio with Secondary Endo.\")\n",
        "print(f\"There are {len(os.listdir(source_path_Primary_Periodontal_Lesion))} images of Primary Periodontal Lesion.\")\n",
        "print(f\"There are {len(os.listdir(source_path_True_Combined_Lesions))} images of True Combined Lesions.\")"
      ]
    },
    {
      "cell_type": "markdown",
      "metadata": {
        "id": "dz-cMnAAsxfZ"
      },
      "source": [
        "\n",
        "\n",
        "# Now we create two trianing and validation directories and in that directories creating subdirectories for each catogory/class."
      ]
    },
    {
      "cell_type": "code",
      "execution_count": 7,
      "metadata": {
        "id": "Yym2ARCBsyIZ"
      },
      "outputs": [],
      "source": [
        "import shutil\n",
        "# Define root directory\n",
        "root_dir = '/content/Xrays'\n",
        "\n",
        "# Empty directory to prevent FileExistsError is the function is run several times\n",
        "if os.path.exists(root_dir):\n",
        "  shutil.rmtree(root_dir)\n",
        "\n",
        "# create_train_val_dirs\n",
        "def create_train_val_dirs(root_path):\n",
        "  \"\"\"\n",
        "  Creates directories for the train and test sets\n",
        "\n",
        "  Args:\n",
        "    root_path (string) - the base directory path to create subdirectories from\n",
        "\n",
        "\n",
        "  \"\"\"\n",
        "\n",
        "\n",
        "\n",
        "  #This for creating training subdirectory\n",
        "  parent_dir = root_path + \"/training\"\n",
        "  path=os.path.join(parent_dir,'Primary Endo with Secondary Perio')\n",
        "  os.makedirs(path)\n",
        "  path=os.path.join(parent_dir,'Primary Endodontic Lesion')\n",
        "  os.makedirs(path)\n",
        "  path=os.path.join(parent_dir,'Primary Perio with Secondary Endo')\n",
        "  os.makedirs(path)\n",
        "  path=os.path.join(parent_dir,'Primary Periodontal Lesion')\n",
        "  os.makedirs(path)\n",
        "  path=os.path.join(parent_dir,'True Combined Lesions')\n",
        "  os.makedirs(path)\n",
        "\n",
        "  # This for creating validation subdirectory\n",
        "  parent_dir=root_path + \"/validation\"\n",
        "  path=os.path.join(parent_dir,'Primary Endo with Secondary Perio')\n",
        "  os.makedirs(path)\n",
        "  path=os.path.join(parent_dir,'Primary Endodontic Lesion')\n",
        "  os.makedirs(path)\n",
        "  path=os.path.join(parent_dir,'Primary Perio with Secondary Endo')\n",
        "  os.makedirs(path)\n",
        "  path=os.path.join(parent_dir,'Primary Periodontal Lesion')\n",
        "  os.makedirs(path)\n",
        "  path=os.path.join(parent_dir,'True Combined Lesions')\n",
        "  os.makedirs(path)\n",
        "\n",
        "\n",
        "\n",
        "\n",
        "\n",
        "\n",
        "try:\n",
        "  create_train_val_dirs(root_path=root_dir)\n",
        "except FileExistsError:\n",
        "  print(\"You should not be seeing this since the upper directory is removed beforehand\")"
      ]
    },
    {
      "cell_type": "code",
      "execution_count": 8,
      "metadata": {
        "colab": {
          "base_uri": "https://localhost:8080/"
        },
        "id": "WOT7y0Igs8_W",
        "outputId": "8b64e711-3aef-4e62-93aa-089e8c6a159c"
      },
      "outputs": [
        {
          "output_type": "stream",
          "name": "stdout",
          "text": [
            "/content/Xrays/validation\n",
            "/content/Xrays/training\n",
            "/content/Xrays/validation/Primary Periodontal Lesion\n",
            "/content/Xrays/validation/Primary Perio with Secondary Endo\n",
            "/content/Xrays/validation/Primary Endo with Secondary Perio\n",
            "/content/Xrays/validation/True Combined Lesions\n",
            "/content/Xrays/validation/Primary Endodontic Lesion\n",
            "/content/Xrays/training/Primary Periodontal Lesion\n",
            "/content/Xrays/training/Primary Perio with Secondary Endo\n",
            "/content/Xrays/training/Primary Endo with Secondary Perio\n",
            "/content/Xrays/training/True Combined Lesions\n",
            "/content/Xrays/training/Primary Endodontic Lesion\n"
          ]
        }
      ],
      "source": [
        "for rootdir, dirs, files in os.walk(root_dir):\n",
        "    for subdir in dirs:\n",
        "        print(os.path.join(rootdir, subdir))"
      ]
    },
    {
      "cell_type": "markdown",
      "source": [
        "# Spliting the data into training and validation sets"
      ],
      "metadata": {
        "id": "-bsgaHt88LjW"
      }
    },
    {
      "cell_type": "code",
      "execution_count": 9,
      "metadata": {
        "id": "6Zm2nmj5tM37"
      },
      "outputs": [],
      "source": [
        "# split_data\n",
        "def split_data(SOURCE_DIR, TRAINING_DIR, VALIDATION_DIR, SPLIT_SIZE):\n",
        "  \"\"\"\n",
        "  Splits the data into train and test sets\n",
        "\n",
        "  Args:\n",
        "    SOURCE_DIR (string): directory path containing the images\n",
        "    TRAINING_DIR (string): directory path to be used for training\n",
        "    VALIDATION_DIR (string): directory path to be used for validation\n",
        "    SPLIT_SIZE (float): proportion of the dataset to be used for training\n",
        "\n",
        "  Returns:\n",
        "    None\n",
        "  \"\"\"\n",
        "\n",
        "  shuffle_list=random.sample(os.listdir(SOURCE_DIR),len(os.listdir(SOURCE_DIR)))\n",
        "\n",
        "  training_number=int(len(shuffle_list)*SPLIT_SIZE)\n",
        "\n",
        "  i=0\n",
        "  target=TRAINING_DIR\n",
        "\n",
        "  for item in shuffle_list:\n",
        "    item_source=os.path.join(SOURCE_DIR,item)\n",
        "    if os.path.getsize(item_source)==0:\n",
        "      print(f'{item}is zero length, so ignoring.')\n",
        "    else:\n",
        "      copyfile(item_source,os.path.join(target,item))\n",
        "      i+=1\n",
        "\n",
        "    if i==training_number:\n",
        "      target=VALIDATION_DIR\n"
      ]
    },
    {
      "cell_type": "code",
      "execution_count": 11,
      "metadata": {
        "colab": {
          "base_uri": "https://localhost:8080/"
        },
        "id": "VjFJpK1NtVaq",
        "outputId": "89e19a8f-9057-49ef-9224-e731c4c6860f"
      },
      "outputs": [
        {
          "output_type": "stream",
          "name": "stdout",
          "text": [
            "\n",
            "\n",
            "Original Primary Endo with Secondary Perio directory has 122 images\n",
            "Original Primary Endodontic Lesion directory has 124 images\n",
            "\n",
            "Orignal Primary Perio with Secondary Endo has 39 images\n",
            "\n",
            "Orignal Primary Periodontal Lesion has 118 images\n",
            "\n",
            "Orignal True Combined Lesions has 131 images\n",
            "\n",
            "There are 120 images of Primary Endo with Secondary Perio directory for training\n",
            "There are 122 images of Primary Endodontic Lesion directory for training\n",
            "There are 39 images of Primary Perio with Secondary Endo directory for training\n",
            "There are 118 images of Primary Periodontal Lesion directory for training\n",
            "There are 128 images of True Combined Lesions directory for training\n",
            "\n",
            "There are 32 images of Primary Endo with Secondary Perio for validation\n",
            "There are 33 images of Primary Endodontic Lesion for validation\n",
            "There are 12 images of  Primary Perio with Secondary Endo for validation\n",
            "There are 33 images of  Primary Periodontal Lesion for validaton\n",
            "There are 34 images of  True Combined Lesions for validation\n"
          ]
        }
      ],
      "source": [
        "\n",
        "\n",
        "# Define paths\n",
        "Pr_En_wi_Se_Pe_SOURCE_DIR = \"/content/Periapical_Xrays/Primary Endo with Secondary Perio\"\n",
        "Pr_En_Le_SOURCE_DIR = \"/content/Periapical_Xrays/Primary Endodontic Lesion\"\n",
        "Pr_Pe_wi_En_SOURCE_DIR=\"/content/Periapical_Xrays/Primary Perio with Secondary Endo\"\n",
        "Pr_Pe_Le_SOURCE_DIR=\"/content/Periapical_Xrays/Primary Periodontal Lesion\"\n",
        "Tr_Co_Le_SOURCE_DIR=\"/content/Periapical_Xrays/True Combined Lesions\"\n",
        "\n",
        "TRAINING_DIR = \"/content/Xrays/training\"\n",
        "VALIDATION_DIR = \"/content/Xrays/validation\"\n",
        "\n",
        "TRAINING_Pr_En_wi_Se_Pe_DIR = os.path.join(TRAINING_DIR, \"Primary Endo with Secondary Perio/\")\n",
        "TRAINING_Pr_En_Le_DIR=os.path.join(TRAINING_DIR,\"Primary Endodontic Lesion/\")\n",
        "TRAINING_Pr_Pe_wi_En_DIR=os.path.join(TRAINING_DIR,\"Primary Perio with Secondary Endo/\")\n",
        "TRAINING_Pr_Pe_Le_DIR=os.path.join(TRAINING_DIR,\"Primary Periodontal Lesion/\")\n",
        "TRAINING_Tr_Co_Le_DIR=os.path.join(TRAINING_DIR,\"True Combined Lesions/\")\n",
        "\n",
        "\n",
        "VALIDATION_Pr_En_wi_Se_Pe_DIR = os.path.join(VALIDATION_DIR, \"Primary Endo with Secondary Perio/\")\n",
        "VALIDATION_Pr_En_Le_DIR=os.path.join(VALIDATION_DIR,\"Primary Endodontic Lesion/\")\n",
        "VALIDATION_Pr_Pe_wi_En_DIR=os.path.join(VALIDATION_DIR,\"Primary Perio with Secondary Endo/\")\n",
        "VALIDATION_Pr_Pe_Le_DIR=os.path.join(VALIDATION_DIR,\"Primary Periodontal Lesion/\")\n",
        "VALIDATION_Tr_Co_Le_DIR=os.path.join(VALIDATION_DIR,\"True Combined Lesions/\")\n",
        "\n",
        "\n",
        "# Define proportion of images used for training\n",
        "split_size = .86\n",
        "\n",
        "# Run the function\n",
        "# NOTE: Messages about zero length images should be printed out\n",
        "split_data(Pr_En_wi_Se_Pe_SOURCE_DIR, TRAINING_Pr_En_wi_Se_Pe_DIR,VALIDATION_Pr_En_wi_Se_Pe_DIR, split_size)\n",
        "split_data(Pr_En_Le_SOURCE_DIR, TRAINING_Pr_En_Le_DIR,VALIDATION_Pr_En_Le_DIR, split_size)\n",
        "split_data(Pr_Pe_wi_En_SOURCE_DIR,TRAINING_Pr_Pe_wi_En_DIR,VALIDATION_Pr_Pe_wi_En_DIR,split_size)\n",
        "split_data(Pr_Pe_Le_SOURCE_DIR,TRAINING_Pr_Pe_Le_DIR,VALIDATION_Pr_Pe_Le_DIR,split_size)\n",
        "split_data(Tr_Co_Le_SOURCE_DIR,TRAINING_Tr_Co_Le_DIR,VALIDATION_Tr_Co_Le_DIR,split_size)\n",
        "\n",
        "# Check that the number of images matches the expected output\n",
        "\n",
        "# Your function should perform copies rather than moving images so original directories should contain unchanged images\n",
        "print(f\"\\n\\nOriginal Primary Endo with Secondary Perio directory has {len(os.listdir(Pr_En_wi_Se_Pe_SOURCE_DIR))} images\")\n",
        "print(f\"Original Primary Endodontic Lesion directory has {len(os.listdir(Pr_En_Le_SOURCE_DIR))} images\\n\")\n",
        "print(f\"Orignal Primary Perio with Secondary Endo has {len(os.listdir(Pr_Pe_wi_En_SOURCE_DIR))} images\\n\")\n",
        "print(f\"Orignal Primary Periodontal Lesion has {len(os.listdir(Pr_Pe_Le_SOURCE_DIR))} images\\n\")\n",
        "print(f\"Orignal True Combined Lesions has {len(os.listdir(Tr_Co_Le_SOURCE_DIR))} images\\n\")\n",
        "\n",
        "# Training and validation splits\n",
        "print(f\"There are {len(os.listdir(TRAINING_Pr_En_wi_Se_Pe_DIR))} images of Primary Endo with Secondary Perio directory for training\")\n",
        "print(f\"There are {len(os.listdir(TRAINING_Pr_En_Le_DIR))} images of Primary Endodontic Lesion directory for training\")\n",
        "print(f\"There are {len(os.listdir(TRAINING_Pr_Pe_wi_En_DIR))} images of Primary Perio with Secondary Endo directory for training\")\n",
        "print(f\"There are {len(os.listdir(TRAINING_Pr_Pe_Le_DIR))} images of Primary Periodontal Lesion directory for training\")\n",
        "print(f\"There are {len(os.listdir(TRAINING_Tr_Co_Le_DIR))} images of True Combined Lesions directory for training\\n\")\n",
        "\n",
        "print(f\"There are {len(os.listdir(VALIDATION_Pr_En_wi_Se_Pe_DIR))} images of Primary Endo with Secondary Perio for validation\")\n",
        "print(f\"There are {len(os.listdir(VALIDATION_Pr_En_Le_DIR))} images of Primary Endodontic Lesion for validation\")\n",
        "print(f\"There are {len(os.listdir(VALIDATION_Pr_Pe_wi_En_DIR))} images of  Primary Perio with Secondary Endo for validation\")\n",
        "print(f\"There are {len(os.listdir(VALIDATION_Pr_Pe_Le_DIR))} images of  Primary Periodontal Lesion for validaton\")\n",
        "print(f\"There are {len(os.listdir(VALIDATION_Tr_Co_Le_DIR))} images of  True Combined Lesions for validation\")"
      ]
    },
    {
      "cell_type": "markdown",
      "source": [
        "**2- Loading the pretrained Vgg16 Model**"
      ],
      "metadata": {
        "id": "SPaLKz1l8W2K"
      }
    },
    {
      "cell_type": "code",
      "execution_count": 12,
      "metadata": {
        "id": "alqfIrT2wCJq",
        "colab": {
          "base_uri": "https://localhost:8080/"
        },
        "outputId": "45d7602e-fb4f-4cd7-e6bd-9f863d46b613"
      },
      "outputs": [
        {
          "output_type": "stream",
          "name": "stdout",
          "text": [
            "Downloading data from https://storage.googleapis.com/tensorflow/keras-applications/vgg16/vgg16_weights_tf_dim_ordering_tf_kernels_notop.h5\n",
            "58889256/58889256 [==============================] - 0s 0us/step\n"
          ]
        }
      ],
      "source": [
        "conv_base = VGG16(\n",
        "    weights='imagenet',\n",
        "    include_top = False,\n",
        "    input_shape=(256,256,3)\n",
        ")"
      ]
    },
    {
      "cell_type": "code",
      "execution_count": null,
      "metadata": {
        "colab": {
          "base_uri": "https://localhost:8080/"
        },
        "id": "p0XSJwPGVTo9",
        "outputId": "48fa928d-7765-4824-c84e-c2e0ab145f57"
      },
      "outputs": [
        {
          "output_type": "stream",
          "name": "stdout",
          "text": [
            "Model: \"vgg16\"\n",
            "_________________________________________________________________\n",
            " Layer (type)                Output Shape              Param #   \n",
            "=================================================================\n",
            " input_1 (InputLayer)        [(None, 256, 256, 3)]     0         \n",
            "                                                                 \n",
            " block1_conv1 (Conv2D)       (None, 256, 256, 64)      1792      \n",
            "                                                                 \n",
            " block1_conv2 (Conv2D)       (None, 256, 256, 64)      36928     \n",
            "                                                                 \n",
            " block1_pool (MaxPooling2D)  (None, 128, 128, 64)      0         \n",
            "                                                                 \n",
            " block2_conv1 (Conv2D)       (None, 128, 128, 128)     73856     \n",
            "                                                                 \n",
            " block2_conv2 (Conv2D)       (None, 128, 128, 128)     147584    \n",
            "                                                                 \n",
            " block2_pool (MaxPooling2D)  (None, 64, 64, 128)       0         \n",
            "                                                                 \n",
            " block3_conv1 (Conv2D)       (None, 64, 64, 256)       295168    \n",
            "                                                                 \n",
            " block3_conv2 (Conv2D)       (None, 64, 64, 256)       590080    \n",
            "                                                                 \n",
            " block3_conv3 (Conv2D)       (None, 64, 64, 256)       590080    \n",
            "                                                                 \n",
            " block3_pool (MaxPooling2D)  (None, 32, 32, 256)       0         \n",
            "                                                                 \n",
            " block4_conv1 (Conv2D)       (None, 32, 32, 512)       1180160   \n",
            "                                                                 \n",
            " block4_conv2 (Conv2D)       (None, 32, 32, 512)       2359808   \n",
            "                                                                 \n",
            " block4_conv3 (Conv2D)       (None, 32, 32, 512)       2359808   \n",
            "                                                                 \n",
            " block4_pool (MaxPooling2D)  (None, 16, 16, 512)       0         \n",
            "                                                                 \n",
            " block5_conv1 (Conv2D)       (None, 16, 16, 512)       2359808   \n",
            "                                                                 \n",
            " block5_conv2 (Conv2D)       (None, 16, 16, 512)       2359808   \n",
            "                                                                 \n",
            " block5_conv3 (Conv2D)       (None, 16, 16, 512)       2359808   \n",
            "                                                                 \n",
            " block5_pool (MaxPooling2D)  (None, 8, 8, 512)         0         \n",
            "                                                                 \n",
            "=================================================================\n",
            "Total params: 14,714,688\n",
            "Trainable params: 14,714,688\n",
            "Non-trainable params: 0\n",
            "_________________________________________________________________\n"
          ]
        }
      ],
      "source": [
        "conv_base.summary()"
      ]
    },
    {
      "cell_type": "markdown",
      "source": [
        "**3- Freezing the desired layers**"
      ],
      "metadata": {
        "id": "ooxF6i158mIC"
      }
    },
    {
      "cell_type": "code",
      "execution_count": 13,
      "metadata": {
        "id": "ChOP0Oa0VYUi",
        "colab": {
          "base_uri": "https://localhost:8080/"
        },
        "outputId": "7eb7f7c1-aee3-4fec-d497-e961df24e2ba"
      },
      "outputs": [
        {
          "output_type": "stream",
          "name": "stdout",
          "text": [
            "input_1 False\n",
            "block1_conv1 False\n",
            "block1_conv2 False\n",
            "block1_pool False\n",
            "block2_conv1 False\n",
            "block2_conv2 False\n",
            "block2_pool False\n",
            "block3_conv1 False\n",
            "block3_conv2 False\n",
            "block3_conv3 False\n",
            "block3_pool False\n",
            "block4_conv1 False\n",
            "block4_conv2 False\n",
            "block4_conv3 False\n",
            "block4_pool False\n",
            "block5_conv1 True\n",
            "block5_conv2 True\n",
            "block5_conv3 True\n",
            "block5_pool True\n"
          ]
        }
      ],
      "source": [
        "conv_base.trainable = True\n",
        "set_trainable = False\n",
        "\n",
        "for layer in conv_base.layers:\n",
        "  if layer.name == 'block5_conv1':\n",
        "    set_trainable = True\n",
        "  if set_trainable:\n",
        "    layer.trainable = True\n",
        "  else:\n",
        "    layer.trainable = False\n",
        "\n",
        "for layer in conv_base.layers:\n",
        "  print(layer.name,layer.trainable)"
      ]
    },
    {
      "cell_type": "markdown",
      "source": [
        "**4- Defining and adding our own layers at the top of pretrained model**"
      ],
      "metadata": {
        "id": "I2xYStK_8xHo"
      }
    },
    {
      "cell_type": "code",
      "source": [
        "model = Sequential()\n",
        "\n",
        "model.add(conv_base)\n",
        "model.add(Flatten())\n",
        "model.add(Dense(512,activation='relu'))\n",
        "model.add(Dropout(0.5))\n",
        "model.add(Dense(5,activation='softmax'))"
      ],
      "metadata": {
        "id": "RtJwYd6OulDj"
      },
      "execution_count": 14,
      "outputs": []
    },
    {
      "cell_type": "code",
      "execution_count": null,
      "metadata": {
        "colab": {
          "base_uri": "https://localhost:8080/"
        },
        "id": "XzwmDOaRWxdi",
        "outputId": "f7742840-4c85-4d52-e8fc-aba0e28f7a40"
      },
      "outputs": [
        {
          "output_type": "stream",
          "name": "stdout",
          "text": [
            "Model: \"sequential_1\"\n",
            "_________________________________________________________________\n",
            " Layer (type)                Output Shape              Param #   \n",
            "=================================================================\n",
            " vgg16 (Functional)          (None, 7, 7, 512)         14714688  \n",
            "                                                                 \n",
            " flatten_1 (Flatten)         (None, 25088)             0         \n",
            "                                                                 \n",
            " dropout_1 (Dropout)         (None, 25088)             0         \n",
            "                                                                 \n",
            " dense_2 (Dense)             (None, 1024)              25691136  \n",
            "                                                                 \n",
            " dense_3 (Dense)             (None, 5)                 5125      \n",
            "                                                                 \n",
            "=================================================================\n",
            "Total params: 40,410,949\n",
            "Trainable params: 32,775,685\n",
            "Non-trainable params: 7,635,264\n",
            "_________________________________________________________________\n"
          ]
        }
      ],
      "source": [
        "# Print the model summary. See your dense network connected at the end.\n",
        "model.summary()"
      ]
    },
    {
      "cell_type": "markdown",
      "source": [
        "**5- Compiling the Model**"
      ],
      "metadata": {
        "id": "18qnkfsE9ADW"
      }
    },
    {
      "cell_type": "code",
      "execution_count": 15,
      "metadata": {
        "id": "EvuLSl0BdZpR"
      },
      "outputs": [],
      "source": [
        "model.compile(loss = 'categorical_crossentropy', optimizer=keras.optimizers.RMSprop(learning_rate=0.00001), metrics=['accuracy'])"
      ]
    },
    {
      "cell_type": "markdown",
      "source": [
        "**6- Defining the data generators and applying Data Augmentation techniques on training data**"
      ],
      "metadata": {
        "id": "Wm3oudKt9Jo6"
      }
    },
    {
      "cell_type": "code",
      "execution_count": 17,
      "metadata": {
        "id": "7FHdc0G7bUO7",
        "colab": {
          "base_uri": "https://localhost:8080/"
        },
        "outputId": "03b87c7a-3cdd-4926-ec6a-a57963104dcd"
      },
      "outputs": [
        {
          "output_type": "stream",
          "name": "stdout",
          "text": [
            "Found 527 images belonging to 5 classes.\n"
          ]
        }
      ],
      "source": [
        "# Add our data-augmentation parameters to ImageDataGenerator\n",
        "train_datagen = ImageDataGenerator(rescale = 1./255.,\n",
        "                                    vertical_flip=True,\n",
        "                                    horizontal_flip = True,\n",
        "\n",
        "                                  #  shear_range=0.2,\n",
        "                                  #  zoom_range=0.2,\n",
        "\n",
        "\n",
        "                                  #  rotation_range=0.02,\n",
        "                                  #  fill_mode='nearest'\n",
        ")\n",
        "train_dir='/content/Xrays/training'\n",
        "# Flow training images in batches of 20 using train_datagen generator\n",
        "train_generator = train_datagen.flow_from_directory(train_dir,\n",
        "                                                    batch_size = 16,\n",
        "                                                    class_mode = 'categorical',\n",
        "                                                    target_size = (256, 256))"
      ]
    },
    {
      "cell_type": "code",
      "execution_count": 18,
      "metadata": {
        "colab": {
          "base_uri": "https://localhost:8080/"
        },
        "id": "KqKcc1zlRLdO",
        "outputId": "8b162c7d-9941-43c1-b395-27ec7142986c"
      },
      "outputs": [
        {
          "output_type": "stream",
          "name": "stdout",
          "text": [
            "Found 144 images belonging to 5 classes.\n"
          ]
        }
      ],
      "source": [
        "# Add our data-augmentation parameters to ImageDataGenerator\n",
        "validation_datagen = ImageDataGenerator(rescale = 1./255.)\n",
        "validation_dir='/content/Xrays/validation'\n",
        "# Flow training images in batches of 20 using train_datagen generator\n",
        "validation_generator = validation_datagen.flow_from_directory(validation_dir,\n",
        "                                                  class_mode = 'categorical',\n",
        "                                                   batch_size=8,\n",
        "                                                  target_size = (256, 256))"
      ]
    },
    {
      "cell_type": "markdown",
      "source": [
        "**7- Training the Model**"
      ],
      "metadata": {
        "id": "qIakSwA49Ysp"
      }
    },
    {
      "cell_type": "code",
      "execution_count": 21,
      "metadata": {
        "colab": {
          "base_uri": "https://localhost:8080/"
        },
        "id": "3qBH9H_ucyCT",
        "outputId": "885ee4f0-c8d3-422d-f577-d9bdce9a1b35"
      },
      "outputs": [
        {
          "output_type": "stream",
          "name": "stdout",
          "text": [
            "Epoch 1/100\n",
            "32/32 [==============================] - 6s 195ms/step - loss: 1.1656 - accuracy: 0.5108 - val_loss: 1.1221 - val_accuracy: 0.6042\n",
            "Epoch 2/100\n",
            "32/32 [==============================] - 6s 178ms/step - loss: 1.1066 - accuracy: 0.5684 - val_loss: 1.0741 - val_accuracy: 0.6181\n",
            "Epoch 3/100\n",
            "32/32 [==============================] - 6s 199ms/step - loss: 1.0918 - accuracy: 0.5558 - val_loss: 1.0697 - val_accuracy: 0.6042\n",
            "Epoch 4/100\n",
            "32/32 [==============================] - 6s 174ms/step - loss: 1.0830 - accuracy: 0.5636 - val_loss: 1.0333 - val_accuracy: 0.6111\n",
            "Epoch 5/100\n",
            "32/32 [==============================] - 6s 177ms/step - loss: 1.0553 - accuracy: 0.5734 - val_loss: 1.0221 - val_accuracy: 0.6319\n",
            "Epoch 6/100\n",
            "32/32 [==============================] - 6s 176ms/step - loss: 1.0091 - accuracy: 0.6164 - val_loss: 0.9930 - val_accuracy: 0.6250\n",
            "Epoch 7/100\n",
            "32/32 [==============================] - 6s 180ms/step - loss: 0.9718 - accuracy: 0.6419 - val_loss: 0.9949 - val_accuracy: 0.6111\n",
            "Epoch 8/100\n",
            "32/32 [==============================] - 7s 200ms/step - loss: 1.0004 - accuracy: 0.5969 - val_loss: 0.9356 - val_accuracy: 0.6458\n",
            "Epoch 9/100\n",
            "32/32 [==============================] - 6s 200ms/step - loss: 0.9210 - accuracy: 0.6204 - val_loss: 0.9169 - val_accuracy: 0.6389\n",
            "Epoch 10/100\n",
            "32/32 [==============================] - 6s 177ms/step - loss: 0.8855 - accuracy: 0.6693 - val_loss: 0.8859 - val_accuracy: 0.6875\n",
            "Epoch 11/100\n",
            "32/32 [==============================] - 7s 208ms/step - loss: 0.8406 - accuracy: 0.7123 - val_loss: 0.8730 - val_accuracy: 0.6458\n",
            "Epoch 12/100\n",
            "32/32 [==============================] - 6s 178ms/step - loss: 0.8826 - accuracy: 0.6732 - val_loss: 0.8175 - val_accuracy: 0.7431\n",
            "Epoch 13/100\n",
            "32/32 [==============================] - 6s 176ms/step - loss: 0.8157 - accuracy: 0.7025 - val_loss: 0.8207 - val_accuracy: 0.7222\n",
            "Epoch 14/100\n",
            "32/32 [==============================] - 6s 199ms/step - loss: 0.8171 - accuracy: 0.7025 - val_loss: 0.7896 - val_accuracy: 0.7222\n",
            "Epoch 15/100\n",
            "32/32 [==============================] - 6s 181ms/step - loss: 0.7787 - accuracy: 0.7202 - val_loss: 0.7629 - val_accuracy: 0.7847\n",
            "Epoch 16/100\n",
            "32/32 [==============================] - 6s 180ms/step - loss: 0.7443 - accuracy: 0.7378 - val_loss: 0.7419 - val_accuracy: 0.7639\n",
            "Epoch 17/100\n",
            "32/32 [==============================] - 6s 200ms/step - loss: 0.7147 - accuracy: 0.7339 - val_loss: 0.7234 - val_accuracy: 0.7639\n",
            "Epoch 18/100\n",
            "32/32 [==============================] - 6s 176ms/step - loss: 0.7247 - accuracy: 0.7339 - val_loss: 0.6600 - val_accuracy: 0.7847\n",
            "Epoch 19/100\n",
            "32/32 [==============================] - 7s 208ms/step - loss: 0.6956 - accuracy: 0.7515 - val_loss: 0.6519 - val_accuracy: 0.7917\n",
            "Epoch 20/100\n",
            "32/32 [==============================] - 6s 177ms/step - loss: 0.6827 - accuracy: 0.7593 - val_loss: 0.6742 - val_accuracy: 0.7847\n",
            "Epoch 21/100\n",
            "32/32 [==============================] - 6s 178ms/step - loss: 0.6213 - accuracy: 0.8004 - val_loss: 0.6081 - val_accuracy: 0.8125\n",
            "Epoch 22/100\n",
            "32/32 [==============================] - 7s 205ms/step - loss: 0.6527 - accuracy: 0.7984 - val_loss: 0.5741 - val_accuracy: 0.8264\n",
            "Epoch 23/100\n",
            "32/32 [==============================] - 6s 201ms/step - loss: 0.6070 - accuracy: 0.7750 - val_loss: 0.5191 - val_accuracy: 0.8681\n",
            "Epoch 24/100\n",
            "32/32 [==============================] - 6s 179ms/step - loss: 0.5887 - accuracy: 0.8258 - val_loss: 0.5114 - val_accuracy: 0.8819\n",
            "Epoch 25/100\n",
            "32/32 [==============================] - 6s 196ms/step - loss: 0.5910 - accuracy: 0.7926 - val_loss: 0.4873 - val_accuracy: 0.8958\n",
            "Epoch 26/100\n",
            "32/32 [==============================] - 6s 177ms/step - loss: 0.5459 - accuracy: 0.8317 - val_loss: 0.4965 - val_accuracy: 0.8750\n",
            "Epoch 27/100\n",
            "32/32 [==============================] - 7s 231ms/step - loss: 0.4848 - accuracy: 0.8571 - val_loss: 0.4441 - val_accuracy: 0.8750\n",
            "Epoch 28/100\n",
            "32/32 [==============================] - 6s 179ms/step - loss: 0.5006 - accuracy: 0.8415 - val_loss: 0.4295 - val_accuracy: 0.9236\n",
            "Epoch 29/100\n",
            "32/32 [==============================] - 6s 201ms/step - loss: 0.4516 - accuracy: 0.8689 - val_loss: 0.4726 - val_accuracy: 0.8681\n",
            "Epoch 30/100\n",
            "32/32 [==============================] - 6s 201ms/step - loss: 0.4874 - accuracy: 0.8513 - val_loss: 0.4211 - val_accuracy: 0.8611\n",
            "Epoch 31/100\n",
            "32/32 [==============================] - 6s 176ms/step - loss: 0.4493 - accuracy: 0.8513 - val_loss: 0.3720 - val_accuracy: 0.9375\n",
            "Epoch 32/100\n",
            "32/32 [==============================] - 6s 201ms/step - loss: 0.4541 - accuracy: 0.8571 - val_loss: 0.3627 - val_accuracy: 0.9028\n",
            "Epoch 33/100\n",
            "32/32 [==============================] - 6s 176ms/step - loss: 0.3972 - accuracy: 0.8865 - val_loss: 0.3674 - val_accuracy: 0.8958\n",
            "Epoch 34/100\n",
            "32/32 [==============================] - 6s 201ms/step - loss: 0.4055 - accuracy: 0.8708 - val_loss: 0.3109 - val_accuracy: 0.9514\n",
            "Epoch 35/100\n",
            "32/32 [==============================] - 6s 202ms/step - loss: 0.3322 - accuracy: 0.9041 - val_loss: 0.2827 - val_accuracy: 0.9444\n",
            "Epoch 36/100\n",
            "32/32 [==============================] - 6s 178ms/step - loss: 0.3319 - accuracy: 0.9217 - val_loss: 0.3041 - val_accuracy: 0.9375\n",
            "Epoch 37/100\n",
            "32/32 [==============================] - 6s 200ms/step - loss: 0.3669 - accuracy: 0.8924 - val_loss: 0.2694 - val_accuracy: 0.9306\n",
            "Epoch 38/100\n",
            "32/32 [==============================] - 7s 218ms/step - loss: 0.3385 - accuracy: 0.8982 - val_loss: 0.2672 - val_accuracy: 0.9375\n",
            "Epoch 39/100\n",
            "32/32 [==============================] - 6s 179ms/step - loss: 0.3100 - accuracy: 0.9119 - val_loss: 0.2232 - val_accuracy: 0.9583\n",
            "Epoch 40/100\n",
            "32/32 [==============================] - 6s 193ms/step - loss: 0.2638 - accuracy: 0.9315 - val_loss: 0.2083 - val_accuracy: 0.9583\n",
            "Epoch 41/100\n",
            "32/32 [==============================] - 7s 219ms/step - loss: 0.2702 - accuracy: 0.9217 - val_loss: 0.2620 - val_accuracy: 0.9444\n",
            "Epoch 42/100\n",
            "32/32 [==============================] - 6s 176ms/step - loss: 0.2812 - accuracy: 0.9276 - val_loss: 0.2003 - val_accuracy: 0.9444\n",
            "Epoch 43/100\n",
            "32/32 [==============================] - 6s 196ms/step - loss: 0.2578 - accuracy: 0.9315 - val_loss: 0.2578 - val_accuracy: 0.9375\n",
            "Epoch 44/100\n",
            "32/32 [==============================] - 6s 179ms/step - loss: 0.2632 - accuracy: 0.9295 - val_loss: 0.1787 - val_accuracy: 0.9653\n",
            "Epoch 45/100\n",
            "32/32 [==============================] - 6s 187ms/step - loss: 0.2316 - accuracy: 0.9335 - val_loss: 0.1741 - val_accuracy: 0.9653\n",
            "Epoch 46/100\n",
            "32/32 [==============================] - 6s 177ms/step - loss: 0.2298 - accuracy: 0.9472 - val_loss: 0.2421 - val_accuracy: 0.9444\n",
            "Epoch 47/100\n",
            "32/32 [==============================] - 6s 202ms/step - loss: 0.2044 - accuracy: 0.9511 - val_loss: 0.1964 - val_accuracy: 0.9514\n",
            "Epoch 48/100\n",
            "32/32 [==============================] - 6s 181ms/step - loss: 0.2285 - accuracy: 0.9511 - val_loss: 0.1729 - val_accuracy: 0.9792\n",
            "Epoch 49/100\n",
            "32/32 [==============================] - 6s 175ms/step - loss: 0.2218 - accuracy: 0.9354 - val_loss: 0.1989 - val_accuracy: 0.9514\n",
            "Epoch 50/100\n",
            "32/32 [==============================] - 6s 199ms/step - loss: 0.1898 - accuracy: 0.9530 - val_loss: 0.1362 - val_accuracy: 0.9792\n",
            "Epoch 51/100\n",
            "32/32 [==============================] - 6s 178ms/step - loss: 0.1708 - accuracy: 0.9569 - val_loss: 0.1621 - val_accuracy: 0.9722\n",
            "Epoch 52/100\n",
            "32/32 [==============================] - 6s 178ms/step - loss: 0.1700 - accuracy: 0.9530 - val_loss: 0.1613 - val_accuracy: 0.9583\n",
            "Epoch 53/100\n",
            "32/32 [==============================] - 6s 199ms/step - loss: 0.1564 - accuracy: 0.9726 - val_loss: 0.1297 - val_accuracy: 0.9653\n",
            "Epoch 54/100\n",
            "32/32 [==============================] - 6s 177ms/step - loss: 0.1610 - accuracy: 0.9589 - val_loss: 0.1292 - val_accuracy: 0.9722\n",
            "Epoch 55/100\n",
            "32/32 [==============================] - 6s 198ms/step - loss: 0.1366 - accuracy: 0.9785 - val_loss: 0.1523 - val_accuracy: 0.9583\n",
            "Epoch 56/100\n",
            "32/32 [==============================] - 6s 176ms/step - loss: 0.1590 - accuracy: 0.9628 - val_loss: 0.1226 - val_accuracy: 0.9722\n",
            "Epoch 57/100\n",
            "32/32 [==============================] - 6s 202ms/step - loss: 0.1398 - accuracy: 0.9765 - val_loss: 0.1036 - val_accuracy: 0.9792\n",
            "Epoch 58/100\n",
            "32/32 [==============================] - 6s 202ms/step - loss: 0.1309 - accuracy: 0.9687 - val_loss: 0.1108 - val_accuracy: 0.9792\n",
            "Epoch 59/100\n",
            "32/32 [==============================] - 7s 217ms/step - loss: 0.1399 - accuracy: 0.9667 - val_loss: 0.0979 - val_accuracy: 0.9792\n",
            "Epoch 60/100\n",
            "32/32 [==============================] - 6s 177ms/step - loss: 0.1290 - accuracy: 0.9726 - val_loss: 0.0817 - val_accuracy: 0.9792\n",
            "Epoch 61/100\n",
            "32/32 [==============================] - 6s 192ms/step - loss: 0.1117 - accuracy: 0.9785 - val_loss: 0.0968 - val_accuracy: 0.9722\n",
            "Epoch 62/100\n",
            "32/32 [==============================] - 6s 199ms/step - loss: 0.1053 - accuracy: 0.9765 - val_loss: 0.0776 - val_accuracy: 0.9792\n",
            "Epoch 63/100\n",
            "32/32 [==============================] - 7s 233ms/step - loss: 0.0933 - accuracy: 0.9824 - val_loss: 0.1349 - val_accuracy: 0.9722\n",
            "Epoch 64/100\n",
            "32/32 [==============================] - 6s 180ms/step - loss: 0.1146 - accuracy: 0.9746 - val_loss: 0.0904 - val_accuracy: 0.9861\n",
            "Epoch 65/100\n",
            "32/32 [==============================] - 6s 202ms/step - loss: 0.0951 - accuracy: 0.9843 - val_loss: 0.0973 - val_accuracy: 0.9653\n",
            "Epoch 66/100\n",
            "32/32 [==============================] - 6s 181ms/step - loss: 0.0965 - accuracy: 0.9785 - val_loss: 0.0880 - val_accuracy: 0.9861\n",
            "Epoch 67/100\n",
            "32/32 [==============================] - 7s 205ms/step - loss: 0.0935 - accuracy: 0.9746 - val_loss: 0.1722 - val_accuracy: 0.9722\n",
            "Epoch 68/100\n",
            "32/32 [==============================] - 6s 180ms/step - loss: 0.0894 - accuracy: 0.9785 - val_loss: 0.1052 - val_accuracy: 0.9653\n",
            "Epoch 69/100\n",
            "32/32 [==============================] - 6s 200ms/step - loss: 0.0904 - accuracy: 0.9804 - val_loss: 0.0783 - val_accuracy: 0.9722\n",
            "Epoch 70/100\n",
            "32/32 [==============================] - 6s 179ms/step - loss: 0.0734 - accuracy: 0.9922 - val_loss: 0.0964 - val_accuracy: 0.9722\n",
            "Epoch 71/100\n",
            "32/32 [==============================] - 6s 179ms/step - loss: 0.0729 - accuracy: 0.9883 - val_loss: 0.0700 - val_accuracy: 0.9792\n",
            "Epoch 72/100\n",
            "32/32 [==============================] - 6s 182ms/step - loss: 0.0662 - accuracy: 0.9843 - val_loss: 0.1187 - val_accuracy: 0.9722\n",
            "Epoch 73/100\n",
            "32/32 [==============================] - 6s 187ms/step - loss: 0.0803 - accuracy: 0.9824 - val_loss: 0.0610 - val_accuracy: 0.9722\n",
            "Epoch 74/100\n",
            "32/32 [==============================] - 7s 217ms/step - loss: 0.0649 - accuracy: 0.9883 - val_loss: 0.0933 - val_accuracy: 0.9792\n",
            "Epoch 75/100\n",
            "32/32 [==============================] - 6s 186ms/step - loss: 0.0533 - accuracy: 0.9922 - val_loss: 0.0579 - val_accuracy: 0.9861\n",
            "Epoch 76/100\n",
            "32/32 [==============================] - 6s 176ms/step - loss: 0.0566 - accuracy: 0.9961 - val_loss: 0.0812 - val_accuracy: 0.9722\n",
            "Epoch 77/100\n",
            "32/32 [==============================] - 6s 177ms/step - loss: 0.0678 - accuracy: 0.9883 - val_loss: 0.0707 - val_accuracy: 0.9722\n",
            "Epoch 78/100\n",
            "32/32 [==============================] - 6s 179ms/step - loss: 0.0492 - accuracy: 0.9961 - val_loss: 0.0553 - val_accuracy: 0.9861\n",
            "Epoch 79/100\n",
            "32/32 [==============================] - 6s 179ms/step - loss: 0.0512 - accuracy: 0.9941 - val_loss: 0.0969 - val_accuracy: 0.9722\n",
            "Epoch 80/100\n",
            "32/32 [==============================] - 7s 204ms/step - loss: 0.0531 - accuracy: 0.9941 - val_loss: 0.1003 - val_accuracy: 0.9722\n",
            "Epoch 81/100\n",
            "32/32 [==============================] - 6s 180ms/step - loss: 0.0453 - accuracy: 0.9961 - val_loss: 0.0789 - val_accuracy: 0.9792\n",
            "Epoch 82/100\n",
            "32/32 [==============================] - 7s 229ms/step - loss: 0.0483 - accuracy: 0.9961 - val_loss: 0.0650 - val_accuracy: 0.9722\n",
            "Epoch 83/100\n",
            "32/32 [==============================] - 6s 181ms/step - loss: 0.0511 - accuracy: 0.9902 - val_loss: 0.0698 - val_accuracy: 0.9722\n",
            "Epoch 84/100\n",
            "32/32 [==============================] - 6s 179ms/step - loss: 0.0308 - accuracy: 1.0000 - val_loss: 0.0833 - val_accuracy: 0.9792\n",
            "Epoch 85/100\n",
            "32/32 [==============================] - 6s 189ms/step - loss: 0.0417 - accuracy: 0.9922 - val_loss: 0.0642 - val_accuracy: 0.9792\n",
            "Epoch 86/100\n",
            "32/32 [==============================] - 6s 177ms/step - loss: 0.0468 - accuracy: 0.9883 - val_loss: 0.0615 - val_accuracy: 0.9792\n",
            "Epoch 87/100\n",
            "32/32 [==============================] - 7s 202ms/step - loss: 0.0227 - accuracy: 0.9980 - val_loss: 0.0720 - val_accuracy: 0.9722\n",
            "Epoch 88/100\n",
            "32/32 [==============================] - 7s 208ms/step - loss: 0.0514 - accuracy: 0.9902 - val_loss: 0.0752 - val_accuracy: 0.9722\n",
            "Epoch 89/100\n",
            "32/32 [==============================] - 6s 194ms/step - loss: 0.0312 - accuracy: 0.9961 - val_loss: 0.1023 - val_accuracy: 0.9722\n",
            "Epoch 90/100\n",
            "32/32 [==============================] - 6s 181ms/step - loss: 0.0308 - accuracy: 0.9961 - val_loss: 0.0517 - val_accuracy: 0.9861\n",
            "Epoch 91/100\n",
            "32/32 [==============================] - 6s 177ms/step - loss: 0.0347 - accuracy: 0.9922 - val_loss: 0.0869 - val_accuracy: 0.9722\n",
            "Epoch 92/100\n",
            "32/32 [==============================] - 6s 184ms/step - loss: 0.0436 - accuracy: 0.9941 - val_loss: 0.0626 - val_accuracy: 0.9722\n",
            "Epoch 93/100\n",
            "32/32 [==============================] - 6s 200ms/step - loss: 0.0330 - accuracy: 0.9902 - val_loss: 0.0791 - val_accuracy: 0.9722\n",
            "Epoch 94/100\n",
            "32/32 [==============================] - 6s 175ms/step - loss: 0.0220 - accuracy: 0.9961 - val_loss: 0.0437 - val_accuracy: 0.9861\n",
            "Epoch 95/100\n",
            "32/32 [==============================] - 6s 197ms/step - loss: 0.0306 - accuracy: 0.9961 - val_loss: 0.0426 - val_accuracy: 0.9861\n",
            "Epoch 96/100\n",
            "32/32 [==============================] - 6s 185ms/step - loss: 0.0251 - accuracy: 0.9961 - val_loss: 0.0589 - val_accuracy: 0.9722\n",
            "Epoch 97/100\n",
            "32/32 [==============================] - 6s 175ms/step - loss: 0.0226 - accuracy: 0.9961 - val_loss: 0.0650 - val_accuracy: 0.9722\n",
            "Epoch 98/100\n",
            "32/32 [==============================] - 6s 197ms/step - loss: 0.0280 - accuracy: 0.9961 - val_loss: 0.0550 - val_accuracy: 0.9722\n",
            "Epoch 99/100\n",
            "32/32 [==============================] - 6s 198ms/step - loss: 0.0220 - accuracy: 1.0000 - val_loss: 0.0379 - val_accuracy: 1.0000\n",
            "Epoch 100/100\n",
            "32/32 [==============================] - 6s 202ms/step - loss: 0.0222 - accuracy: 0.9961 - val_loss: 0.0492 - val_accuracy: 0.9792\n"
          ]
        }
      ],
      "source": [
        "# Train the model\n",
        "history = model.fit(train_generator, epochs=100, steps_per_epoch=32,validation_data = validation_generator, verbose = 1)"
      ]
    },
    {
      "cell_type": "code",
      "source": [
        "import matplotlib.pyplot as plt\n",
        "\n",
        "# Plot the model results\n",
        "acc = history.history['accuracy']\n",
        "val_acc = history.history['val_accuracy']\n",
        "loss = history.history['loss']\n",
        "val_loss = history.history['val_loss']\n",
        "\n",
        "epochs = range(len(acc))\n",
        "\n",
        "plt.plot(epochs, acc, 'r', label='Training accuracy')\n",
        "plt.plot(epochs, val_acc, 'b', label='Validation accuracy')\n",
        "plt.title('Training and validation accuracy')\n",
        "plt.legend()\n",
        "\n",
        "plt.figure()\n",
        "\n",
        "plt.plot(epochs, loss, 'r', label='Training Loss')\n",
        "plt.plot(epochs, val_loss, 'b', label='Validation Loss')\n",
        "plt.title('Training and validation loss')\n",
        "plt.legend()\n",
        "\n",
        "plt.show()"
      ],
      "metadata": {
        "colab": {
          "base_uri": "https://localhost:8080/",
          "height": 887
        },
        "id": "WuFpSHFo_-TI",
        "outputId": "4eb3b97e-e268-4101-9957-cb519a75d422"
      },
      "execution_count": 25,
      "outputs": [
        {
          "output_type": "display_data",
          "data": {
            "text/plain": [
              "<Figure size 640x480 with 1 Axes>"
            ],
            "image/png": "[encoded data removed]"
          },
          "metadata": {}
        },
        {
          "output_type": "display_data",
          "data": {
            "text/plain": [
              "<Figure size 640x480 with 1 Axes>"
            ],
            "image/png": "[encoded data removed]"
          },
          "metadata": {}
        }
      ]
    },
    {
      "cell_type": "markdown",
      "source": [
        "**8- Saving the trained Model**"
      ],
      "metadata": {
        "id": "tRMbf-Z_9hiV"
      }
    },
    {
      "cell_type": "code",
      "execution_count": 23,
      "metadata": {
        "id": "uWSOWqNAc7zM"
      },
      "outputs": [],
      "source": [
        "import pickle\n",
        "\n",
        "# save the iris classification model as a pickle file\n",
        "model_pkl_file = \"periapical_classifier_model.pkl\"\n",
        "\n",
        "with open(model_pkl_file, 'wb') as file:\n",
        "    pickle.dump(model, file)"
      ]
    },
    {
      "cell_type": "code",
      "execution_count": 24,
      "metadata": {
        "id": "r1K-WWlSP9aR",
        "colab": {
          "base_uri": "https://localhost:8080/"
        },
        "outputId": "8bc1d717-2495-419c-a08a-c6c1a4b7c71d"
      },
      "outputs": [
        {
          "output_type": "stream",
          "name": "stderr",
          "text": [
            "/usr/local/lib/python3.10/dist-packages/keras/src/engine/training.py:3000: UserWarning: You are saving your model as an HDF5 file via `model.save()`. This file format is considered legacy. We recommend using instead the native Keras format, e.g. `model.save('my_model.keras')`.\n",
            "  saving_api.save_model(\n"
          ]
        }
      ],
      "source": [
        "model.save('model.h5')"
      ]
    },
    {
      "cell_type": "code",
      "source": [],
      "metadata": {
        "id": "F-ucJtrB2MMh"
      },
      "execution_count": null,
      "outputs": []
    }
  ],
  "metadata": {
    "accelerator": "GPU",
    "colab": {
      "provenance": [],
      "gpuType": "T4",
      "authorship_tag": "ABX9TyM1nWj1RkagLWU+2ycQMBHI",
      "include_colab_link": true
    },
    "kernelspec": {
      "display_name": "Python 3",
      "name": "python3"
    },
    "language_info": {
      "name": "python"
    }
  },
  "nbformat": 4,
  "nbformat_minor": 0
}