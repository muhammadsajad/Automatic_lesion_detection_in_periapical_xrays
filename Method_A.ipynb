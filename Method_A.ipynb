{
  "nbformat": 4,
  "nbformat_minor": 0,
  "metadata": {
    "colab": {
      "provenance": [],
      "mount_file_id": "1RfB4X9gFPHMf45_LGlpTdWp9_XD-5h1r",
      "authorship_tag": "ABX9TyMqAOEAiQs1r8VUvl3Sc2qy",
      "include_colab_link": true
    },
    "kernelspec": {
      "name": "python3",
      "display_name": "Python 3"
    },
    "language_info": {
      "name": "python"
    }
  },
  "cells": [
    {
      "cell_type": "markdown",
      "metadata": {
        "id": "view-in-github",
        "colab_type": "text"
      },
      "source": [
        "<a href=\"https://colab.research.google.com/github/muhammadsajad/Automatic_lesion_detection_using_periapical_xrays/blob/main/Method_A.ipynb\" target=\"_parent\"><img src=\"https://colab.research.google.com/assets/colab-badge.svg\" alt=\"Open In Colab\"/></a>"
      ]
    },
    {
      "cell_type": "markdown",
      "source": [
        "**Method A**\n",
        "\n",
        "\n",
        "1.   Feature extraction using vgg16\n",
        "\n",
        "\n"
      ],
      "metadata": {
        "id": "T50_miwS_w5Y"
      }
    },
    {
      "cell_type": "code",
      "source": [
        "from google.colab import drive\n",
        "drive.mount('/content/drive')"
      ],
      "metadata": {
        "id": "yqaeeDJhhZ2E",
        "colab": {
          "base_uri": "https://localhost:8080/"
        },
        "outputId": "903e448e-a3de-4707-b0ce-2e7dfdb6c2cb"
      },
      "execution_count": 4,
      "outputs": [
        {
          "output_type": "stream",
          "name": "stdout",
          "text": [
            "Drive already mounted at /content/drive; to attempt to forcibly remount, call drive.mount(\"/content/drive\", force_remount=True).\n"
          ]
        }
      ]
    },
    {
      "cell_type": "code",
      "source": [
        "import numpy as np\n",
        "import matplotlib.pyplot as plt\n",
        "import glob\n",
        "import cv2\n",
        "import random\n",
        "from shutil import copyfile\n",
        "\n",
        "\n",
        "from keras.models import Model, Sequential\n",
        "from keras.layers import Dense, Flatten, Conv2D, MaxPooling2D\n",
        "# from keras.layers.normalization import BatchNormalization\n",
        "import os\n",
        "import seaborn as sns\n",
        "from keras.applications.vgg16 import VGG16"
      ],
      "metadata": {
        "id": "shbFUUi2_1Pd"
      },
      "execution_count": 1,
      "outputs": []
    },
    {
      "cell_type": "code",
      "source": [
        "# Give the path of kaggle.jason file in order to download data directly from kaggle.\n",
        "import os\n",
        "os.environ['KAGGLE_CONFIG_DIR']='/content'"
      ],
      "metadata": {
        "id": "SDFmLq_Ls2bq"
      },
      "execution_count": 2,
      "outputs": []
    },
    {
      "cell_type": "code",
      "source": [
        "# This is the kaggle api of data set.\n",
        "!kaggle datasets download -d muhammadsajad/periapical-xrays"
      ],
      "metadata": {
        "id": "ClZG16dRDJkC",
        "colab": {
          "base_uri": "https://localhost:8080/"
        },
        "outputId": "705435a9-1523-4a15-f264-ef77c0ddfe1d"
      },
      "execution_count": 3,
      "outputs": [
        {
          "output_type": "stream",
          "name": "stdout",
          "text": [
            "Warning: Your Kaggle API key is readable by other users on this system! To fix this, you can run 'chmod 600 /content/kaggle.json'\n",
            "Downloading periapical-xrays.zip to /content\n",
            " 87% 134M/153M [00:00<00:00, 228MB/s]\n",
            "100% 153M/153M [00:00<00:00, 233MB/s]\n"
          ]
        }
      ]
    },
    {
      "cell_type": "code",
      "source": [
        "# Unzip the data set\n",
        "!unzip \\*.zip && rm *.zip"
      ],
      "metadata": {
        "id": "r10A4VzvsqHk",
        "colab": {
          "base_uri": "https://localhost:8080/"
        },
        "outputId": "13fb2f4f-87d0-4128-8d76-e89876e91e5b"
      },
      "execution_count": 4,
      "outputs": [
        {
          "output_type": "stream",
          "name": "stdout",
          "text": [
            "Archive:  periapical-xrays.zip\n",
            "  inflating: Periapical_Xrays/Primary Endo with Secondary Perio/Primary Endo with Secondary Perio (10).JPG  \n",
            "  inflating: Periapical_Xrays/Primary Endo with Secondary Perio/Primary Endo with Secondary Perio (100).JPG  \n",
            "  inflating: Periapical_Xrays/Primary Endo with Secondary Perio/Primary Endo with Secondary Perio (101).JPG  \n",
            "  inflating: Periapical_Xrays/Primary Endo with Secondary Perio/Primary Endo with Secondary Perio (102).JPG  \n",
            "  inflating: Periapical_Xrays/Primary Endo with Secondary Perio/Primary Endo with Secondary Perio (103).JPG  \n",
            "  inflating: Periapical_Xrays/Primary Endo with Secondary Perio/Primary Endo with Secondary Perio (104).JPG  \n",
            "  inflating: Periapical_Xrays/Primary Endo with Secondary Perio/Primary Endo with Secondary Perio (105).JPG  \n",
            "  inflating: Periapical_Xrays/Primary Endo with Secondary Perio/Primary Endo with Secondary Perio (106).JPG  \n",
            "  inflating: Periapical_Xrays/Primary Endo with Secondary Perio/Primary Endo with Secondary Perio (107).JPG  \n",
            "  inflating: Periapical_Xrays/Primary Endo with Secondary Perio/Primary Endo with Secondary Perio (108).JPG  \n",
            "  inflating: Periapical_Xrays/Primary Endo with Secondary Perio/Primary Endo with Secondary Perio (109).JPG  \n",
            "  inflating: Periapical_Xrays/Primary Endo with Secondary Perio/Primary Endo with Secondary Perio (11).JPG  \n",
            "  inflating: Periapical_Xrays/Primary Endo with Secondary Perio/Primary Endo with Secondary Perio (110).JPG  \n",
            "  inflating: Periapical_Xrays/Primary Endo with Secondary Perio/Primary Endo with Secondary Perio (111).JPG  \n",
            "  inflating: Periapical_Xrays/Primary Endo with Secondary Perio/Primary Endo with Secondary Perio (112).JPG  \n",
            "  inflating: Periapical_Xrays/Primary Endo with Secondary Perio/Primary Endo with Secondary Perio (113).JPG  \n",
            "  inflating: Periapical_Xrays/Primary Endo with Secondary Perio/Primary Endo with Secondary Perio (114).JPG  \n",
            "  inflating: Periapical_Xrays/Primary Endo with Secondary Perio/Primary Endo with Secondary Perio (115).JPG  \n",
            "  inflating: Periapical_Xrays/Primary Endo with Secondary Perio/Primary Endo with Secondary Perio (116).JPG  \n",
            "  inflating: Periapical_Xrays/Primary Endo with Secondary Perio/Primary Endo with Secondary Perio (117).JPG  \n",
            "  inflating: Periapical_Xrays/Primary Endo with Secondary Perio/Primary Endo with Secondary Perio (118).JPG  \n",
            "  inflating: Periapical_Xrays/Primary Endo with Secondary Perio/Primary Endo with Secondary Perio (119).JPG  \n",
            "  inflating: Periapical_Xrays/Primary Endo with Secondary Perio/Primary Endo with Secondary Perio (12).JPG  \n",
            "  inflating: Periapical_Xrays/Primary Endo with Secondary Perio/Primary Endo with Secondary Perio (120).JPG  \n",
            "  inflating: Periapical_Xrays/Primary Endo with Secondary Perio/Primary Endo with Secondary Perio (121).JPG  \n",
            "  inflating: Periapical_Xrays/Primary Endo with Secondary Perio/Primary Endo with Secondary Perio (122).JPG  \n",
            "  inflating: Periapical_Xrays/Primary Endo with Secondary Perio/Primary Endo with Secondary Perio (13).JPG  \n",
            "  inflating: Periapical_Xrays/Primary Endo with Secondary Perio/Primary Endo with Secondary Perio (14).JPG  \n",
            "  inflating: Periapical_Xrays/Primary Endo with Secondary Perio/Primary Endo with Secondary Perio (15).JPG  \n",
            "  inflating: Periapical_Xrays/Primary Endo with Secondary Perio/Primary Endo with Secondary Perio (16).JPG  \n",
            "  inflating: Periapical_Xrays/Primary Endo with Secondary Perio/Primary Endo with Secondary Perio (17).JPG  \n",
            "  inflating: Periapical_Xrays/Primary Endo with Secondary Perio/Primary Endo with Secondary Perio (18).JPG  \n",
            "  inflating: Periapical_Xrays/Primary Endo with Secondary Perio/Primary Endo with Secondary Perio (19).JPG  \n",
            "  inflating: Periapical_Xrays/Primary Endo with Secondary Perio/Primary Endo with Secondary Perio (2).JPG  \n",
            "  inflating: Periapical_Xrays/Primary Endo with Secondary Perio/Primary Endo with Secondary Perio (20).JPG  \n",
            "  inflating: Periapical_Xrays/Primary Endo with Secondary Perio/Primary Endo with Secondary Perio (21).JPG  \n",
            "  inflating: Periapical_Xrays/Primary Endo with Secondary Perio/Primary Endo with Secondary Perio (22).JPG  \n",
            "  inflating: Periapical_Xrays/Primary Endo with Secondary Perio/Primary Endo with Secondary Perio (23).JPG  \n",
            "  inflating: Periapical_Xrays/Primary Endo with Secondary Perio/Primary Endo with Secondary Perio (24).JPG  \n",
            "  inflating: Periapical_Xrays/Primary Endo with Secondary Perio/Primary Endo with Secondary Perio (25).JPG  \n",
            "  inflating: Periapical_Xrays/Primary Endo with Secondary Perio/Primary Endo with Secondary Perio (26).JPG  \n",
            "  inflating: Periapical_Xrays/Primary Endo with Secondary Perio/Primary Endo with Secondary Perio (27).JPG  \n",
            "  inflating: Periapical_Xrays/Primary Endo with Secondary Perio/Primary Endo with Secondary Perio (28).JPG  \n",
            "  inflating: Periapical_Xrays/Primary Endo with Secondary Perio/Primary Endo with Secondary Perio (29).JPG  \n",
            "  inflating: Periapical_Xrays/Primary Endo with Secondary Perio/Primary Endo with Secondary Perio (3).JPG  \n",
            "  inflating: Periapical_Xrays/Primary Endo with Secondary Perio/Primary Endo with Secondary Perio (30).JPG  \n",
            "  inflating: Periapical_Xrays/Primary Endo with Secondary Perio/Primary Endo with Secondary Perio (31).JPG  \n",
            "  inflating: Periapical_Xrays/Primary Endo with Secondary Perio/Primary Endo with Secondary Perio (32).JPG  \n",
            "  inflating: Periapical_Xrays/Primary Endo with Secondary Perio/Primary Endo with Secondary Perio (33).JPG  \n",
            "  inflating: Periapical_Xrays/Primary Endo with Secondary Perio/Primary Endo with Secondary Perio (34).JPG  \n",
            "  inflating: Periapical_Xrays/Primary Endo with Secondary Perio/Primary Endo with Secondary Perio (35).JPG  \n",
            "  inflating: Periapical_Xrays/Primary Endo with Secondary Perio/Primary Endo with Secondary Perio (36).JPG  \n",
            "  inflating: Periapical_Xrays/Primary Endo with Secondary Perio/Primary Endo with Secondary Perio (37).JPG  \n",
            "  inflating: Periapical_Xrays/Primary Endo with Secondary Perio/Primary Endo with Secondary Perio (38).JPG  \n",
            "  inflating: Periapical_Xrays/Primary Endo with Secondary Perio/Primary Endo with Secondary Perio (39).JPG  \n",
            "  inflating: Periapical_Xrays/Primary Endo with Secondary Perio/Primary Endo with Secondary Perio (4).JPG  \n",
            "  inflating: Periapical_Xrays/Primary Endo with Secondary Perio/Primary Endo with Secondary Perio (40).JPG  \n",
            "  inflating: Periapical_Xrays/Primary Endo with Secondary Perio/Primary Endo with Secondary Perio (41).JPG  \n",
            "  inflating: Periapical_Xrays/Primary Endo with Secondary Perio/Primary Endo with Secondary Perio (42).JPG  \n",
            "  inflating: Periapical_Xrays/Primary Endo with Secondary Perio/Primary Endo with Secondary Perio (43).JPG  \n",
            "  inflating: Periapical_Xrays/Primary Endo with Secondary Perio/Primary Endo with Secondary Perio (44).JPG  \n",
            "  inflating: Periapical_Xrays/Primary Endo with Secondary Perio/Primary Endo with Secondary Perio (45).JPG  \n",
            "  inflating: Periapical_Xrays/Primary Endo with Secondary Perio/Primary Endo with Secondary Perio (46).JPG  \n",
            "  inflating: Periapical_Xrays/Primary Endo with Secondary Perio/Primary Endo with Secondary Perio (47).JPG  \n",
            "  inflating: Periapical_Xrays/Primary Endo with Secondary Perio/Primary Endo with Secondary Perio (48).JPG  \n",
            "  inflating: Periapical_Xrays/Primary Endo with Secondary Perio/Primary Endo with Secondary Perio (49).JPG  \n",
            "  inflating: Periapical_Xrays/Primary Endo with Secondary Perio/Primary Endo with Secondary Perio (5).JPG  \n",
            "  inflating: Periapical_Xrays/Primary Endo with Secondary Perio/Primary Endo with Secondary Perio (50).JPG  \n",
            "  inflating: Periapical_Xrays/Primary Endo with Secondary Perio/Primary Endo with Secondary Perio (51).JPG  \n",
            "  inflating: Periapical_Xrays/Primary Endo with Secondary Perio/Primary Endo with Secondary Perio (52).JPG  \n",
            "  inflating: Periapical_Xrays/Primary Endo with Secondary Perio/Primary Endo with Secondary Perio (53).JPG  \n",
            "  inflating: Periapical_Xrays/Primary Endo with Secondary Perio/Primary Endo with Secondary Perio (54).JPG  \n",
            "  inflating: Periapical_Xrays/Primary Endo with Secondary Perio/Primary Endo with Secondary Perio (55).JPG  \n",
            "  inflating: Periapical_Xrays/Primary Endo with Secondary Perio/Primary Endo with Secondary Perio (56).JPG  \n",
            "  inflating: Periapical_Xrays/Primary Endo with Secondary Perio/Primary Endo with Secondary Perio (57).JPG  \n",
            "  inflating: Periapical_Xrays/Primary Endo with Secondary Perio/Primary Endo with Secondary Perio (58).JPG  \n",
            "  inflating: Periapical_Xrays/Primary Endo with Secondary Perio/Primary Endo with Secondary Perio (59).JPG  \n",
            "  inflating: Periapical_Xrays/Primary Endo with Secondary Perio/Primary Endo with Secondary Perio (6).JPG  \n",
            "  inflating: Periapical_Xrays/Primary Endo with Secondary Perio/Primary Endo with Secondary Perio (60).JPG  \n",
            "  inflating: Periapical_Xrays/Primary Endo with Secondary Perio/Primary Endo with Secondary Perio (61).JPG  \n",
            "  inflating: Periapical_Xrays/Primary Endo with Secondary Perio/Primary Endo with Secondary Perio (62).JPG  \n",
            "  inflating: Periapical_Xrays/Primary Endo with Secondary Perio/Primary Endo with Secondary Perio (63).JPG  \n",
            "  inflating: Periapical_Xrays/Primary Endo with Secondary Perio/Primary Endo with Secondary Perio (64).JPG  \n",
            "  inflating: Periapical_Xrays/Primary Endo with Secondary Perio/Primary Endo with Secondary Perio (65).JPG  \n",
            "  inflating: Periapical_Xrays/Primary Endo with Secondary Perio/Primary Endo with Secondary Perio (66).JPG  \n",
            "  inflating: Periapical_Xrays/Primary Endo with Secondary Perio/Primary Endo with Secondary Perio (67).JPG  \n",
            "  inflating: Periapical_Xrays/Primary Endo with Secondary Perio/Primary Endo with Secondary Perio (68).JPG  \n",
            "  inflating: Periapical_Xrays/Primary Endo with Secondary Perio/Primary Endo with Secondary Perio (69).JPG  \n",
            "  inflating: Periapical_Xrays/Primary Endo with Secondary Perio/Primary Endo with Secondary Perio (7).JPG  \n",
            "  inflating: Periapical_Xrays/Primary Endo with Secondary Perio/Primary Endo with Secondary Perio (70).JPG  \n",
            "  inflating: Periapical_Xrays/Primary Endo with Secondary Perio/Primary Endo with Secondary Perio (71).JPG  \n",
            "  inflating: Periapical_Xrays/Primary Endo with Secondary Perio/Primary Endo with Secondary Perio (72).JPG  \n",
            "  inflating: Periapical_Xrays/Primary Endo with Secondary Perio/Primary Endo with Secondary Perio (73).JPG  \n",
            "  inflating: Periapical_Xrays/Primary Endo with Secondary Perio/Primary Endo with Secondary Perio (74).JPG  \n",
            "  inflating: Periapical_Xrays/Primary Endo with Secondary Perio/Primary Endo with Secondary Perio (75).JPG  \n",
            "  inflating: Periapical_Xrays/Primary Endo with Secondary Perio/Primary Endo with Secondary Perio (76).JPG  \n",
            "  inflating: Periapical_Xrays/Primary Endo with Secondary Perio/Primary Endo with Secondary Perio (77).JPG  \n",
            "  inflating: Periapical_Xrays/Primary Endo with Secondary Perio/Primary Endo with Secondary Perio (78).JPG  \n",
            "  inflating: Periapical_Xrays/Primary Endo with Secondary Perio/Primary Endo with Secondary Perio (79).JPG  \n",
            "  inflating: Periapical_Xrays/Primary Endo with Secondary Perio/Primary Endo with Secondary Perio (8).JPG  \n",
            "  inflating: Periapical_Xrays/Primary Endo with Secondary Perio/Primary Endo with Secondary Perio (80).JPG  \n",
            "  inflating: Periapical_Xrays/Primary Endo with Secondary Perio/Primary Endo with Secondary Perio (81).JPG  \n",
            "  inflating: Periapical_Xrays/Primary Endo with Secondary Perio/Primary Endo with Secondary Perio (82).JPG  \n",
            "  inflating: Periapical_Xrays/Primary Endo with Secondary Perio/Primary Endo with Secondary Perio (83).JPG  \n",
            "  inflating: Periapical_Xrays/Primary Endo with Secondary Perio/Primary Endo with Secondary Perio (84).JPG  \n",
            "  inflating: Periapical_Xrays/Primary Endo with Secondary Perio/Primary Endo with Secondary Perio (85).JPG  \n",
            "  inflating: Periapical_Xrays/Primary Endo with Secondary Perio/Primary Endo with Secondary Perio (86).JPG  \n",
            "  inflating: Periapical_Xrays/Primary Endo with Secondary Perio/Primary Endo with Secondary Perio (87).JPG  \n",
            "  inflating: Periapical_Xrays/Primary Endo with Secondary Perio/Primary Endo with Secondary Perio (88).JPG  \n",
            "  inflating: Periapical_Xrays/Primary Endo with Secondary Perio/Primary Endo with Secondary Perio (89).JPG  \n",
            "  inflating: Periapical_Xrays/Primary Endo with Secondary Perio/Primary Endo with Secondary Perio (9).JPG  \n",
            "  inflating: Periapical_Xrays/Primary Endo with Secondary Perio/Primary Endo with Secondary Perio (90).JPG  \n",
            "  inflating: Periapical_Xrays/Primary Endo with Secondary Perio/Primary Endo with Secondary Perio (91).JPG  \n",
            "  inflating: Periapical_Xrays/Primary Endo with Secondary Perio/Primary Endo with Secondary Perio (92).JPG  \n",
            "  inflating: Periapical_Xrays/Primary Endo with Secondary Perio/Primary Endo with Secondary Perio (93).JPG  \n",
            "  inflating: Periapical_Xrays/Primary Endo with Secondary Perio/Primary Endo with Secondary Perio (94).JPG  \n",
            "  inflating: Periapical_Xrays/Primary Endo with Secondary Perio/Primary Endo with Secondary Perio (95).JPG  \n",
            "  inflating: Periapical_Xrays/Primary Endo with Secondary Perio/Primary Endo with Secondary Perio (96).JPG  \n",
            "  inflating: Periapical_Xrays/Primary Endo with Secondary Perio/Primary Endo with Secondary Perio (97).JPG  \n",
            "  inflating: Periapical_Xrays/Primary Endo with Secondary Perio/Primary Endo with Secondary Perio (98).JPG  \n",
            "  inflating: Periapical_Xrays/Primary Endo with Secondary Perio/Primary Endo with Secondary Perio (99).JPG  \n",
            "  inflating: Periapical_Xrays/Primary Endo with Secondary Perio/Primary Endo with Secondary Perio.JPG  \n",
            "  inflating: Periapical_Xrays/Primary Endodontic Lesion/Primary Endodontic  Lesion (10).JPG  \n",
            "  inflating: Periapical_Xrays/Primary Endodontic Lesion/Primary Endodontic  Lesion (11).JPG  \n",
            "  inflating: Periapical_Xrays/Primary Endodontic Lesion/Primary Endodontic  Lesion (12).JPG  \n",
            "  inflating: Periapical_Xrays/Primary Endodontic Lesion/Primary Endodontic  Lesion (13).JPG  \n",
            "  inflating: Periapical_Xrays/Primary Endodontic Lesion/Primary Endodontic  Lesion (14).JPG  \n",
            "  inflating: Periapical_Xrays/Primary Endodontic Lesion/Primary Endodontic  Lesion (15).JPG  \n",
            "  inflating: Periapical_Xrays/Primary Endodontic Lesion/Primary Endodontic  Lesion (16).JPG  \n",
            "  inflating: Periapical_Xrays/Primary Endodontic Lesion/Primary Endodontic  Lesion (17).JPG  \n",
            "  inflating: Periapical_Xrays/Primary Endodontic Lesion/Primary Endodontic  Lesion (18).JPG  \n",
            "  inflating: Periapical_Xrays/Primary Endodontic Lesion/Primary Endodontic  Lesion (19).JPG  \n",
            "  inflating: Periapical_Xrays/Primary Endodontic Lesion/Primary Endodontic  Lesion (2).JPG  \n",
            "  inflating: Periapical_Xrays/Primary Endodontic Lesion/Primary Endodontic  Lesion (20).JPG  \n",
            "  inflating: Periapical_Xrays/Primary Endodontic Lesion/Primary Endodontic  Lesion (21).JPG  \n",
            "  inflating: Periapical_Xrays/Primary Endodontic Lesion/Primary Endodontic  Lesion (22).JPG  \n",
            "  inflating: Periapical_Xrays/Primary Endodontic Lesion/Primary Endodontic  Lesion (23).JPG  \n",
            "  inflating: Periapical_Xrays/Primary Endodontic Lesion/Primary Endodontic  Lesion (24).JPG  \n",
            "  inflating: Periapical_Xrays/Primary Endodontic Lesion/Primary Endodontic  Lesion (25).JPG  \n",
            "  inflating: Periapical_Xrays/Primary Endodontic Lesion/Primary Endodontic  Lesion (26).JPG  \n",
            "  inflating: Periapical_Xrays/Primary Endodontic Lesion/Primary Endodontic  Lesion (27).JPG  \n",
            "  inflating: Periapical_Xrays/Primary Endodontic Lesion/Primary Endodontic  Lesion (28).JPG  \n",
            "  inflating: Periapical_Xrays/Primary Endodontic Lesion/Primary Endodontic  Lesion (29).JPG  \n",
            "  inflating: Periapical_Xrays/Primary Endodontic Lesion/Primary Endodontic  Lesion (3).JPG  \n",
            "  inflating: Periapical_Xrays/Primary Endodontic Lesion/Primary Endodontic  Lesion (30).JPG  \n",
            "  inflating: Periapical_Xrays/Primary Endodontic Lesion/Primary Endodontic  Lesion (31).JPG  \n",
            "  inflating: Periapical_Xrays/Primary Endodontic Lesion/Primary Endodontic  Lesion (32).JPG  \n",
            "  inflating: Periapical_Xrays/Primary Endodontic Lesion/Primary Endodontic  Lesion (33).JPG  \n",
            "  inflating: Periapical_Xrays/Primary Endodontic Lesion/Primary Endodontic  Lesion (34).JPG  \n",
            "  inflating: Periapical_Xrays/Primary Endodontic Lesion/Primary Endodontic  Lesion (35).JPG  \n",
            "  inflating: Periapical_Xrays/Primary Endodontic Lesion/Primary Endodontic  Lesion (36).JPG  \n",
            "  inflating: Periapical_Xrays/Primary Endodontic Lesion/Primary Endodontic  Lesion (37).JPG  \n",
            "  inflating: Periapical_Xrays/Primary Endodontic Lesion/Primary Endodontic  Lesion (38).JPG  \n",
            "  inflating: Periapical_Xrays/Primary Endodontic Lesion/Primary Endodontic  Lesion (39).JPG  \n",
            "  inflating: Periapical_Xrays/Primary Endodontic Lesion/Primary Endodontic  Lesion (4).JPG  \n",
            "  inflating: Periapical_Xrays/Primary Endodontic Lesion/Primary Endodontic  Lesion (40).JPG  \n",
            "  inflating: Periapical_Xrays/Primary Endodontic Lesion/Primary Endodontic  Lesion (41).JPG  \n",
            "  inflating: Periapical_Xrays/Primary Endodontic Lesion/Primary Endodontic  Lesion (42).JPG  \n",
            "  inflating: Periapical_Xrays/Primary Endodontic Lesion/Primary Endodontic  Lesion (43).JPG  \n",
            "  inflating: Periapical_Xrays/Primary Endodontic Lesion/Primary Endodontic  Lesion (44).JPG  \n",
            "  inflating: Periapical_Xrays/Primary Endodontic Lesion/Primary Endodontic  Lesion (45).JPG  \n",
            "  inflating: Periapical_Xrays/Primary Endodontic Lesion/Primary Endodontic  Lesion (46).JPG  \n",
            "  inflating: Periapical_Xrays/Primary Endodontic Lesion/Primary Endodontic  Lesion (47).JPG  \n",
            "  inflating: Periapical_Xrays/Primary Endodontic Lesion/Primary Endodontic  Lesion (48).JPG  \n",
            "  inflating: Periapical_Xrays/Primary Endodontic Lesion/Primary Endodontic  Lesion (49).JPG  \n",
            "  inflating: Periapical_Xrays/Primary Endodontic Lesion/Primary Endodontic  Lesion (5).JPG  \n",
            "  inflating: Periapical_Xrays/Primary Endodontic Lesion/Primary Endodontic  Lesion (50).JPG  \n",
            "  inflating: Periapical_Xrays/Primary Endodontic Lesion/Primary Endodontic  Lesion (51).JPG  \n",
            "  inflating: Periapical_Xrays/Primary Endodontic Lesion/Primary Endodontic  Lesion (52).JPG  \n",
            "  inflating: Periapical_Xrays/Primary Endodontic Lesion/Primary Endodontic  Lesion (53).JPG  \n",
            "  inflating: Periapical_Xrays/Primary Endodontic Lesion/Primary Endodontic  Lesion (6).JPG  \n",
            "  inflating: Periapical_Xrays/Primary Endodontic Lesion/Primary Endodontic  Lesion (7).JPG  \n",
            "  inflating: Periapical_Xrays/Primary Endodontic Lesion/Primary Endodontic  Lesion (8).JPG  \n",
            "  inflating: Periapical_Xrays/Primary Endodontic Lesion/Primary Endodontic  Lesion (9).JPG  \n",
            "  inflating: Periapical_Xrays/Primary Endodontic Lesion/Primary Endodontic  Lesion.JPG  \n",
            "  inflating: Periapical_Xrays/Primary Endodontic Lesion/Primary Endodontic Lesion (10).JPG  \n",
            "  inflating: Periapical_Xrays/Primary Endodontic Lesion/Primary Endodontic Lesion (11).JPG  \n",
            "  inflating: Periapical_Xrays/Primary Endodontic Lesion/Primary Endodontic Lesion (12).JPG  \n",
            "  inflating: Periapical_Xrays/Primary Endodontic Lesion/Primary Endodontic Lesion (13).JPG  \n",
            "  inflating: Periapical_Xrays/Primary Endodontic Lesion/Primary Endodontic Lesion (14).JPG  \n",
            "  inflating: Periapical_Xrays/Primary Endodontic Lesion/Primary Endodontic Lesion (15).JPG  \n",
            "  inflating: Periapical_Xrays/Primary Endodontic Lesion/Primary Endodontic Lesion (16).JPG  \n",
            "  inflating: Periapical_Xrays/Primary Endodontic Lesion/Primary Endodontic Lesion (17).JPG  \n",
            "  inflating: Periapical_Xrays/Primary Endodontic Lesion/Primary Endodontic Lesion (18).JPG  \n",
            "  inflating: Periapical_Xrays/Primary Endodontic Lesion/Primary Endodontic Lesion (19).JPG  \n",
            "  inflating: Periapical_Xrays/Primary Endodontic Lesion/Primary Endodontic Lesion (2).JPG  \n",
            "  inflating: Periapical_Xrays/Primary Endodontic Lesion/Primary Endodontic Lesion (20).JPG  \n",
            "  inflating: Periapical_Xrays/Primary Endodontic Lesion/Primary Endodontic Lesion (21).JPG  \n",
            "  inflating: Periapical_Xrays/Primary Endodontic Lesion/Primary Endodontic Lesion (22).JPG  \n",
            "  inflating: Periapical_Xrays/Primary Endodontic Lesion/Primary Endodontic Lesion (23).JPG  \n",
            "  inflating: Periapical_Xrays/Primary Endodontic Lesion/Primary Endodontic Lesion (24).JPG  \n",
            "  inflating: Periapical_Xrays/Primary Endodontic Lesion/Primary Endodontic Lesion (25).JPG  \n",
            "  inflating: Periapical_Xrays/Primary Endodontic Lesion/Primary Endodontic Lesion (26).JPG  \n",
            "  inflating: Periapical_Xrays/Primary Endodontic Lesion/Primary Endodontic Lesion (27).JPG  \n",
            "  inflating: Periapical_Xrays/Primary Endodontic Lesion/Primary Endodontic Lesion (28).JPG  \n",
            "  inflating: Periapical_Xrays/Primary Endodontic Lesion/Primary Endodontic Lesion (29).JPG  \n",
            "  inflating: Periapical_Xrays/Primary Endodontic Lesion/Primary Endodontic Lesion (3).JPG  \n",
            "  inflating: Periapical_Xrays/Primary Endodontic Lesion/Primary Endodontic Lesion (30).JPG  \n",
            "  inflating: Periapical_Xrays/Primary Endodontic Lesion/Primary Endodontic Lesion (31).JPG  \n",
            "  inflating: Periapical_Xrays/Primary Endodontic Lesion/Primary Endodontic Lesion (32).JPG  \n",
            "  inflating: Periapical_Xrays/Primary Endodontic Lesion/Primary Endodontic Lesion (33).JPG  \n",
            "  inflating: Periapical_Xrays/Primary Endodontic Lesion/Primary Endodontic Lesion (34).JPG  \n",
            "  inflating: Periapical_Xrays/Primary Endodontic Lesion/Primary Endodontic Lesion (35).JPG  \n",
            "  inflating: Periapical_Xrays/Primary Endodontic Lesion/Primary Endodontic Lesion (36).JPG  \n",
            "  inflating: Periapical_Xrays/Primary Endodontic Lesion/Primary Endodontic Lesion (37).JPG  \n",
            "  inflating: Periapical_Xrays/Primary Endodontic Lesion/Primary Endodontic Lesion (38).JPG  \n",
            "  inflating: Periapical_Xrays/Primary Endodontic Lesion/Primary Endodontic Lesion (39).JPG  \n",
            "  inflating: Periapical_Xrays/Primary Endodontic Lesion/Primary Endodontic Lesion (4).JPG  \n",
            "  inflating: Periapical_Xrays/Primary Endodontic Lesion/Primary Endodontic Lesion (40).JPG  \n",
            "  inflating: Periapical_Xrays/Primary Endodontic Lesion/Primary Endodontic Lesion (41).JPG  \n",
            "  inflating: Periapical_Xrays/Primary Endodontic Lesion/Primary Endodontic Lesion (42).JPG  \n",
            "  inflating: Periapical_Xrays/Primary Endodontic Lesion/Primary Endodontic Lesion (43).JPG  \n",
            "  inflating: Periapical_Xrays/Primary Endodontic Lesion/Primary Endodontic Lesion (44).JPG  \n",
            "  inflating: Periapical_Xrays/Primary Endodontic Lesion/Primary Endodontic Lesion (45).JPG  \n",
            "  inflating: Periapical_Xrays/Primary Endodontic Lesion/Primary Endodontic Lesion (46).JPG  \n",
            "  inflating: Periapical_Xrays/Primary Endodontic Lesion/Primary Endodontic Lesion (47).JPG  \n",
            "  inflating: Periapical_Xrays/Primary Endodontic Lesion/Primary Endodontic Lesion (48).JPG  \n",
            "  inflating: Periapical_Xrays/Primary Endodontic Lesion/Primary Endodontic Lesion (49).JPG  \n",
            "  inflating: Periapical_Xrays/Primary Endodontic Lesion/Primary Endodontic Lesion (5).JPG  \n",
            "  inflating: Periapical_Xrays/Primary Endodontic Lesion/Primary Endodontic Lesion (50).JPG  \n",
            "  inflating: Periapical_Xrays/Primary Endodontic Lesion/Primary Endodontic Lesion (51).JPG  \n",
            "  inflating: Periapical_Xrays/Primary Endodontic Lesion/Primary Endodontic Lesion (52).JPG  \n",
            "  inflating: Periapical_Xrays/Primary Endodontic Lesion/Primary Endodontic Lesion (53).JPG  \n",
            "  inflating: Periapical_Xrays/Primary Endodontic Lesion/Primary Endodontic Lesion (54).JPG  \n",
            "  inflating: Periapical_Xrays/Primary Endodontic Lesion/Primary Endodontic Lesion (55).JPG  \n",
            "  inflating: Periapical_Xrays/Primary Endodontic Lesion/Primary Endodontic Lesion (56).JPG  \n",
            "  inflating: Periapical_Xrays/Primary Endodontic Lesion/Primary Endodontic Lesion (57).JPG  \n",
            "  inflating: Periapical_Xrays/Primary Endodontic Lesion/Primary Endodontic Lesion (58).JPG  \n",
            "  inflating: Periapical_Xrays/Primary Endodontic Lesion/Primary Endodontic Lesion (59).JPG  \n",
            "  inflating: Periapical_Xrays/Primary Endodontic Lesion/Primary Endodontic Lesion (6).JPG  \n",
            "  inflating: Periapical_Xrays/Primary Endodontic Lesion/Primary Endodontic Lesion (60).JPG  \n",
            "  inflating: Periapical_Xrays/Primary Endodontic Lesion/Primary Endodontic Lesion (61).JPG  \n",
            "  inflating: Periapical_Xrays/Primary Endodontic Lesion/Primary Endodontic Lesion (62).JPG  \n",
            "  inflating: Periapical_Xrays/Primary Endodontic Lesion/Primary Endodontic Lesion (63).JPG  \n",
            "  inflating: Periapical_Xrays/Primary Endodontic Lesion/Primary Endodontic Lesion (64).JPG  \n",
            "  inflating: Periapical_Xrays/Primary Endodontic Lesion/Primary Endodontic Lesion (65).JPG  \n",
            "  inflating: Periapical_Xrays/Primary Endodontic Lesion/Primary Endodontic Lesion (66).JPG  \n",
            "  inflating: Periapical_Xrays/Primary Endodontic Lesion/Primary Endodontic Lesion (67).JPG  \n",
            "  inflating: Periapical_Xrays/Primary Endodontic Lesion/Primary Endodontic Lesion (68).JPG  \n",
            "  inflating: Periapical_Xrays/Primary Endodontic Lesion/Primary Endodontic Lesion (69).JPG  \n",
            "  inflating: Periapical_Xrays/Primary Endodontic Lesion/Primary Endodontic Lesion (7).JPG  \n",
            "  inflating: Periapical_Xrays/Primary Endodontic Lesion/Primary Endodontic Lesion (70).JPG  \n",
            "  inflating: Periapical_Xrays/Primary Endodontic Lesion/Primary Endodontic Lesion (71).JPG  \n",
            "  inflating: Periapical_Xrays/Primary Endodontic Lesion/Primary Endodontic Lesion (8).JPG  \n",
            "  inflating: Periapical_Xrays/Primary Endodontic Lesion/Primary Endodontic Lesion (9).JPG  \n",
            "  inflating: Periapical_Xrays/Primary Endodontic Lesion/Primary Endodontic Lesion.JPG  \n",
            "  inflating: Periapical_Xrays/Primary Perio with Secondary Endo/Primary Perio with Secondary Endo (10).JPG  \n",
            "  inflating: Periapical_Xrays/Primary Perio with Secondary Endo/Primary Perio with Secondary Endo (11).JPG  \n",
            "  inflating: Periapical_Xrays/Primary Perio with Secondary Endo/Primary Perio with Secondary Endo (12).JPG  \n",
            "  inflating: Periapical_Xrays/Primary Perio with Secondary Endo/Primary Perio with Secondary Endo (13).JPG  \n",
            "  inflating: Periapical_Xrays/Primary Perio with Secondary Endo/Primary Perio with Secondary Endo (14).JPG  \n",
            "  inflating: Periapical_Xrays/Primary Perio with Secondary Endo/Primary Perio with Secondary Endo (15).JPG  \n",
            "  inflating: Periapical_Xrays/Primary Perio with Secondary Endo/Primary Perio with Secondary Endo (16).JPG  \n",
            "  inflating: Periapical_Xrays/Primary Perio with Secondary Endo/Primary Perio with Secondary Endo (17).JPG  \n",
            "  inflating: Periapical_Xrays/Primary Perio with Secondary Endo/Primary Perio with Secondary Endo (18).JPG  \n",
            "  inflating: Periapical_Xrays/Primary Perio with Secondary Endo/Primary Perio with Secondary Endo (19).JPG  \n",
            "  inflating: Periapical_Xrays/Primary Perio with Secondary Endo/Primary Perio with Secondary Endo (2).JPG  \n",
            "  inflating: Periapical_Xrays/Primary Perio with Secondary Endo/Primary Perio with Secondary Endo (20).JPG  \n",
            "  inflating: Periapical_Xrays/Primary Perio with Secondary Endo/Primary Perio with Secondary Endo (21).JPG  \n",
            "  inflating: Periapical_Xrays/Primary Perio with Secondary Endo/Primary Perio with Secondary Endo (22).JPG  \n",
            "  inflating: Periapical_Xrays/Primary Perio with Secondary Endo/Primary Perio with Secondary Endo (23).JPG  \n",
            "  inflating: Periapical_Xrays/Primary Perio with Secondary Endo/Primary Perio with Secondary Endo (24).JPG  \n",
            "  inflating: Periapical_Xrays/Primary Perio with Secondary Endo/Primary Perio with Secondary Endo (25).JPG  \n",
            "  inflating: Periapical_Xrays/Primary Perio with Secondary Endo/Primary Perio with Secondary Endo (26).JPG  \n",
            "  inflating: Periapical_Xrays/Primary Perio with Secondary Endo/Primary Perio with Secondary Endo (27).JPG  \n",
            "  inflating: Periapical_Xrays/Primary Perio with Secondary Endo/Primary Perio with Secondary Endo (28).JPG  \n",
            "  inflating: Periapical_Xrays/Primary Perio with Secondary Endo/Primary Perio with Secondary Endo (29).JPG  \n",
            "  inflating: Periapical_Xrays/Primary Perio with Secondary Endo/Primary Perio with Secondary Endo (3).JPG  \n",
            "  inflating: Periapical_Xrays/Primary Perio with Secondary Endo/Primary Perio with Secondary Endo (30).JPG  \n",
            "  inflating: Periapical_Xrays/Primary Perio with Secondary Endo/Primary Perio with Secondary Endo (31).JPG  \n",
            "  inflating: Periapical_Xrays/Primary Perio with Secondary Endo/Primary Perio with Secondary Endo (32).JPG  \n",
            "  inflating: Periapical_Xrays/Primary Perio with Secondary Endo/Primary Perio with Secondary Endo (33).JPG  \n",
            "  inflating: Periapical_Xrays/Primary Perio with Secondary Endo/Primary Perio with Secondary Endo (34).JPG  \n",
            "  inflating: Periapical_Xrays/Primary Perio with Secondary Endo/Primary Perio with Secondary Endo (35).JPG  \n",
            "  inflating: Periapical_Xrays/Primary Perio with Secondary Endo/Primary Perio with Secondary Endo (36).JPG  \n",
            "  inflating: Periapical_Xrays/Primary Perio with Secondary Endo/Primary Perio with Secondary Endo (37).JPG  \n",
            "  inflating: Periapical_Xrays/Primary Perio with Secondary Endo/Primary Perio with Secondary Endo (38).JPG  \n",
            "  inflating: Periapical_Xrays/Primary Perio with Secondary Endo/Primary Perio with Secondary Endo (39).JPG  \n",
            "  inflating: Periapical_Xrays/Primary Perio with Secondary Endo/Primary Perio with Secondary Endo (4).JPG  \n",
            "  inflating: Periapical_Xrays/Primary Perio with Secondary Endo/Primary Perio with Secondary Endo (5).JPG  \n",
            "  inflating: Periapical_Xrays/Primary Perio with Secondary Endo/Primary Perio with Secondary Endo (6).JPG  \n",
            "  inflating: Periapical_Xrays/Primary Perio with Secondary Endo/Primary Perio with Secondary Endo (7).JPG  \n",
            "  inflating: Periapical_Xrays/Primary Perio with Secondary Endo/Primary Perio with Secondary Endo (8).JPG  \n",
            "  inflating: Periapical_Xrays/Primary Perio with Secondary Endo/Primary Perio with Secondary Endo (9).JPG  \n",
            "  inflating: Periapical_Xrays/Primary Perio with Secondary Endo/Primary Perio with Secondary Endo.JPG  \n",
            "  inflating: Periapical_Xrays/Primary Periodontal Lesion/Primary Periodontal Lesion (10).JPG  \n",
            "  inflating: Periapical_Xrays/Primary Periodontal Lesion/Primary Periodontal Lesion (100).JPG  \n",
            "  inflating: Periapical_Xrays/Primary Periodontal Lesion/Primary Periodontal Lesion (101).JPG  \n",
            "  inflating: Periapical_Xrays/Primary Periodontal Lesion/Primary Periodontal Lesion (102).JPG  \n",
            "  inflating: Periapical_Xrays/Primary Periodontal Lesion/Primary Periodontal Lesion (103).JPG  \n",
            "  inflating: Periapical_Xrays/Primary Periodontal Lesion/Primary Periodontal Lesion (104).JPG  \n",
            "  inflating: Periapical_Xrays/Primary Periodontal Lesion/Primary Periodontal Lesion (105).JPG  \n",
            "  inflating: Periapical_Xrays/Primary Periodontal Lesion/Primary Periodontal Lesion (106).JPG  \n",
            "  inflating: Periapical_Xrays/Primary Periodontal Lesion/Primary Periodontal Lesion (107).JPG  \n",
            "  inflating: Periapical_Xrays/Primary Periodontal Lesion/Primary Periodontal Lesion (108).JPG  \n",
            "  inflating: Periapical_Xrays/Primary Periodontal Lesion/Primary Periodontal Lesion (109).JPG  \n",
            "  inflating: Periapical_Xrays/Primary Periodontal Lesion/Primary Periodontal Lesion (11).JPG  \n",
            "  inflating: Periapical_Xrays/Primary Periodontal Lesion/Primary Periodontal Lesion (110).JPG  \n",
            "  inflating: Periapical_Xrays/Primary Periodontal Lesion/Primary Periodontal Lesion (111).JPG  \n",
            "  inflating: Periapical_Xrays/Primary Periodontal Lesion/Primary Periodontal Lesion (112).JPG  \n",
            "  inflating: Periapical_Xrays/Primary Periodontal Lesion/Primary Periodontal Lesion (113).JPG  \n",
            "  inflating: Periapical_Xrays/Primary Periodontal Lesion/Primary Periodontal Lesion (114).JPG  \n",
            "  inflating: Periapical_Xrays/Primary Periodontal Lesion/Primary Periodontal Lesion (115).JPG  \n",
            "  inflating: Periapical_Xrays/Primary Periodontal Lesion/Primary Periodontal Lesion (116).JPG  \n",
            "  inflating: Periapical_Xrays/Primary Periodontal Lesion/Primary Periodontal Lesion (117).JPG  \n",
            "  inflating: Periapical_Xrays/Primary Periodontal Lesion/Primary Periodontal Lesion (118).JPG  \n",
            "  inflating: Periapical_Xrays/Primary Periodontal Lesion/Primary Periodontal Lesion (12).JPG  \n",
            "  inflating: Periapical_Xrays/Primary Periodontal Lesion/Primary Periodontal Lesion (13).JPG  \n",
            "  inflating: Periapical_Xrays/Primary Periodontal Lesion/Primary Periodontal Lesion (14).JPG  \n",
            "  inflating: Periapical_Xrays/Primary Periodontal Lesion/Primary Periodontal Lesion (15).JPG  \n",
            "  inflating: Periapical_Xrays/Primary Periodontal Lesion/Primary Periodontal Lesion (16).JPG  \n",
            "  inflating: Periapical_Xrays/Primary Periodontal Lesion/Primary Periodontal Lesion (17).JPG  \n",
            "  inflating: Periapical_Xrays/Primary Periodontal Lesion/Primary Periodontal Lesion (18).JPG  \n",
            "  inflating: Periapical_Xrays/Primary Periodontal Lesion/Primary Periodontal Lesion (19).JPG  \n",
            "  inflating: Periapical_Xrays/Primary Periodontal Lesion/Primary Periodontal Lesion (2).JPG  \n",
            "  inflating: Periapical_Xrays/Primary Periodontal Lesion/Primary Periodontal Lesion (20).JPG  \n",
            "  inflating: Periapical_Xrays/Primary Periodontal Lesion/Primary Periodontal Lesion (21).JPG  \n",
            "  inflating: Periapical_Xrays/Primary Periodontal Lesion/Primary Periodontal Lesion (22).JPG  \n",
            "  inflating: Periapical_Xrays/Primary Periodontal Lesion/Primary Periodontal Lesion (23).JPG  \n",
            "  inflating: Periapical_Xrays/Primary Periodontal Lesion/Primary Periodontal Lesion (24).JPG  \n",
            "  inflating: Periapical_Xrays/Primary Periodontal Lesion/Primary Periodontal Lesion (25).JPG  \n",
            "  inflating: Periapical_Xrays/Primary Periodontal Lesion/Primary Periodontal Lesion (26).JPG  \n",
            "  inflating: Periapical_Xrays/Primary Periodontal Lesion/Primary Periodontal Lesion (27).JPG  \n",
            "  inflating: Periapical_Xrays/Primary Periodontal Lesion/Primary Periodontal Lesion (28).JPG  \n",
            "  inflating: Periapical_Xrays/Primary Periodontal Lesion/Primary Periodontal Lesion (29).JPG  \n",
            "  inflating: Periapical_Xrays/Primary Periodontal Lesion/Primary Periodontal Lesion (3).JPG  \n",
            "  inflating: Periapical_Xrays/Primary Periodontal Lesion/Primary Periodontal Lesion (30).JPG  \n",
            "  inflating: Periapical_Xrays/Primary Periodontal Lesion/Primary Periodontal Lesion (31).JPG  \n",
            "  inflating: Periapical_Xrays/Primary Periodontal Lesion/Primary Periodontal Lesion (32).JPG  \n",
            "  inflating: Periapical_Xrays/Primary Periodontal Lesion/Primary Periodontal Lesion (33).JPG  \n",
            "  inflating: Periapical_Xrays/Primary Periodontal Lesion/Primary Periodontal Lesion (34).JPG  \n",
            "  inflating: Periapical_Xrays/Primary Periodontal Lesion/Primary Periodontal Lesion (35).JPG  \n",
            "  inflating: Periapical_Xrays/Primary Periodontal Lesion/Primary Periodontal Lesion (36).JPG  \n",
            "  inflating: Periapical_Xrays/Primary Periodontal Lesion/Primary Periodontal Lesion (37).JPG  \n",
            "  inflating: Periapical_Xrays/Primary Periodontal Lesion/Primary Periodontal Lesion (38).JPG  \n",
            "  inflating: Periapical_Xrays/Primary Periodontal Lesion/Primary Periodontal Lesion (39).JPG  \n",
            "  inflating: Periapical_Xrays/Primary Periodontal Lesion/Primary Periodontal Lesion (4).JPG  \n",
            "  inflating: Periapical_Xrays/Primary Periodontal Lesion/Primary Periodontal Lesion (40).JPG  \n",
            "  inflating: Periapical_Xrays/Primary Periodontal Lesion/Primary Periodontal Lesion (41).JPG  \n",
            "  inflating: Periapical_Xrays/Primary Periodontal Lesion/Primary Periodontal Lesion (42).JPG  \n",
            "  inflating: Periapical_Xrays/Primary Periodontal Lesion/Primary Periodontal Lesion (43).JPG  \n",
            "  inflating: Periapical_Xrays/Primary Periodontal Lesion/Primary Periodontal Lesion (44).JPG  \n",
            "  inflating: Periapical_Xrays/Primary Periodontal Lesion/Primary Periodontal Lesion (45).JPG  \n",
            "  inflating: Periapical_Xrays/Primary Periodontal Lesion/Primary Periodontal Lesion (46).JPG  \n",
            "  inflating: Periapical_Xrays/Primary Periodontal Lesion/Primary Periodontal Lesion (47).JPG  \n",
            "  inflating: Periapical_Xrays/Primary Periodontal Lesion/Primary Periodontal Lesion (48).JPG  \n",
            "  inflating: Periapical_Xrays/Primary Periodontal Lesion/Primary Periodontal Lesion (49).JPG  \n",
            "  inflating: Periapical_Xrays/Primary Periodontal Lesion/Primary Periodontal Lesion (5).JPG  \n",
            "  inflating: Periapical_Xrays/Primary Periodontal Lesion/Primary Periodontal Lesion (50).JPG  \n",
            "  inflating: Periapical_Xrays/Primary Periodontal Lesion/Primary Periodontal Lesion (51).JPG  \n",
            "  inflating: Periapical_Xrays/Primary Periodontal Lesion/Primary Periodontal Lesion (52).JPG  \n",
            "  inflating: Periapical_Xrays/Primary Periodontal Lesion/Primary Periodontal Lesion (53).JPG  \n",
            "  inflating: Periapical_Xrays/Primary Periodontal Lesion/Primary Periodontal Lesion (54).JPG  \n",
            "  inflating: Periapical_Xrays/Primary Periodontal Lesion/Primary Periodontal Lesion (55).JPG  \n",
            "  inflating: Periapical_Xrays/Primary Periodontal Lesion/Primary Periodontal Lesion (56).JPG  \n",
            "  inflating: Periapical_Xrays/Primary Periodontal Lesion/Primary Periodontal Lesion (57).JPG  \n",
            "  inflating: Periapical_Xrays/Primary Periodontal Lesion/Primary Periodontal Lesion (58).JPG  \n",
            "  inflating: Periapical_Xrays/Primary Periodontal Lesion/Primary Periodontal Lesion (59).JPG  \n",
            "  inflating: Periapical_Xrays/Primary Periodontal Lesion/Primary Periodontal Lesion (6).JPG  \n",
            "  inflating: Periapical_Xrays/Primary Periodontal Lesion/Primary Periodontal Lesion (60).JPG  \n",
            "  inflating: Periapical_Xrays/Primary Periodontal Lesion/Primary Periodontal Lesion (61).JPG  \n",
            "  inflating: Periapical_Xrays/Primary Periodontal Lesion/Primary Periodontal Lesion (62).JPG  \n",
            "  inflating: Periapical_Xrays/Primary Periodontal Lesion/Primary Periodontal Lesion (63).JPG  \n",
            "  inflating: Periapical_Xrays/Primary Periodontal Lesion/Primary Periodontal Lesion (64).JPG  \n",
            "  inflating: Periapical_Xrays/Primary Periodontal Lesion/Primary Periodontal Lesion (65).JPG  \n",
            "  inflating: Periapical_Xrays/Primary Periodontal Lesion/Primary Periodontal Lesion (66).JPG  \n",
            "  inflating: Periapical_Xrays/Primary Periodontal Lesion/Primary Periodontal Lesion (67).JPG  \n",
            "  inflating: Periapical_Xrays/Primary Periodontal Lesion/Primary Periodontal Lesion (68).JPG  \n",
            "  inflating: Periapical_Xrays/Primary Periodontal Lesion/Primary Periodontal Lesion (69).JPG  \n",
            "  inflating: Periapical_Xrays/Primary Periodontal Lesion/Primary Periodontal Lesion (7).JPG  \n",
            "  inflating: Periapical_Xrays/Primary Periodontal Lesion/Primary Periodontal Lesion (70).JPG  \n",
            "  inflating: Periapical_Xrays/Primary Periodontal Lesion/Primary Periodontal Lesion (71).JPG  \n",
            "  inflating: Periapical_Xrays/Primary Periodontal Lesion/Primary Periodontal Lesion (72).JPG  \n",
            "  inflating: Periapical_Xrays/Primary Periodontal Lesion/Primary Periodontal Lesion (73).JPG  \n",
            "  inflating: Periapical_Xrays/Primary Periodontal Lesion/Primary Periodontal Lesion (74).JPG  \n",
            "  inflating: Periapical_Xrays/Primary Periodontal Lesion/Primary Periodontal Lesion (75).JPG  \n",
            "  inflating: Periapical_Xrays/Primary Periodontal Lesion/Primary Periodontal Lesion (76).JPG  \n",
            "  inflating: Periapical_Xrays/Primary Periodontal Lesion/Primary Periodontal Lesion (77).JPG  \n",
            "  inflating: Periapical_Xrays/Primary Periodontal Lesion/Primary Periodontal Lesion (78).JPG  \n",
            "  inflating: Periapical_Xrays/Primary Periodontal Lesion/Primary Periodontal Lesion (79).JPG  \n",
            "  inflating: Periapical_Xrays/Primary Periodontal Lesion/Primary Periodontal Lesion (8).JPG  \n",
            "  inflating: Periapical_Xrays/Primary Periodontal Lesion/Primary Periodontal Lesion (80).JPG  \n",
            "  inflating: Periapical_Xrays/Primary Periodontal Lesion/Primary Periodontal Lesion (81).JPG  \n",
            "  inflating: Periapical_Xrays/Primary Periodontal Lesion/Primary Periodontal Lesion (82).JPG  \n",
            "  inflating: Periapical_Xrays/Primary Periodontal Lesion/Primary Periodontal Lesion (83).JPG  \n",
            "  inflating: Periapical_Xrays/Primary Periodontal Lesion/Primary Periodontal Lesion (84).JPG  \n",
            "  inflating: Periapical_Xrays/Primary Periodontal Lesion/Primary Periodontal Lesion (85).JPG  \n",
            "  inflating: Periapical_Xrays/Primary Periodontal Lesion/Primary Periodontal Lesion (86).JPG  \n",
            "  inflating: Periapical_Xrays/Primary Periodontal Lesion/Primary Periodontal Lesion (87).JPG  \n",
            "  inflating: Periapical_Xrays/Primary Periodontal Lesion/Primary Periodontal Lesion (88).JPG  \n",
            "  inflating: Periapical_Xrays/Primary Periodontal Lesion/Primary Periodontal Lesion (89).JPG  \n",
            "  inflating: Periapical_Xrays/Primary Periodontal Lesion/Primary Periodontal Lesion (9).JPG  \n",
            "  inflating: Periapical_Xrays/Primary Periodontal Lesion/Primary Periodontal Lesion (90).JPG  \n",
            "  inflating: Periapical_Xrays/Primary Periodontal Lesion/Primary Periodontal Lesion (91).JPG  \n",
            "  inflating: Periapical_Xrays/Primary Periodontal Lesion/Primary Periodontal Lesion (92).JPG  \n",
            "  inflating: Periapical_Xrays/Primary Periodontal Lesion/Primary Periodontal Lesion (93).JPG  \n",
            "  inflating: Periapical_Xrays/Primary Periodontal Lesion/Primary Periodontal Lesion (94).JPG  \n",
            "  inflating: Periapical_Xrays/Primary Periodontal Lesion/Primary Periodontal Lesion (95).JPG  \n",
            "  inflating: Periapical_Xrays/Primary Periodontal Lesion/Primary Periodontal Lesion (96).JPG  \n",
            "  inflating: Periapical_Xrays/Primary Periodontal Lesion/Primary Periodontal Lesion (97).JPG  \n",
            "  inflating: Periapical_Xrays/Primary Periodontal Lesion/Primary Periodontal Lesion (98).JPG  \n",
            "  inflating: Periapical_Xrays/Primary Periodontal Lesion/Primary Periodontal Lesion (99).JPG  \n",
            "  inflating: Periapical_Xrays/Primary Periodontal Lesion/Primary Periodontal Lesion.JPG  \n",
            "  inflating: Periapical_Xrays/True Combined Lesions/True Combined Lesion.JPG  \n",
            "  inflating: Periapical_Xrays/True Combined Lesions/True Combined Lesions (10).JPG  \n",
            "  inflating: Periapical_Xrays/True Combined Lesions/True Combined Lesions (100).JPG  \n",
            "  inflating: Periapical_Xrays/True Combined Lesions/True Combined Lesions (101).JPG  \n",
            "  inflating: Periapical_Xrays/True Combined Lesions/True Combined Lesions (102).JPG  \n",
            "  inflating: Periapical_Xrays/True Combined Lesions/True Combined Lesions (103).JPG  \n",
            "  inflating: Periapical_Xrays/True Combined Lesions/True Combined Lesions (104).JPG  \n",
            "  inflating: Periapical_Xrays/True Combined Lesions/True Combined Lesions (105).JPG  \n",
            "  inflating: Periapical_Xrays/True Combined Lesions/True Combined Lesions (106).JPG  \n",
            "  inflating: Periapical_Xrays/True Combined Lesions/True Combined Lesions (107).JPG  \n",
            "  inflating: Periapical_Xrays/True Combined Lesions/True Combined Lesions (108).JPG  \n",
            "  inflating: Periapical_Xrays/True Combined Lesions/True Combined Lesions (109).JPG  \n",
            "  inflating: Periapical_Xrays/True Combined Lesions/True Combined Lesions (11).JPG  \n",
            "  inflating: Periapical_Xrays/True Combined Lesions/True Combined Lesions (110).JPG  \n",
            "  inflating: Periapical_Xrays/True Combined Lesions/True Combined Lesions (111).JPG  \n",
            "  inflating: Periapical_Xrays/True Combined Lesions/True Combined Lesions (112).JPG  \n",
            "  inflating: Periapical_Xrays/True Combined Lesions/True Combined Lesions (113).JPG  \n",
            "  inflating: Periapical_Xrays/True Combined Lesions/True Combined Lesions (114).JPG  \n",
            "  inflating: Periapical_Xrays/True Combined Lesions/True Combined Lesions (115).JPG  \n",
            "  inflating: Periapical_Xrays/True Combined Lesions/True Combined Lesions (116).JPG  \n",
            "  inflating: Periapical_Xrays/True Combined Lesions/True Combined Lesions (117).JPG  \n",
            "  inflating: Periapical_Xrays/True Combined Lesions/True Combined Lesions (118).JPG  \n",
            "  inflating: Periapical_Xrays/True Combined Lesions/True Combined Lesions (119).JPG  \n",
            "  inflating: Periapical_Xrays/True Combined Lesions/True Combined Lesions (12).JPG  \n",
            "  inflating: Periapical_Xrays/True Combined Lesions/True Combined Lesions (120).JPG  \n",
            "  inflating: Periapical_Xrays/True Combined Lesions/True Combined Lesions (121).JPG  \n",
            "  inflating: Periapical_Xrays/True Combined Lesions/True Combined Lesions (122).JPG  \n",
            "  inflating: Periapical_Xrays/True Combined Lesions/True Combined Lesions (123).JPG  \n",
            "  inflating: Periapical_Xrays/True Combined Lesions/True Combined Lesions (124).JPG  \n",
            "  inflating: Periapical_Xrays/True Combined Lesions/True Combined Lesions (125).JPG  \n",
            "  inflating: Periapical_Xrays/True Combined Lesions/True Combined Lesions (126).JPG  \n",
            "  inflating: Periapical_Xrays/True Combined Lesions/True Combined Lesions (127).JPG  \n",
            "  inflating: Periapical_Xrays/True Combined Lesions/True Combined Lesions (128).JPG  \n",
            "  inflating: Periapical_Xrays/True Combined Lesions/True Combined Lesions (129).JPG  \n",
            "  inflating: Periapical_Xrays/True Combined Lesions/True Combined Lesions (13).JPG  \n",
            "  inflating: Periapical_Xrays/True Combined Lesions/True Combined Lesions (130).JPG  \n",
            "  inflating: Periapical_Xrays/True Combined Lesions/True Combined Lesions (14).JPG  \n",
            "  inflating: Periapical_Xrays/True Combined Lesions/True Combined Lesions (15).JPG  \n",
            "  inflating: Periapical_Xrays/True Combined Lesions/True Combined Lesions (16).JPG  \n",
            "  inflating: Periapical_Xrays/True Combined Lesions/True Combined Lesions (17).JPG  \n",
            "  inflating: Periapical_Xrays/True Combined Lesions/True Combined Lesions (18).JPG  \n",
            "  inflating: Periapical_Xrays/True Combined Lesions/True Combined Lesions (19).JPG  \n",
            "  inflating: Periapical_Xrays/True Combined Lesions/True Combined Lesions (2).JPG  \n",
            "  inflating: Periapical_Xrays/True Combined Lesions/True Combined Lesions (20).JPG  \n",
            "  inflating: Periapical_Xrays/True Combined Lesions/True Combined Lesions (21).JPG  \n",
            "  inflating: Periapical_Xrays/True Combined Lesions/True Combined Lesions (22).JPG  \n",
            "  inflating: Periapical_Xrays/True Combined Lesions/True Combined Lesions (23).JPG  \n",
            "  inflating: Periapical_Xrays/True Combined Lesions/True Combined Lesions (24).JPG  \n",
            "  inflating: Periapical_Xrays/True Combined Lesions/True Combined Lesions (25).JPG  \n",
            "  inflating: Periapical_Xrays/True Combined Lesions/True Combined Lesions (26).JPG  \n",
            "  inflating: Periapical_Xrays/True Combined Lesions/True Combined Lesions (27).JPG  \n",
            "  inflating: Periapical_Xrays/True Combined Lesions/True Combined Lesions (28).JPG  \n",
            "  inflating: Periapical_Xrays/True Combined Lesions/True Combined Lesions (29).JPG  \n",
            "  inflating: Periapical_Xrays/True Combined Lesions/True Combined Lesions (3).JPG  \n",
            "  inflating: Periapical_Xrays/True Combined Lesions/True Combined Lesions (30).JPG  \n",
            "  inflating: Periapical_Xrays/True Combined Lesions/True Combined Lesions (31).JPG  \n",
            "  inflating: Periapical_Xrays/True Combined Lesions/True Combined Lesions (32).JPG  \n",
            "  inflating: Periapical_Xrays/True Combined Lesions/True Combined Lesions (33).JPG  \n",
            "  inflating: Periapical_Xrays/True Combined Lesions/True Combined Lesions (34).JPG  \n",
            "  inflating: Periapical_Xrays/True Combined Lesions/True Combined Lesions (35).JPG  \n",
            "  inflating: Periapical_Xrays/True Combined Lesions/True Combined Lesions (36).JPG  \n",
            "  inflating: Periapical_Xrays/True Combined Lesions/True Combined Lesions (37).JPG  \n",
            "  inflating: Periapical_Xrays/True Combined Lesions/True Combined Lesions (38).JPG  \n",
            "  inflating: Periapical_Xrays/True Combined Lesions/True Combined Lesions (39).JPG  \n",
            "  inflating: Periapical_Xrays/True Combined Lesions/True Combined Lesions (4).JPG  \n",
            "  inflating: Periapical_Xrays/True Combined Lesions/True Combined Lesions (40).JPG  \n",
            "  inflating: Periapical_Xrays/True Combined Lesions/True Combined Lesions (41).JPG  \n",
            "  inflating: Periapical_Xrays/True Combined Lesions/True Combined Lesions (42).JPG  \n",
            "  inflating: Periapical_Xrays/True Combined Lesions/True Combined Lesions (43).JPG  \n",
            "  inflating: Periapical_Xrays/True Combined Lesions/True Combined Lesions (44).JPG  \n",
            "  inflating: Periapical_Xrays/True Combined Lesions/True Combined Lesions (45).JPG  \n",
            "  inflating: Periapical_Xrays/True Combined Lesions/True Combined Lesions (46).JPG  \n",
            "  inflating: Periapical_Xrays/True Combined Lesions/True Combined Lesions (47).JPG  \n",
            "  inflating: Periapical_Xrays/True Combined Lesions/True Combined Lesions (48).JPG  \n",
            "  inflating: Periapical_Xrays/True Combined Lesions/True Combined Lesions (49).JPG  \n",
            "  inflating: Periapical_Xrays/True Combined Lesions/True Combined Lesions (5).JPG  \n",
            "  inflating: Periapical_Xrays/True Combined Lesions/True Combined Lesions (50).JPG  \n",
            "  inflating: Periapical_Xrays/True Combined Lesions/True Combined Lesions (51).JPG  \n",
            "  inflating: Periapical_Xrays/True Combined Lesions/True Combined Lesions (52).JPG  \n",
            "  inflating: Periapical_Xrays/True Combined Lesions/True Combined Lesions (53).JPG  \n",
            "  inflating: Periapical_Xrays/True Combined Lesions/True Combined Lesions (54).JPG  \n",
            "  inflating: Periapical_Xrays/True Combined Lesions/True Combined Lesions (55).JPG  \n",
            "  inflating: Periapical_Xrays/True Combined Lesions/True Combined Lesions (56).JPG  \n",
            "  inflating: Periapical_Xrays/True Combined Lesions/True Combined Lesions (57).JPG  \n",
            "  inflating: Periapical_Xrays/True Combined Lesions/True Combined Lesions (58).JPG  \n",
            "  inflating: Periapical_Xrays/True Combined Lesions/True Combined Lesions (59).JPG  \n",
            "  inflating: Periapical_Xrays/True Combined Lesions/True Combined Lesions (6).JPG  \n",
            "  inflating: Periapical_Xrays/True Combined Lesions/True Combined Lesions (60).JPG  \n",
            "  inflating: Periapical_Xrays/True Combined Lesions/True Combined Lesions (61).JPG  \n",
            "  inflating: Periapical_Xrays/True Combined Lesions/True Combined Lesions (62).JPG  \n",
            "  inflating: Periapical_Xrays/True Combined Lesions/True Combined Lesions (63).JPG  \n",
            "  inflating: Periapical_Xrays/True Combined Lesions/True Combined Lesions (64).JPG  \n",
            "  inflating: Periapical_Xrays/True Combined Lesions/True Combined Lesions (65).JPG  \n",
            "  inflating: Periapical_Xrays/True Combined Lesions/True Combined Lesions (66).JPG  \n",
            "  inflating: Periapical_Xrays/True Combined Lesions/True Combined Lesions (67).JPG  \n",
            "  inflating: Periapical_Xrays/True Combined Lesions/True Combined Lesions (68).JPG  \n",
            "  inflating: Periapical_Xrays/True Combined Lesions/True Combined Lesions (69).JPG  \n",
            "  inflating: Periapical_Xrays/True Combined Lesions/True Combined Lesions (7).JPG  \n",
            "  inflating: Periapical_Xrays/True Combined Lesions/True Combined Lesions (70).JPG  \n",
            "  inflating: Periapical_Xrays/True Combined Lesions/True Combined Lesions (71).JPG  \n",
            "  inflating: Periapical_Xrays/True Combined Lesions/True Combined Lesions (72).JPG  \n",
            "  inflating: Periapical_Xrays/True Combined Lesions/True Combined Lesions (73).JPG  \n",
            "  inflating: Periapical_Xrays/True Combined Lesions/True Combined Lesions (74).JPG  \n",
            "  inflating: Periapical_Xrays/True Combined Lesions/True Combined Lesions (75).JPG  \n",
            "  inflating: Periapical_Xrays/True Combined Lesions/True Combined Lesions (76).JPG  \n",
            "  inflating: Periapical_Xrays/True Combined Lesions/True Combined Lesions (77).JPG  \n",
            "  inflating: Periapical_Xrays/True Combined Lesions/True Combined Lesions (78).JPG  \n",
            "  inflating: Periapical_Xrays/True Combined Lesions/True Combined Lesions (79).JPG  \n",
            "  inflating: Periapical_Xrays/True Combined Lesions/True Combined Lesions (8).JPG  \n",
            "  inflating: Periapical_Xrays/True Combined Lesions/True Combined Lesions (80).JPG  \n",
            "  inflating: Periapical_Xrays/True Combined Lesions/True Combined Lesions (81).JPG  \n",
            "  inflating: Periapical_Xrays/True Combined Lesions/True Combined Lesions (82).JPG  \n",
            "  inflating: Periapical_Xrays/True Combined Lesions/True Combined Lesions (83).JPG  \n",
            "  inflating: Periapical_Xrays/True Combined Lesions/True Combined Lesions (84).JPG  \n",
            "  inflating: Periapical_Xrays/True Combined Lesions/True Combined Lesions (85).JPG  \n",
            "  inflating: Periapical_Xrays/True Combined Lesions/True Combined Lesions (86).JPG  \n",
            "  inflating: Periapical_Xrays/True Combined Lesions/True Combined Lesions (87).JPG  \n",
            "  inflating: Periapical_Xrays/True Combined Lesions/True Combined Lesions (88).JPG  \n",
            "  inflating: Periapical_Xrays/True Combined Lesions/True Combined Lesions (89).JPG  \n",
            "  inflating: Periapical_Xrays/True Combined Lesions/True Combined Lesions (9).JPG  \n",
            "  inflating: Periapical_Xrays/True Combined Lesions/True Combined Lesions (90).JPG  \n",
            "  inflating: Periapical_Xrays/True Combined Lesions/True Combined Lesions (91).JPG  \n",
            "  inflating: Periapical_Xrays/True Combined Lesions/True Combined Lesions (92).JPG  \n",
            "  inflating: Periapical_Xrays/True Combined Lesions/True Combined Lesions (93).JPG  \n",
            "  inflating: Periapical_Xrays/True Combined Lesions/True Combined Lesions (94).JPG  \n",
            "  inflating: Periapical_Xrays/True Combined Lesions/True Combined Lesions (95).JPG  \n",
            "  inflating: Periapical_Xrays/True Combined Lesions/True Combined Lesions (96).JPG  \n",
            "  inflating: Periapical_Xrays/True Combined Lesions/True Combined Lesions (97).JPG  \n",
            "  inflating: Periapical_Xrays/True Combined Lesions/True Combined Lesions (98).JPG  \n",
            "  inflating: Periapical_Xrays/True Combined Lesions/True Combined Lesions (99).JPG  \n",
            "  inflating: Periapical_Xrays/True Combined Lesions/True Combined Lesions.JPG  \n"
          ]
        }
      ]
    },
    {
      "cell_type": "code",
      "source": [
        "# Display total number of images present in each category\n",
        "source_path = '/content/Periapical_Xrays'\n",
        "\n",
        "source_path_Primary_Endo_with_Secondary_Perio = os.path.join(source_path, 'Primary Endo with Secondary Perio')\n",
        "source_path_Primary_Endodontic_Lesion = os.path.join(source_path, 'Primary Endodontic Lesion')\n",
        "source_path_Primary_Perio_with_Secondary_Endo = os.path.join(source_path, 'Primary Perio with Secondary Endo')\n",
        "source_path_Primary_Periodontal_Lesion = os.path.join(source_path, 'Primary Periodontal Lesion')\n",
        "source_path_True_Combined_Lesions = os.path.join(source_path, 'True Combined Lesions')\n",
        "\n",
        "# # Deletes all non-image files (there are two .db files bundled into the dataset)\n",
        "# !find /tmp/PetImages/ -type f ! -name \"*.jpg\" -exec rm {} +\n",
        "\n",
        "# os.listdir returns a list containing all files under the given path\n",
        "print(f\"There are {len(os.listdir(source_path_Primary_Endo_with_Secondary_Perio))} images of Primary Endo with Secondary Perio.\")\n",
        "print(f\"There are {len(os.listdir(source_path_Primary_Endodontic_Lesion))} images of Primary Endodontic Lesion.\")\n",
        "print(f\"There are {len(os.listdir(source_path_Primary_Perio_with_Secondary_Endo))} images of Primary Perio with Secondary Endo.\")\n",
        "print(f\"There are {len(os.listdir(source_path_Primary_Periodontal_Lesion))} images of Primary Periodontal Lesion.\")\n",
        "print(f\"There are {len(os.listdir(source_path_True_Combined_Lesions))} images of True Combined Lesions.\")"
      ],
      "metadata": {
        "id": "AFv4dEAjBF1z",
        "colab": {
          "base_uri": "https://localhost:8080/"
        },
        "outputId": "9bfb3170-acab-4c62-8df3-79ce55ca82e4"
      },
      "execution_count": 5,
      "outputs": [
        {
          "output_type": "stream",
          "name": "stdout",
          "text": [
            "There are 122 images of Primary Endo with Secondary Perio.\n",
            "There are 124 images of Primary Endodontic Lesion.\n",
            "There are 39 images of Primary Perio with Secondary Endo.\n",
            "There are 118 images of Primary Periodontal Lesion.\n",
            "There are 131 images of True Combined Lesions.\n"
          ]
        }
      ]
    },
    {
      "cell_type": "markdown",
      "source": [
        "\n",
        "\n",
        "Now we create two trianing and validation directories and in that directories creating subdirectories for each catogory/class."
      ],
      "metadata": {
        "id": "FnL2Cxa3LjtS"
      }
    },
    {
      "cell_type": "code",
      "source": [
        "import shutil\n",
        "# Define root directory\n",
        "root_dir = '/content/Xrays'\n",
        "\n",
        "# Empty directory to prevent FileExistsError is the function is run several times\n",
        "if os.path.exists(root_dir):\n",
        "  shutil.rmtree(root_dir)\n",
        "\n",
        "# create_train_val_dirs\n",
        "def create_train_val_dirs(root_path):\n",
        "  \"\"\"\n",
        "  Creates directories for the train and test sets\n",
        "\n",
        "  Args:\n",
        "    root_path (string) - the base directory path to create subdirectories from\n",
        "\n",
        "\n",
        "  \"\"\"\n",
        "\n",
        "\n",
        "\n",
        "  #This for creating training subdirectory\n",
        "  parent_dir = root_path + \"/training\"\n",
        "  path=os.path.join(parent_dir,'Primary Endo with Secondary Perio')\n",
        "  os.makedirs(path)\n",
        "  path=os.path.join(parent_dir,'Primary Endodontic Lesion')\n",
        "  os.makedirs(path)\n",
        "  path=os.path.join(parent_dir,'Primary Perio with Secondary Endo')\n",
        "  os.makedirs(path)\n",
        "  path=os.path.join(parent_dir,'Primary Periodontal Lesion')\n",
        "  os.makedirs(path)\n",
        "  path=os.path.join(parent_dir,'True Combined Lesions')\n",
        "  os.makedirs(path)\n",
        "\n",
        "  # This for creating validation subdirectory\n",
        "  parent_dir=root_path + \"/validation\"\n",
        "  path=os.path.join(parent_dir,'Primary Endo with Secondary Perio')\n",
        "  os.makedirs(path)\n",
        "  path=os.path.join(parent_dir,'Primary Endodontic Lesion')\n",
        "  os.makedirs(path)\n",
        "  path=os.path.join(parent_dir,'Primary Perio with Secondary Endo')\n",
        "  os.makedirs(path)\n",
        "  path=os.path.join(parent_dir,'Primary Periodontal Lesion')\n",
        "  os.makedirs(path)\n",
        "  path=os.path.join(parent_dir,'True Combined Lesions')\n",
        "  os.makedirs(path)\n",
        "\n",
        "\n",
        "\n",
        "  ### END CODE HERE\n",
        "\n",
        "\n",
        "try:\n",
        "  create_train_val_dirs(root_path=root_dir)\n",
        "except FileExistsError:\n",
        "  print(\"You should not be seeing this since the upper directory is removed beforehand\")"
      ],
      "metadata": {
        "id": "cE4n0uBuMAxi"
      },
      "execution_count": 6,
      "outputs": []
    },
    {
      "cell_type": "code",
      "source": [
        "for rootdir, dirs, files in os.walk(root_dir):\n",
        "    for subdir in dirs:\n",
        "        print(os.path.join(rootdir, subdir))"
      ],
      "metadata": {
        "colab": {
          "base_uri": "https://localhost:8080/"
        },
        "id": "xpuiYYJFNsQD",
        "outputId": "3481019e-adb1-4bf5-9f8d-174f0b35bab8"
      },
      "execution_count": 7,
      "outputs": [
        {
          "output_type": "stream",
          "name": "stdout",
          "text": [
            "/content/Xrays/validation\n",
            "/content/Xrays/training\n",
            "/content/Xrays/validation/Primary Endo with Secondary Perio\n",
            "/content/Xrays/validation/True Combined Lesions\n",
            "/content/Xrays/validation/Primary Periodontal Lesion\n",
            "/content/Xrays/validation/Primary Perio with Secondary Endo\n",
            "/content/Xrays/validation/Primary Endodontic Lesion\n",
            "/content/Xrays/training/Primary Endo with Secondary Perio\n",
            "/content/Xrays/training/True Combined Lesions\n",
            "/content/Xrays/training/Primary Periodontal Lesion\n",
            "/content/Xrays/training/Primary Perio with Secondary Endo\n",
            "/content/Xrays/training/Primary Endodontic Lesion\n"
          ]
        }
      ]
    },
    {
      "cell_type": "code",
      "source": [
        "# split_data\n",
        "def split_data(SOURCE_DIR, TRAINING_DIR, VALIDATION_DIR, SPLIT_SIZE):\n",
        "  \"\"\"\n",
        "  Splits the data into train and test sets\n",
        "\n",
        "  Args:\n",
        "    SOURCE_DIR (string): directory path containing the images\n",
        "    TRAINING_DIR (string): directory path to be used for training\n",
        "    VALIDATION_DIR (string): directory path to be used for validation\n",
        "    SPLIT_SIZE (float): proportion of the dataset to be used for training\n",
        "\n",
        "  Returns:\n",
        "    None\n",
        "  \"\"\"\n",
        "\n",
        "  shuffle_list=random.sample(os.listdir(SOURCE_DIR),len(os.listdir(SOURCE_DIR)))\n",
        "\n",
        "  training_number=int(len(shuffle_list)*SPLIT_SIZE)\n",
        "\n",
        "  i=0\n",
        "  target=TRAINING_DIR\n",
        "\n",
        "  for item in shuffle_list:\n",
        "    item_source=os.path.join(SOURCE_DIR,item)\n",
        "    if os.path.getsize(item_source)==0:\n",
        "      print(f'{item}is zero length, so ignoring.')\n",
        "    else:\n",
        "      copyfile(item_source,os.path.join(target,item))\n",
        "      i+=1\n",
        "\n",
        "    if i==training_number:\n",
        "      target=VALIDATION_DIR\n"
      ],
      "metadata": {
        "id": "uOc-KsRYOn0w"
      },
      "execution_count": 8,
      "outputs": []
    },
    {
      "cell_type": "code",
      "source": [
        "\n",
        "\n",
        "# Define paths\n",
        "Pr_En_wi_Se_Pe_SOURCE_DIR = \"/content/Periapical_Xrays/Primary Endo with Secondary Perio\"\n",
        "Pr_En_Le_SOURCE_DIR = \"/content/Periapical_Xrays/Primary Endodontic Lesion\"\n",
        "Pr_Pe_wi_En_SOURCE_DIR=\"/content/Periapical_Xrays/Primary Perio with Secondary Endo\"\n",
        "Pr_Pe_Le_SOURCE_DIR=\"/content/Periapical_Xrays/Primary Periodontal Lesion\"\n",
        "Tr_Co_Le_SOURCE_DIR=\"/content/Periapical_Xrays/True Combined Lesions\"\n",
        "\n",
        "TRAINING_DIR = \"/content/Xrays/training\"\n",
        "VALIDATION_DIR = \"/content/Xrays/validation\"\n",
        "\n",
        "TRAINING_Pr_En_wi_Se_Pe_DIR = os.path.join(TRAINING_DIR, \"Primary Endo with Secondary Perio/\")\n",
        "TRAINING_Pr_En_Le_DIR=os.path.join(TRAINING_DIR,\"Primary Endodontic Lesion/\")\n",
        "TRAINING_Pr_Pe_wi_En_DIR=os.path.join(TRAINING_DIR,\"Primary Perio with Secondary Endo/\")\n",
        "TRAINING_Pr_Pe_Le_DIR=os.path.join(TRAINING_DIR,\"Primary Periodontal Lesion/\")\n",
        "TRAINING_Tr_Co_Le_DIR=os.path.join(TRAINING_DIR,\"True Combined Lesions/\")\n",
        "\n",
        "\n",
        "VALIDATION_Pr_En_wi_Se_Pe_DIR = os.path.join(VALIDATION_DIR, \"Primary Endo with Secondary Perio/\")\n",
        "VALIDATION_Pr_En_Le_DIR=os.path.join(VALIDATION_DIR,\"Primary Endodontic Lesion/\")\n",
        "VALIDATION_Pr_Pe_wi_En_DIR=os.path.join(VALIDATION_DIR,\"Primary Perio with Secondary Endo/\")\n",
        "VALIDATION_Pr_Pe_Le_DIR=os.path.join(VALIDATION_DIR,\"Primary Periodontal Lesion/\")\n",
        "VALIDATION_Tr_Co_Le_DIR=os.path.join(VALIDATION_DIR,\"True Combined Lesions/\")\n",
        "\n",
        "\n",
        "# Define proportion of images used for training\n",
        "split_size = .85\n",
        "\n",
        "# Run the function\n",
        "# NOTE: Messages about zero length images should be printed out\n",
        "split_data(Pr_En_wi_Se_Pe_SOURCE_DIR, TRAINING_Pr_En_wi_Se_Pe_DIR,VALIDATION_Pr_En_wi_Se_Pe_DIR, split_size)\n",
        "split_data(Pr_En_Le_SOURCE_DIR, TRAINING_Pr_En_Le_DIR,VALIDATION_Pr_En_Le_DIR, split_size)\n",
        "split_data(Pr_Pe_wi_En_SOURCE_DIR,TRAINING_Pr_Pe_wi_En_DIR,VALIDATION_Pr_Pe_wi_En_DIR,split_size)\n",
        "split_data(Pr_Pe_Le_SOURCE_DIR,TRAINING_Pr_Pe_Le_DIR,VALIDATION_Pr_Pe_Le_DIR,split_size)\n",
        "split_data(Tr_Co_Le_SOURCE_DIR,TRAINING_Tr_Co_Le_DIR,VALIDATION_Tr_Co_Le_DIR,split_size)\n",
        "\n",
        "# Check that the number of images matches the expected output\n",
        "\n",
        "# Your function should perform copies rather than moving images so original directories should contain unchanged images\n",
        "print(f\"\\n\\nOriginal Primary Endo with Secondary Perio directory has {len(os.listdir(Pr_En_wi_Se_Pe_SOURCE_DIR))} images\")\n",
        "print(f\"Original Primary Endodontic Lesion directory has {len(os.listdir(Pr_En_Le_SOURCE_DIR))} images\\n\")\n",
        "print(f\"Orignal Primary Perio with Secondary Endo has {len(os.listdir(Pr_Pe_wi_En_SOURCE_DIR))} images\\n\")\n",
        "print(f\"Orignal Primary Periodontal Lesion has {len(os.listdir(Pr_Pe_Le_SOURCE_DIR))} images\\n\")\n",
        "print(f\"Orignal True Combined Lesions has {len(os.listdir(Tr_Co_Le_SOURCE_DIR))} images\\n\")\n",
        "\n",
        "# Training and validation splits\n",
        "print(f\"There are {len(os.listdir(TRAINING_Pr_En_wi_Se_Pe_DIR))} images of Primary Endo with Secondary Perio directory for training\")\n",
        "print(f\"There are {len(os.listdir(TRAINING_Pr_En_Le_DIR))} images of Primary Endodontic Lesion directory for training\")\n",
        "print(f\"There are {len(os.listdir(TRAINING_Pr_Pe_wi_En_DIR))} images of Primary Perio with Secondary Endo directory for training\")\n",
        "print(f\"There are {len(os.listdir(TRAINING_Pr_Pe_Le_DIR))} images of Primary Periodontal Lesion directory for training\")\n",
        "print(f\"There are {len(os.listdir(TRAINING_Tr_Co_Le_DIR))} images of True Combined Lesions directory for training\\n\")\n",
        "\n",
        "print(f\"There are {len(os.listdir(VALIDATION_Pr_En_wi_Se_Pe_DIR))} images of Primary Endo with Secondary Perio for validation\")\n",
        "print(f\"There are {len(os.listdir(VALIDATION_Pr_En_Le_DIR))} images of Primary Endodontic Lesion for validation\")\n",
        "print(f\"There are {len(os.listdir(VALIDATION_Pr_Pe_wi_En_DIR))} images of  Primary Perio with Secondary Endo for validation\")\n",
        "print(f\"There are {len(os.listdir(VALIDATION_Pr_Pe_Le_DIR))} images of  Primary Periodontal Lesion for validaton\")\n",
        "print(f\"There are {len(os.listdir(VALIDATION_Tr_Co_Le_DIR))} images of  True Combined Lesions for validation\")"
      ],
      "metadata": {
        "colab": {
          "base_uri": "https://localhost:8080/"
        },
        "id": "nUyvNGORAdN5",
        "outputId": "032bbbf8-8d69-4e75-b717-54b414d4d142"
      },
      "execution_count": 9,
      "outputs": [
        {
          "output_type": "stream",
          "name": "stdout",
          "text": [
            "\n",
            "\n",
            "Original Primary Endo with Secondary Perio directory has 122 images\n",
            "Original Primary Endodontic Lesion directory has 124 images\n",
            "\n",
            "Orignal Primary Perio with Secondary Endo has 39 images\n",
            "\n",
            "Orignal Primary Periodontal Lesion has 118 images\n",
            "\n",
            "Orignal True Combined Lesions has 131 images\n",
            "\n",
            "There are 103 images of Primary Endo with Secondary Perio directory for training\n",
            "There are 105 images of Primary Endodontic Lesion directory for training\n",
            "There are 33 images of Primary Perio with Secondary Endo directory for training\n",
            "There are 100 images of Primary Periodontal Lesion directory for training\n",
            "There are 111 images of True Combined Lesions directory for training\n",
            "\n",
            "There are 19 images of Primary Endo with Secondary Perio for validation\n",
            "There are 19 images of Primary Endodontic Lesion for validation\n",
            "There are 6 images of  Primary Perio with Secondary Endo for validation\n",
            "There are 18 images of  Primary Periodontal Lesion for validaton\n",
            "There are 20 images of  True Combined Lesions for validation\n"
          ]
        }
      ]
    },
    {
      "cell_type": "code",
      "source": [
        "# Read input images and assign labels based on folder names\n",
        "print(os.listdir(\"Xrays/\"))"
      ],
      "metadata": {
        "colab": {
          "base_uri": "https://localhost:8080/"
        },
        "id": "kWg29C8tQv_w",
        "outputId": "1b2a70d6-64ad-45bb-fe69-9f5741ff0c34"
      },
      "execution_count": 11,
      "outputs": [
        {
          "output_type": "stream",
          "name": "stdout",
          "text": [
            "['validation', 'training']\n"
          ]
        }
      ]
    },
    {
      "cell_type": "code",
      "source": [
        "SIZE = 256  #Resize images"
      ],
      "metadata": {
        "id": "rF8fRmNMSD_F"
      },
      "execution_count": 10,
      "outputs": []
    },
    {
      "cell_type": "code",
      "source": [
        "#Capture training data and labels into respective lists\n",
        "train_images = []\n",
        "train_labels = []"
      ],
      "metadata": {
        "id": "HIjnvUkWZPIA"
      },
      "execution_count": 11,
      "outputs": []
    },
    {
      "cell_type": "code",
      "source": [
        "for directory_path in glob.glob(\"/content/Xrays/training/*\"):\n",
        "    train_label = directory_path.split(\"/\")[-1]\n",
        "    print(train_label)\n",
        "    for img_path in glob.glob(os.path.join(directory_path, \"*.JPG\")):\n",
        "      print(img_path)\n",
        "      img = cv2.imread(img_path, cv2.IMREAD_COLOR)\n",
        "      img = cv2.resize(img, (SIZE, SIZE))\n",
        "      img = cv2.cvtColor(img, cv2.COLOR_RGB2BGR)\n",
        "      train_images.append(img)\n",
        "      train_labels.append(train_label)"
      ],
      "metadata": {
        "colab": {
          "base_uri": "https://localhost:8080/"
        },
        "id": "OJQpss-NZWtw",
        "outputId": "e71c4365-e109-4ef1-8177-1497fe52a149"
      },
      "execution_count": 12,
      "outputs": [
        {
          "output_type": "stream",
          "name": "stdout",
          "text": [
            "Primary Endo with Secondary Perio\n",
            "/content/Xrays/training/Primary Endo with Secondary Perio/Primary Endo with Secondary Perio (84).JPG\n",
            "/content/Xrays/training/Primary Endo with Secondary Perio/Primary Endo with Secondary Perio (89).JPG\n",
            "/content/Xrays/training/Primary Endo with Secondary Perio/Primary Endo with Secondary Perio (113).JPG\n",
            "/content/Xrays/training/Primary Endo with Secondary Perio/Primary Endo with Secondary Perio (26).JPG\n",
            "/content/Xrays/training/Primary Endo with Secondary Perio/Primary Endo with Secondary Perio (38).JPG\n",
            "/content/Xrays/training/Primary Endo with Secondary Perio/Primary Endo with Secondary Perio (111).JPG\n",
            "/content/Xrays/training/Primary Endo with Secondary Perio/Primary Endo with Secondary Perio (88).JPG\n",
            "/content/Xrays/training/Primary Endo with Secondary Perio/Primary Endo with Secondary Perio (69).JPG\n",
            "/content/Xrays/training/Primary Endo with Secondary Perio/Primary Endo with Secondary Perio (116).JPG\n",
            "/content/Xrays/training/Primary Endo with Secondary Perio/Primary Endo with Secondary Perio (106).JPG\n",
            "/content/Xrays/training/Primary Endo with Secondary Perio/Primary Endo with Secondary Perio (57).JPG\n",
            "/content/Xrays/training/Primary Endo with Secondary Perio/Primary Endo with Secondary Perio (34).JPG\n",
            "/content/Xrays/training/Primary Endo with Secondary Perio/Primary Endo with Secondary Perio (30).JPG\n",
            "/content/Xrays/training/Primary Endo with Secondary Perio/Primary Endo with Secondary Perio (104).JPG\n",
            "/content/Xrays/training/Primary Endo with Secondary Perio/Primary Endo with Secondary Perio (109).JPG\n",
            "/content/Xrays/training/Primary Endo with Secondary Perio/Primary Endo with Secondary Perio (45).JPG\n",
            "/content/Xrays/training/Primary Endo with Secondary Perio/Primary Endo with Secondary Perio (44).JPG\n",
            "/content/Xrays/training/Primary Endo with Secondary Perio/Primary Endo with Secondary Perio (32).JPG\n",
            "/content/Xrays/training/Primary Endo with Secondary Perio/Primary Endo with Secondary Perio (14).JPG\n",
            "/content/Xrays/training/Primary Endo with Secondary Perio/Primary Endo with Secondary Perio (50).JPG\n",
            "/content/Xrays/training/Primary Endo with Secondary Perio/Primary Endo with Secondary Perio (65).JPG\n",
            "/content/Xrays/training/Primary Endo with Secondary Perio/Primary Endo with Secondary Perio (70).JPG\n",
            "/content/Xrays/training/Primary Endo with Secondary Perio/Primary Endo with Secondary Perio (114).JPG\n",
            "/content/Xrays/training/Primary Endo with Secondary Perio/Primary Endo with Secondary Perio (100).JPG\n",
            "/content/Xrays/training/Primary Endo with Secondary Perio/Primary Endo with Secondary Perio (40).JPG\n",
            "/content/Xrays/training/Primary Endo with Secondary Perio/Primary Endo with Secondary Perio (17).JPG\n",
            "/content/Xrays/training/Primary Endo with Secondary Perio/Primary Endo with Secondary Perio (95).JPG\n",
            "/content/Xrays/training/Primary Endo with Secondary Perio/Primary Endo with Secondary Perio (43).JPG\n",
            "/content/Xrays/training/Primary Endo with Secondary Perio/Primary Endo with Secondary Perio (35).JPG\n",
            "/content/Xrays/training/Primary Endo with Secondary Perio/Primary Endo with Secondary Perio (21).JPG\n",
            "/content/Xrays/training/Primary Endo with Secondary Perio/Primary Endo with Secondary Perio (93).JPG\n",
            "/content/Xrays/training/Primary Endo with Secondary Perio/Primary Endo with Secondary Perio (71).JPG\n",
            "/content/Xrays/training/Primary Endo with Secondary Perio/Primary Endo with Secondary Perio (54).JPG\n",
            "/content/Xrays/training/Primary Endo with Secondary Perio/Primary Endo with Secondary Perio (82).JPG\n",
            "/content/Xrays/training/Primary Endo with Secondary Perio/Primary Endo with Secondary Perio (101).JPG\n",
            "/content/Xrays/training/Primary Endo with Secondary Perio/Primary Endo with Secondary Perio (80).JPG\n",
            "/content/Xrays/training/Primary Endo with Secondary Perio/Primary Endo with Secondary Perio (117).JPG\n",
            "/content/Xrays/training/Primary Endo with Secondary Perio/Primary Endo with Secondary Perio (28).JPG\n",
            "/content/Xrays/training/Primary Endo with Secondary Perio/Primary Endo with Secondary Perio (96).JPG\n",
            "/content/Xrays/training/Primary Endo with Secondary Perio/Primary Endo with Secondary Perio (79).JPG\n",
            "/content/Xrays/training/Primary Endo with Secondary Perio/Primary Endo with Secondary Perio (91).JPG\n",
            "/content/Xrays/training/Primary Endo with Secondary Perio/Primary Endo with Secondary Perio (110).JPG\n",
            "/content/Xrays/training/Primary Endo with Secondary Perio/Primary Endo with Secondary Perio (67).JPG\n",
            "/content/Xrays/training/Primary Endo with Secondary Perio/Primary Endo with Secondary Perio (42).JPG\n",
            "/content/Xrays/training/Primary Endo with Secondary Perio/Primary Endo with Secondary Perio (51).JPG\n",
            "/content/Xrays/training/Primary Endo with Secondary Perio/Primary Endo with Secondary Perio (112).JPG\n",
            "/content/Xrays/training/Primary Endo with Secondary Perio/Primary Endo with Secondary Perio (87).JPG\n",
            "/content/Xrays/training/Primary Endo with Secondary Perio/Primary Endo with Secondary Perio (81).JPG\n",
            "/content/Xrays/training/Primary Endo with Secondary Perio/Primary Endo with Secondary Perio (19).JPG\n",
            "/content/Xrays/training/Primary Endo with Secondary Perio/Primary Endo with Secondary Perio (107).JPG\n",
            "/content/Xrays/training/Primary Endo with Secondary Perio/Primary Endo with Secondary Perio (85).JPG\n",
            "/content/Xrays/training/Primary Endo with Secondary Perio/Primary Endo with Secondary Perio (47).JPG\n",
            "/content/Xrays/training/Primary Endo with Secondary Perio/Primary Endo with Secondary Perio (6).JPG\n",
            "/content/Xrays/training/Primary Endo with Secondary Perio/Primary Endo with Secondary Perio (61).JPG\n",
            "/content/Xrays/training/Primary Endo with Secondary Perio/Primary Endo with Secondary Perio (58).JPG\n",
            "/content/Xrays/training/Primary Endo with Secondary Perio/Primary Endo with Secondary Perio (39).JPG\n",
            "/content/Xrays/training/Primary Endo with Secondary Perio/Primary Endo with Secondary Perio (122).JPG\n",
            "/content/Xrays/training/Primary Endo with Secondary Perio/Primary Endo with Secondary Perio (23).JPG\n",
            "/content/Xrays/training/Primary Endo with Secondary Perio/Primary Endo with Secondary Perio (73).JPG\n",
            "/content/Xrays/training/Primary Endo with Secondary Perio/Primary Endo with Secondary Perio (119).JPG\n",
            "/content/Xrays/training/Primary Endo with Secondary Perio/Primary Endo with Secondary Perio (120).JPG\n",
            "/content/Xrays/training/Primary Endo with Secondary Perio/Primary Endo with Secondary Perio (5).JPG\n",
            "/content/Xrays/training/Primary Endo with Secondary Perio/Primary Endo with Secondary Perio (121).JPG\n",
            "/content/Xrays/training/Primary Endo with Secondary Perio/Primary Endo with Secondary Perio (20).JPG\n",
            "/content/Xrays/training/Primary Endo with Secondary Perio/Primary Endo with Secondary Perio (27).JPG\n",
            "/content/Xrays/training/Primary Endo with Secondary Perio/Primary Endo with Secondary Perio (16).JPG\n",
            "/content/Xrays/training/Primary Endo with Secondary Perio/Primary Endo with Secondary Perio (83).JPG\n",
            "/content/Xrays/training/Primary Endo with Secondary Perio/Primary Endo with Secondary Perio (18).JPG\n",
            "/content/Xrays/training/Primary Endo with Secondary Perio/Primary Endo with Secondary Perio (31).JPG\n",
            "/content/Xrays/training/Primary Endo with Secondary Perio/Primary Endo with Secondary Perio (22).JPG\n",
            "/content/Xrays/training/Primary Endo with Secondary Perio/Primary Endo with Secondary Perio (52).JPG\n",
            "/content/Xrays/training/Primary Endo with Secondary Perio/Primary Endo with Secondary Perio (92).JPG\n",
            "/content/Xrays/training/Primary Endo with Secondary Perio/Primary Endo with Secondary Perio (15).JPG\n",
            "/content/Xrays/training/Primary Endo with Secondary Perio/Primary Endo with Secondary Perio (56).JPG\n",
            "/content/Xrays/training/Primary Endo with Secondary Perio/Primary Endo with Secondary Perio (9).JPG\n",
            "/content/Xrays/training/Primary Endo with Secondary Perio/Primary Endo with Secondary Perio (37).JPG\n",
            "/content/Xrays/training/Primary Endo with Secondary Perio/Primary Endo with Secondary Perio (64).JPG\n",
            "/content/Xrays/training/Primary Endo with Secondary Perio/Primary Endo with Secondary Perio (98).JPG\n",
            "/content/Xrays/training/Primary Endo with Secondary Perio/Primary Endo with Secondary Perio (60).JPG\n",
            "/content/Xrays/training/Primary Endo with Secondary Perio/Primary Endo with Secondary Perio (3).JPG\n",
            "/content/Xrays/training/Primary Endo with Secondary Perio/Primary Endo with Secondary Perio (72).JPG\n",
            "/content/Xrays/training/Primary Endo with Secondary Perio/Primary Endo with Secondary Perio (77).JPG\n",
            "/content/Xrays/training/Primary Endo with Secondary Perio/Primary Endo with Secondary Perio (99).JPG\n",
            "/content/Xrays/training/Primary Endo with Secondary Perio/Primary Endo with Secondary Perio (41).JPG\n",
            "/content/Xrays/training/Primary Endo with Secondary Perio/Primary Endo with Secondary Perio (108).JPG\n",
            "/content/Xrays/training/Primary Endo with Secondary Perio/Primary Endo with Secondary Perio (10).JPG\n",
            "/content/Xrays/training/Primary Endo with Secondary Perio/Primary Endo with Secondary Perio (62).JPG\n",
            "/content/Xrays/training/Primary Endo with Secondary Perio/Primary Endo with Secondary Perio (63).JPG\n",
            "/content/Xrays/training/Primary Endo with Secondary Perio/Primary Endo with Secondary Perio (53).JPG\n",
            "/content/Xrays/training/Primary Endo with Secondary Perio/Primary Endo with Secondary Perio (12).JPG\n",
            "/content/Xrays/training/Primary Endo with Secondary Perio/Primary Endo with Secondary Perio (102).JPG\n",
            "/content/Xrays/training/Primary Endo with Secondary Perio/Primary Endo with Secondary Perio (76).JPG\n",
            "/content/Xrays/training/Primary Endo with Secondary Perio/Primary Endo with Secondary Perio (68).JPG\n",
            "/content/Xrays/training/Primary Endo with Secondary Perio/Primary Endo with Secondary Perio (46).JPG\n",
            "/content/Xrays/training/Primary Endo with Secondary Perio/Primary Endo with Secondary Perio (33).JPG\n",
            "/content/Xrays/training/Primary Endo with Secondary Perio/Primary Endo with Secondary Perio (59).JPG\n",
            "/content/Xrays/training/Primary Endo with Secondary Perio/Primary Endo with Secondary Perio (29).JPG\n",
            "/content/Xrays/training/Primary Endo with Secondary Perio/Primary Endo with Secondary Perio (11).JPG\n",
            "/content/Xrays/training/Primary Endo with Secondary Perio/Primary Endo with Secondary Perio (48).JPG\n",
            "/content/Xrays/training/Primary Endo with Secondary Perio/Primary Endo with Secondary Perio (74).JPG\n",
            "/content/Xrays/training/Primary Endo with Secondary Perio/Primary Endo with Secondary Perio (4).JPG\n",
            "/content/Xrays/training/Primary Endo with Secondary Perio/Primary Endo with Secondary Perio (66).JPG\n",
            "/content/Xrays/training/Primary Endo with Secondary Perio/Primary Endo with Secondary Perio (24).JPG\n",
            "True Combined Lesions\n",
            "/content/Xrays/training/True Combined Lesions/True Combined Lesions (10).JPG\n",
            "/content/Xrays/training/True Combined Lesions/True Combined Lesions (61).JPG\n",
            "/content/Xrays/training/True Combined Lesions/True Combined Lesions (3).JPG\n",
            "/content/Xrays/training/True Combined Lesions/True Combined Lesions (105).JPG\n",
            "/content/Xrays/training/True Combined Lesions/True Combined Lesions (12).JPG\n",
            "/content/Xrays/training/True Combined Lesions/True Combined Lesions (111).JPG\n",
            "/content/Xrays/training/True Combined Lesions/True Combined Lesions (2).JPG\n",
            "/content/Xrays/training/True Combined Lesions/True Combined Lesions (42).JPG\n",
            "/content/Xrays/training/True Combined Lesions/True Combined Lesions (46).JPG\n",
            "/content/Xrays/training/True Combined Lesions/True Combined Lesions (82).JPG\n",
            "/content/Xrays/training/True Combined Lesions/True Combined Lesion.JPG\n",
            "/content/Xrays/training/True Combined Lesions/True Combined Lesions (32).JPG\n",
            "/content/Xrays/training/True Combined Lesions/True Combined Lesions (69).JPG\n",
            "/content/Xrays/training/True Combined Lesions/True Combined Lesions (49).JPG\n",
            "/content/Xrays/training/True Combined Lesions/True Combined Lesions (71).JPG\n",
            "/content/Xrays/training/True Combined Lesions/True Combined Lesions (89).JPG\n",
            "/content/Xrays/training/True Combined Lesions/True Combined Lesions (88).JPG\n",
            "/content/Xrays/training/True Combined Lesions/True Combined Lesions (114).JPG\n",
            "/content/Xrays/training/True Combined Lesions/True Combined Lesions (70).JPG\n",
            "/content/Xrays/training/True Combined Lesions/True Combined Lesions (57).JPG\n",
            "/content/Xrays/training/True Combined Lesions/True Combined Lesions (102).JPG\n",
            "/content/Xrays/training/True Combined Lesions/True Combined Lesions (126).JPG\n",
            "/content/Xrays/training/True Combined Lesions/True Combined Lesions (91).JPG\n",
            "/content/Xrays/training/True Combined Lesions/True Combined Lesions (68).JPG\n",
            "/content/Xrays/training/True Combined Lesions/True Combined Lesions (83).JPG\n",
            "/content/Xrays/training/True Combined Lesions/True Combined Lesions (7).JPG\n",
            "/content/Xrays/training/True Combined Lesions/True Combined Lesions (63).JPG\n",
            "/content/Xrays/training/True Combined Lesions/True Combined Lesions (80).JPG\n",
            "/content/Xrays/training/True Combined Lesions/True Combined Lesions (99).JPG\n",
            "/content/Xrays/training/True Combined Lesions/True Combined Lesions (84).JPG\n",
            "/content/Xrays/training/True Combined Lesions/True Combined Lesions (97).JPG\n",
            "/content/Xrays/training/True Combined Lesions/True Combined Lesions (60).JPG\n",
            "/content/Xrays/training/True Combined Lesions/True Combined Lesions (53).JPG\n",
            "/content/Xrays/training/True Combined Lesions/True Combined Lesions (51).JPG\n",
            "/content/Xrays/training/True Combined Lesions/True Combined Lesions (25).JPG\n",
            "/content/Xrays/training/True Combined Lesions/True Combined Lesions (6).JPG\n",
            "/content/Xrays/training/True Combined Lesions/True Combined Lesions (120).JPG\n",
            "/content/Xrays/training/True Combined Lesions/True Combined Lesions (5).JPG\n",
            "/content/Xrays/training/True Combined Lesions/True Combined Lesions (95).JPG\n",
            "/content/Xrays/training/True Combined Lesions/True Combined Lesions (123).JPG\n",
            "/content/Xrays/training/True Combined Lesions/True Combined Lesions (130).JPG\n",
            "/content/Xrays/training/True Combined Lesions/True Combined Lesions (4).JPG\n",
            "/content/Xrays/training/True Combined Lesions/True Combined Lesions (37).JPG\n",
            "/content/Xrays/training/True Combined Lesions/True Combined Lesions (9).JPG\n",
            "/content/Xrays/training/True Combined Lesions/True Combined Lesions (62).JPG\n",
            "/content/Xrays/training/True Combined Lesions/True Combined Lesions (118).JPG\n",
            "/content/Xrays/training/True Combined Lesions/True Combined Lesions (29).JPG\n",
            "/content/Xrays/training/True Combined Lesions/True Combined Lesions (112).JPG\n",
            "/content/Xrays/training/True Combined Lesions/True Combined Lesions (11).JPG\n",
            "/content/Xrays/training/True Combined Lesions/True Combined Lesions (92).JPG\n",
            "/content/Xrays/training/True Combined Lesions/True Combined Lesions (22).JPG\n",
            "/content/Xrays/training/True Combined Lesions/True Combined Lesions (44).JPG\n",
            "/content/Xrays/training/True Combined Lesions/True Combined Lesions (28).JPG\n",
            "/content/Xrays/training/True Combined Lesions/True Combined Lesions (115).JPG\n",
            "/content/Xrays/training/True Combined Lesions/True Combined Lesions (26).JPG\n",
            "/content/Xrays/training/True Combined Lesions/True Combined Lesions (122).JPG\n",
            "/content/Xrays/training/True Combined Lesions/True Combined Lesions (34).JPG\n",
            "/content/Xrays/training/True Combined Lesions/True Combined Lesions.JPG\n",
            "/content/Xrays/training/True Combined Lesions/True Combined Lesions (75).JPG\n",
            "/content/Xrays/training/True Combined Lesions/True Combined Lesions (54).JPG\n",
            "/content/Xrays/training/True Combined Lesions/True Combined Lesions (78).JPG\n",
            "/content/Xrays/training/True Combined Lesions/True Combined Lesions (27).JPG\n",
            "/content/Xrays/training/True Combined Lesions/True Combined Lesions (81).JPG\n",
            "/content/Xrays/training/True Combined Lesions/True Combined Lesions (55).JPG\n",
            "/content/Xrays/training/True Combined Lesions/True Combined Lesions (125).JPG\n",
            "/content/Xrays/training/True Combined Lesions/True Combined Lesions (79).JPG\n",
            "/content/Xrays/training/True Combined Lesions/True Combined Lesions (100).JPG\n",
            "/content/Xrays/training/True Combined Lesions/True Combined Lesions (64).JPG\n",
            "/content/Xrays/training/True Combined Lesions/True Combined Lesions (20).JPG\n",
            "/content/Xrays/training/True Combined Lesions/True Combined Lesions (13).JPG\n",
            "/content/Xrays/training/True Combined Lesions/True Combined Lesions (21).JPG\n",
            "/content/Xrays/training/True Combined Lesions/True Combined Lesions (124).JPG\n",
            "/content/Xrays/training/True Combined Lesions/True Combined Lesions (76).JPG\n",
            "/content/Xrays/training/True Combined Lesions/True Combined Lesions (90).JPG\n",
            "/content/Xrays/training/True Combined Lesions/True Combined Lesions (48).JPG\n",
            "/content/Xrays/training/True Combined Lesions/True Combined Lesions (38).JPG\n",
            "/content/Xrays/training/True Combined Lesions/True Combined Lesions (52).JPG\n",
            "/content/Xrays/training/True Combined Lesions/True Combined Lesions (72).JPG\n",
            "/content/Xrays/training/True Combined Lesions/True Combined Lesions (110).JPG\n",
            "/content/Xrays/training/True Combined Lesions/True Combined Lesions (45).JPG\n",
            "/content/Xrays/training/True Combined Lesions/True Combined Lesions (59).JPG\n",
            "/content/Xrays/training/True Combined Lesions/True Combined Lesions (106).JPG\n",
            "/content/Xrays/training/True Combined Lesions/True Combined Lesions (58).JPG\n",
            "/content/Xrays/training/True Combined Lesions/True Combined Lesions (39).JPG\n",
            "/content/Xrays/training/True Combined Lesions/True Combined Lesions (47).JPG\n",
            "/content/Xrays/training/True Combined Lesions/True Combined Lesions (86).JPG\n",
            "/content/Xrays/training/True Combined Lesions/True Combined Lesions (43).JPG\n",
            "/content/Xrays/training/True Combined Lesions/True Combined Lesions (77).JPG\n",
            "/content/Xrays/training/True Combined Lesions/True Combined Lesions (94).JPG\n",
            "/content/Xrays/training/True Combined Lesions/True Combined Lesions (127).JPG\n",
            "/content/Xrays/training/True Combined Lesions/True Combined Lesions (66).JPG\n",
            "/content/Xrays/training/True Combined Lesions/True Combined Lesions (87).JPG\n",
            "/content/Xrays/training/True Combined Lesions/True Combined Lesions (93).JPG\n",
            "/content/Xrays/training/True Combined Lesions/True Combined Lesions (24).JPG\n",
            "/content/Xrays/training/True Combined Lesions/True Combined Lesions (14).JPG\n",
            "/content/Xrays/training/True Combined Lesions/True Combined Lesions (31).JPG\n",
            "/content/Xrays/training/True Combined Lesions/True Combined Lesions (109).JPG\n",
            "/content/Xrays/training/True Combined Lesions/True Combined Lesions (18).JPG\n",
            "/content/Xrays/training/True Combined Lesions/True Combined Lesions (73).JPG\n",
            "/content/Xrays/training/True Combined Lesions/True Combined Lesions (101).JPG\n",
            "/content/Xrays/training/True Combined Lesions/True Combined Lesions (104).JPG\n",
            "/content/Xrays/training/True Combined Lesions/True Combined Lesions (103).JPG\n",
            "/content/Xrays/training/True Combined Lesions/True Combined Lesions (119).JPG\n",
            "/content/Xrays/training/True Combined Lesions/True Combined Lesions (8).JPG\n",
            "/content/Xrays/training/True Combined Lesions/True Combined Lesions (67).JPG\n",
            "/content/Xrays/training/True Combined Lesions/True Combined Lesions (128).JPG\n",
            "/content/Xrays/training/True Combined Lesions/True Combined Lesions (15).JPG\n",
            "/content/Xrays/training/True Combined Lesions/True Combined Lesions (41).JPG\n",
            "/content/Xrays/training/True Combined Lesions/True Combined Lesions (108).JPG\n",
            "/content/Xrays/training/True Combined Lesions/True Combined Lesions (107).JPG\n",
            "/content/Xrays/training/True Combined Lesions/True Combined Lesions (65).JPG\n",
            "Primary Periodontal Lesion\n",
            "/content/Xrays/training/Primary Periodontal Lesion/Primary Periodontal Lesion (116).JPG\n",
            "/content/Xrays/training/Primary Periodontal Lesion/Primary Periodontal Lesion (61).JPG\n",
            "/content/Xrays/training/Primary Periodontal Lesion/Primary Periodontal Lesion (47).JPG\n",
            "/content/Xrays/training/Primary Periodontal Lesion/Primary Periodontal Lesion (77).JPG\n",
            "/content/Xrays/training/Primary Periodontal Lesion/Primary Periodontal Lesion (95).JPG\n",
            "/content/Xrays/training/Primary Periodontal Lesion/Primary Periodontal Lesion (31).JPG\n",
            "/content/Xrays/training/Primary Periodontal Lesion/Primary Periodontal Lesion (17).JPG\n",
            "/content/Xrays/training/Primary Periodontal Lesion/Primary Periodontal Lesion (51).JPG\n",
            "/content/Xrays/training/Primary Periodontal Lesion/Primary Periodontal Lesion (103).JPG\n",
            "/content/Xrays/training/Primary Periodontal Lesion/Primary Periodontal Lesion (111).JPG\n",
            "/content/Xrays/training/Primary Periodontal Lesion/Primary Periodontal Lesion (102).JPG\n",
            "/content/Xrays/training/Primary Periodontal Lesion/Primary Periodontal Lesion (44).JPG\n",
            "/content/Xrays/training/Primary Periodontal Lesion/Primary Periodontal Lesion (75).JPG\n",
            "/content/Xrays/training/Primary Periodontal Lesion/Primary Periodontal Lesion (86).JPG\n",
            "/content/Xrays/training/Primary Periodontal Lesion/Primary Periodontal Lesion (4).JPG\n",
            "/content/Xrays/training/Primary Periodontal Lesion/Primary Periodontal Lesion (110).JPG\n",
            "/content/Xrays/training/Primary Periodontal Lesion/Primary Periodontal Lesion (18).JPG\n",
            "/content/Xrays/training/Primary Periodontal Lesion/Primary Periodontal Lesion (87).JPG\n",
            "/content/Xrays/training/Primary Periodontal Lesion/Primary Periodontal Lesion (117).JPG\n",
            "/content/Xrays/training/Primary Periodontal Lesion/Primary Periodontal Lesion (32).JPG\n",
            "/content/Xrays/training/Primary Periodontal Lesion/Primary Periodontal Lesion (92).JPG\n",
            "/content/Xrays/training/Primary Periodontal Lesion/Primary Periodontal Lesion (63).JPG\n",
            "/content/Xrays/training/Primary Periodontal Lesion/Primary Periodontal Lesion (85).JPG\n",
            "/content/Xrays/training/Primary Periodontal Lesion/Primary Periodontal Lesion (82).JPG\n",
            "/content/Xrays/training/Primary Periodontal Lesion/Primary Periodontal Lesion (48).JPG\n",
            "/content/Xrays/training/Primary Periodontal Lesion/Primary Periodontal Lesion (66).JPG\n",
            "/content/Xrays/training/Primary Periodontal Lesion/Primary Periodontal Lesion (40).JPG\n",
            "/content/Xrays/training/Primary Periodontal Lesion/Primary Periodontal Lesion (60).JPG\n",
            "/content/Xrays/training/Primary Periodontal Lesion/Primary Periodontal Lesion (93).JPG\n",
            "/content/Xrays/training/Primary Periodontal Lesion/Primary Periodontal Lesion (90).JPG\n",
            "/content/Xrays/training/Primary Periodontal Lesion/Primary Periodontal Lesion (45).JPG\n",
            "/content/Xrays/training/Primary Periodontal Lesion/Primary Periodontal Lesion (70).JPG\n",
            "/content/Xrays/training/Primary Periodontal Lesion/Primary Periodontal Lesion (79).JPG\n",
            "/content/Xrays/training/Primary Periodontal Lesion/Primary Periodontal Lesion (74).JPG\n",
            "/content/Xrays/training/Primary Periodontal Lesion/Primary Periodontal Lesion (11).JPG\n",
            "/content/Xrays/training/Primary Periodontal Lesion/Primary Periodontal Lesion (30).JPG\n",
            "/content/Xrays/training/Primary Periodontal Lesion/Primary Periodontal Lesion (52).JPG\n",
            "/content/Xrays/training/Primary Periodontal Lesion/Primary Periodontal Lesion (73).JPG\n",
            "/content/Xrays/training/Primary Periodontal Lesion/Primary Periodontal Lesion (71).JPG\n",
            "/content/Xrays/training/Primary Periodontal Lesion/Primary Periodontal Lesion (78).JPG\n",
            "/content/Xrays/training/Primary Periodontal Lesion/Primary Periodontal Lesion (20).JPG\n",
            "/content/Xrays/training/Primary Periodontal Lesion/Primary Periodontal Lesion (104).JPG\n",
            "/content/Xrays/training/Primary Periodontal Lesion/Primary Periodontal Lesion (88).JPG\n",
            "/content/Xrays/training/Primary Periodontal Lesion/Primary Periodontal Lesion (16).JPG\n",
            "/content/Xrays/training/Primary Periodontal Lesion/Primary Periodontal Lesion (28).JPG\n",
            "/content/Xrays/training/Primary Periodontal Lesion/Primary Periodontal Lesion (105).JPG\n",
            "/content/Xrays/training/Primary Periodontal Lesion/Primary Periodontal Lesion (33).JPG\n",
            "/content/Xrays/training/Primary Periodontal Lesion/Primary Periodontal Lesion.JPG\n",
            "/content/Xrays/training/Primary Periodontal Lesion/Primary Periodontal Lesion (22).JPG\n",
            "/content/Xrays/training/Primary Periodontal Lesion/Primary Periodontal Lesion (38).JPG\n",
            "/content/Xrays/training/Primary Periodontal Lesion/Primary Periodontal Lesion (34).JPG\n",
            "/content/Xrays/training/Primary Periodontal Lesion/Primary Periodontal Lesion (2).JPG\n",
            "/content/Xrays/training/Primary Periodontal Lesion/Primary Periodontal Lesion (65).JPG\n",
            "/content/Xrays/training/Primary Periodontal Lesion/Primary Periodontal Lesion (12).JPG\n",
            "/content/Xrays/training/Primary Periodontal Lesion/Primary Periodontal Lesion (14).JPG\n",
            "/content/Xrays/training/Primary Periodontal Lesion/Primary Periodontal Lesion (62).JPG\n",
            "/content/Xrays/training/Primary Periodontal Lesion/Primary Periodontal Lesion (91).JPG\n",
            "/content/Xrays/training/Primary Periodontal Lesion/Primary Periodontal Lesion (7).JPG\n",
            "/content/Xrays/training/Primary Periodontal Lesion/Primary Periodontal Lesion (55).JPG\n",
            "/content/Xrays/training/Primary Periodontal Lesion/Primary Periodontal Lesion (81).JPG\n",
            "/content/Xrays/training/Primary Periodontal Lesion/Primary Periodontal Lesion (15).JPG\n",
            "/content/Xrays/training/Primary Periodontal Lesion/Primary Periodontal Lesion (58).JPG\n",
            "/content/Xrays/training/Primary Periodontal Lesion/Primary Periodontal Lesion (107).JPG\n",
            "/content/Xrays/training/Primary Periodontal Lesion/Primary Periodontal Lesion (37).JPG\n",
            "/content/Xrays/training/Primary Periodontal Lesion/Primary Periodontal Lesion (80).JPG\n",
            "/content/Xrays/training/Primary Periodontal Lesion/Primary Periodontal Lesion (69).JPG\n",
            "/content/Xrays/training/Primary Periodontal Lesion/Primary Periodontal Lesion (113).JPG\n",
            "/content/Xrays/training/Primary Periodontal Lesion/Primary Periodontal Lesion (6).JPG\n",
            "/content/Xrays/training/Primary Periodontal Lesion/Primary Periodontal Lesion (26).JPG\n",
            "/content/Xrays/training/Primary Periodontal Lesion/Primary Periodontal Lesion (21).JPG\n",
            "/content/Xrays/training/Primary Periodontal Lesion/Primary Periodontal Lesion (24).JPG\n",
            "/content/Xrays/training/Primary Periodontal Lesion/Primary Periodontal Lesion (10).JPG\n",
            "/content/Xrays/training/Primary Periodontal Lesion/Primary Periodontal Lesion (59).JPG\n",
            "/content/Xrays/training/Primary Periodontal Lesion/Primary Periodontal Lesion (115).JPG\n",
            "/content/Xrays/training/Primary Periodontal Lesion/Primary Periodontal Lesion (97).JPG\n",
            "/content/Xrays/training/Primary Periodontal Lesion/Primary Periodontal Lesion (36).JPG\n",
            "/content/Xrays/training/Primary Periodontal Lesion/Primary Periodontal Lesion (98).JPG\n",
            "/content/Xrays/training/Primary Periodontal Lesion/Primary Periodontal Lesion (64).JPG\n",
            "/content/Xrays/training/Primary Periodontal Lesion/Primary Periodontal Lesion (100).JPG\n",
            "/content/Xrays/training/Primary Periodontal Lesion/Primary Periodontal Lesion (19).JPG\n",
            "/content/Xrays/training/Primary Periodontal Lesion/Primary Periodontal Lesion (96).JPG\n",
            "/content/Xrays/training/Primary Periodontal Lesion/Primary Periodontal Lesion (109).JPG\n",
            "/content/Xrays/training/Primary Periodontal Lesion/Primary Periodontal Lesion (42).JPG\n",
            "/content/Xrays/training/Primary Periodontal Lesion/Primary Periodontal Lesion (5).JPG\n",
            "/content/Xrays/training/Primary Periodontal Lesion/Primary Periodontal Lesion (39).JPG\n",
            "/content/Xrays/training/Primary Periodontal Lesion/Primary Periodontal Lesion (112).JPG\n",
            "/content/Xrays/training/Primary Periodontal Lesion/Primary Periodontal Lesion (53).JPG\n",
            "/content/Xrays/training/Primary Periodontal Lesion/Primary Periodontal Lesion (72).JPG\n",
            "/content/Xrays/training/Primary Periodontal Lesion/Primary Periodontal Lesion (76).JPG\n",
            "/content/Xrays/training/Primary Periodontal Lesion/Primary Periodontal Lesion (41).JPG\n",
            "/content/Xrays/training/Primary Periodontal Lesion/Primary Periodontal Lesion (94).JPG\n",
            "/content/Xrays/training/Primary Periodontal Lesion/Primary Periodontal Lesion (25).JPG\n",
            "/content/Xrays/training/Primary Periodontal Lesion/Primary Periodontal Lesion (101).JPG\n",
            "/content/Xrays/training/Primary Periodontal Lesion/Primary Periodontal Lesion (8).JPG\n",
            "/content/Xrays/training/Primary Periodontal Lesion/Primary Periodontal Lesion (13).JPG\n",
            "/content/Xrays/training/Primary Periodontal Lesion/Primary Periodontal Lesion (49).JPG\n",
            "/content/Xrays/training/Primary Periodontal Lesion/Primary Periodontal Lesion (43).JPG\n",
            "/content/Xrays/training/Primary Periodontal Lesion/Primary Periodontal Lesion (106).JPG\n",
            "/content/Xrays/training/Primary Periodontal Lesion/Primary Periodontal Lesion (83).JPG\n",
            "/content/Xrays/training/Primary Periodontal Lesion/Primary Periodontal Lesion (9).JPG\n",
            "Primary Perio with Secondary Endo\n",
            "/content/Xrays/training/Primary Perio with Secondary Endo/Primary Perio with Secondary Endo.JPG\n",
            "/content/Xrays/training/Primary Perio with Secondary Endo/Primary Perio with Secondary Endo (5).JPG\n",
            "/content/Xrays/training/Primary Perio with Secondary Endo/Primary Perio with Secondary Endo (17).JPG\n",
            "/content/Xrays/training/Primary Perio with Secondary Endo/Primary Perio with Secondary Endo (10).JPG\n",
            "/content/Xrays/training/Primary Perio with Secondary Endo/Primary Perio with Secondary Endo (38).JPG\n",
            "/content/Xrays/training/Primary Perio with Secondary Endo/Primary Perio with Secondary Endo (14).JPG\n",
            "/content/Xrays/training/Primary Perio with Secondary Endo/Primary Perio with Secondary Endo (28).JPG\n",
            "/content/Xrays/training/Primary Perio with Secondary Endo/Primary Perio with Secondary Endo (4).JPG\n",
            "/content/Xrays/training/Primary Perio with Secondary Endo/Primary Perio with Secondary Endo (9).JPG\n",
            "/content/Xrays/training/Primary Perio with Secondary Endo/Primary Perio with Secondary Endo (21).JPG\n",
            "/content/Xrays/training/Primary Perio with Secondary Endo/Primary Perio with Secondary Endo (32).JPG\n",
            "/content/Xrays/training/Primary Perio with Secondary Endo/Primary Perio with Secondary Endo (8).JPG\n",
            "/content/Xrays/training/Primary Perio with Secondary Endo/Primary Perio with Secondary Endo (25).JPG\n",
            "/content/Xrays/training/Primary Perio with Secondary Endo/Primary Perio with Secondary Endo (12).JPG\n",
            "/content/Xrays/training/Primary Perio with Secondary Endo/Primary Perio with Secondary Endo (30).JPG\n",
            "/content/Xrays/training/Primary Perio with Secondary Endo/Primary Perio with Secondary Endo (3).JPG\n",
            "/content/Xrays/training/Primary Perio with Secondary Endo/Primary Perio with Secondary Endo (34).JPG\n",
            "/content/Xrays/training/Primary Perio with Secondary Endo/Primary Perio with Secondary Endo (39).JPG\n",
            "/content/Xrays/training/Primary Perio with Secondary Endo/Primary Perio with Secondary Endo (31).JPG\n",
            "/content/Xrays/training/Primary Perio with Secondary Endo/Primary Perio with Secondary Endo (7).JPG\n",
            "/content/Xrays/training/Primary Perio with Secondary Endo/Primary Perio with Secondary Endo (23).JPG\n",
            "/content/Xrays/training/Primary Perio with Secondary Endo/Primary Perio with Secondary Endo (24).JPG\n",
            "/content/Xrays/training/Primary Perio with Secondary Endo/Primary Perio with Secondary Endo (22).JPG\n",
            "/content/Xrays/training/Primary Perio with Secondary Endo/Primary Perio with Secondary Endo (35).JPG\n",
            "/content/Xrays/training/Primary Perio with Secondary Endo/Primary Perio with Secondary Endo (11).JPG\n",
            "/content/Xrays/training/Primary Perio with Secondary Endo/Primary Perio with Secondary Endo (19).JPG\n",
            "/content/Xrays/training/Primary Perio with Secondary Endo/Primary Perio with Secondary Endo (13).JPG\n",
            "/content/Xrays/training/Primary Perio with Secondary Endo/Primary Perio with Secondary Endo (15).JPG\n",
            "/content/Xrays/training/Primary Perio with Secondary Endo/Primary Perio with Secondary Endo (2).JPG\n",
            "/content/Xrays/training/Primary Perio with Secondary Endo/Primary Perio with Secondary Endo (37).JPG\n",
            "/content/Xrays/training/Primary Perio with Secondary Endo/Primary Perio with Secondary Endo (27).JPG\n",
            "/content/Xrays/training/Primary Perio with Secondary Endo/Primary Perio with Secondary Endo (33).JPG\n",
            "/content/Xrays/training/Primary Perio with Secondary Endo/Primary Perio with Secondary Endo (6).JPG\n",
            "Primary Endodontic Lesion\n",
            "/content/Xrays/training/Primary Endodontic Lesion/Primary Endodontic Lesion (63).JPG\n",
            "/content/Xrays/training/Primary Endodontic Lesion/Primary Endodontic Lesion (6).JPG\n",
            "/content/Xrays/training/Primary Endodontic Lesion/Primary Endodontic  Lesion (2).JPG\n",
            "/content/Xrays/training/Primary Endodontic Lesion/Primary Endodontic  Lesion (18).JPG\n",
            "/content/Xrays/training/Primary Endodontic Lesion/Primary Endodontic  Lesion (48).JPG\n",
            "/content/Xrays/training/Primary Endodontic Lesion/Primary Endodontic Lesion (12).JPG\n",
            "/content/Xrays/training/Primary Endodontic Lesion/Primary Endodontic Lesion (19).JPG\n",
            "/content/Xrays/training/Primary Endodontic Lesion/Primary Endodontic Lesion (30).JPG\n",
            "/content/Xrays/training/Primary Endodontic Lesion/Primary Endodontic Lesion (27).JPG\n",
            "/content/Xrays/training/Primary Endodontic Lesion/Primary Endodontic Lesion (7).JPG\n",
            "/content/Xrays/training/Primary Endodontic Lesion/Primary Endodontic Lesion (57).JPG\n",
            "/content/Xrays/training/Primary Endodontic Lesion/Primary Endodontic  Lesion (25).JPG\n",
            "/content/Xrays/training/Primary Endodontic Lesion/Primary Endodontic Lesion (69).JPG\n",
            "/content/Xrays/training/Primary Endodontic Lesion/Primary Endodontic  Lesion (52).JPG\n",
            "/content/Xrays/training/Primary Endodontic Lesion/Primary Endodontic Lesion (68).JPG\n",
            "/content/Xrays/training/Primary Endodontic Lesion/Primary Endodontic  Lesion (40).JPG\n",
            "/content/Xrays/training/Primary Endodontic Lesion/Primary Endodontic  Lesion.JPG\n",
            "/content/Xrays/training/Primary Endodontic Lesion/Primary Endodontic Lesion (67).JPG\n",
            "/content/Xrays/training/Primary Endodontic Lesion/Primary Endodontic Lesion (42).JPG\n",
            "/content/Xrays/training/Primary Endodontic Lesion/Primary Endodontic  Lesion (16).JPG\n",
            "/content/Xrays/training/Primary Endodontic Lesion/Primary Endodontic  Lesion (6).JPG\n",
            "/content/Xrays/training/Primary Endodontic Lesion/Primary Endodontic  Lesion (4).JPG\n",
            "/content/Xrays/training/Primary Endodontic Lesion/Primary Endodontic Lesion (22).JPG\n",
            "/content/Xrays/training/Primary Endodontic Lesion/Primary Endodontic Lesion (56).JPG\n",
            "/content/Xrays/training/Primary Endodontic Lesion/Primary Endodontic Lesion (14).JPG\n",
            "/content/Xrays/training/Primary Endodontic Lesion/Primary Endodontic  Lesion (32).JPG\n",
            "/content/Xrays/training/Primary Endodontic Lesion/Primary Endodontic  Lesion (12).JPG\n",
            "/content/Xrays/training/Primary Endodontic Lesion/Primary Endodontic Lesion (16).JPG\n",
            "/content/Xrays/training/Primary Endodontic Lesion/Primary Endodontic Lesion (71).JPG\n",
            "/content/Xrays/training/Primary Endodontic Lesion/Primary Endodontic  Lesion (26).JPG\n",
            "/content/Xrays/training/Primary Endodontic Lesion/Primary Endodontic Lesion (23).JPG\n",
            "/content/Xrays/training/Primary Endodontic Lesion/Primary Endodontic Lesion (62).JPG\n",
            "/content/Xrays/training/Primary Endodontic Lesion/Primary Endodontic Lesion (64).JPG\n",
            "/content/Xrays/training/Primary Endodontic Lesion/Primary Endodontic Lesion (43).JPG\n",
            "/content/Xrays/training/Primary Endodontic Lesion/Primary Endodontic  Lesion (31).JPG\n",
            "/content/Xrays/training/Primary Endodontic Lesion/Primary Endodontic Lesion (46).JPG\n",
            "/content/Xrays/training/Primary Endodontic Lesion/Primary Endodontic  Lesion (44).JPG\n",
            "/content/Xrays/training/Primary Endodontic Lesion/Primary Endodontic  Lesion (38).JPG\n",
            "/content/Xrays/training/Primary Endodontic Lesion/Primary Endodontic  Lesion (53).JPG\n",
            "/content/Xrays/training/Primary Endodontic Lesion/Primary Endodontic  Lesion (33).JPG\n",
            "/content/Xrays/training/Primary Endodontic Lesion/Primary Endodontic Lesion (48).JPG\n",
            "/content/Xrays/training/Primary Endodontic Lesion/Primary Endodontic  Lesion (14).JPG\n",
            "/content/Xrays/training/Primary Endodontic Lesion/Primary Endodontic  Lesion (28).JPG\n",
            "/content/Xrays/training/Primary Endodontic Lesion/Primary Endodontic Lesion (38).JPG\n",
            "/content/Xrays/training/Primary Endodontic Lesion/Primary Endodontic  Lesion (49).JPG\n",
            "/content/Xrays/training/Primary Endodontic Lesion/Primary Endodontic Lesion (10).JPG\n",
            "/content/Xrays/training/Primary Endodontic Lesion/Primary Endodontic  Lesion (43).JPG\n",
            "/content/Xrays/training/Primary Endodontic Lesion/Primary Endodontic  Lesion (51).JPG\n",
            "/content/Xrays/training/Primary Endodontic Lesion/Primary Endodontic  Lesion (47).JPG\n",
            "/content/Xrays/training/Primary Endodontic Lesion/Primary Endodontic Lesion (39).JPG\n",
            "/content/Xrays/training/Primary Endodontic Lesion/Primary Endodontic Lesion (53).JPG\n",
            "/content/Xrays/training/Primary Endodontic Lesion/Primary Endodontic  Lesion (37).JPG\n",
            "/content/Xrays/training/Primary Endodontic Lesion/Primary Endodontic  Lesion (23).JPG\n",
            "/content/Xrays/training/Primary Endodontic Lesion/Primary Endodontic Lesion (3).JPG\n",
            "/content/Xrays/training/Primary Endodontic Lesion/Primary Endodontic Lesion (34).JPG\n",
            "/content/Xrays/training/Primary Endodontic Lesion/Primary Endodontic  Lesion (3).JPG\n",
            "/content/Xrays/training/Primary Endodontic Lesion/Primary Endodontic Lesion (2).JPG\n",
            "/content/Xrays/training/Primary Endodontic Lesion/Primary Endodontic Lesion (20).JPG\n",
            "/content/Xrays/training/Primary Endodontic Lesion/Primary Endodontic Lesion (21).JPG\n",
            "/content/Xrays/training/Primary Endodontic Lesion/Primary Endodontic Lesion (65).JPG\n",
            "/content/Xrays/training/Primary Endodontic Lesion/Primary Endodontic  Lesion (45).JPG\n",
            "/content/Xrays/training/Primary Endodontic Lesion/Primary Endodontic Lesion (70).JPG\n",
            "/content/Xrays/training/Primary Endodontic Lesion/Primary Endodontic  Lesion (17).JPG\n",
            "/content/Xrays/training/Primary Endodontic Lesion/Primary Endodontic  Lesion (5).JPG\n",
            "/content/Xrays/training/Primary Endodontic Lesion/Primary Endodontic Lesion (15).JPG\n",
            "/content/Xrays/training/Primary Endodontic Lesion/Primary Endodontic  Lesion (30).JPG\n",
            "/content/Xrays/training/Primary Endodontic Lesion/Primary Endodontic  Lesion (29).JPG\n",
            "/content/Xrays/training/Primary Endodontic Lesion/Primary Endodontic  Lesion (50).JPG\n",
            "/content/Xrays/training/Primary Endodontic Lesion/Primary Endodontic Lesion (24).JPG\n",
            "/content/Xrays/training/Primary Endodontic Lesion/Primary Endodontic Lesion (60).JPG\n",
            "/content/Xrays/training/Primary Endodontic Lesion/Primary Endodontic Lesion (8).JPG\n",
            "/content/Xrays/training/Primary Endodontic Lesion/Primary Endodontic Lesion (18).JPG\n",
            "/content/Xrays/training/Primary Endodontic Lesion/Primary Endodontic Lesion (29).JPG\n",
            "/content/Xrays/training/Primary Endodontic Lesion/Primary Endodontic Lesion (50).JPG\n",
            "/content/Xrays/training/Primary Endodontic Lesion/Primary Endodontic  Lesion (19).JPG\n",
            "/content/Xrays/training/Primary Endodontic Lesion/Primary Endodontic  Lesion (9).JPG\n",
            "/content/Xrays/training/Primary Endodontic Lesion/Primary Endodontic Lesion (44).JPG\n",
            "/content/Xrays/training/Primary Endodontic Lesion/Primary Endodontic Lesion (31).JPG\n",
            "/content/Xrays/training/Primary Endodontic Lesion/Primary Endodontic Lesion (41).JPG\n",
            "/content/Xrays/training/Primary Endodontic Lesion/Primary Endodontic  Lesion (7).JPG\n",
            "/content/Xrays/training/Primary Endodontic Lesion/Primary Endodontic Lesion (61).JPG\n",
            "/content/Xrays/training/Primary Endodontic Lesion/Primary Endodontic  Lesion (15).JPG\n",
            "/content/Xrays/training/Primary Endodontic Lesion/Primary Endodontic Lesion (5).JPG\n",
            "/content/Xrays/training/Primary Endodontic Lesion/Primary Endodontic  Lesion (41).JPG\n",
            "/content/Xrays/training/Primary Endodontic Lesion/Primary Endodontic Lesion (52).JPG\n",
            "/content/Xrays/training/Primary Endodontic Lesion/Primary Endodontic  Lesion (36).JPG\n",
            "/content/Xrays/training/Primary Endodontic Lesion/Primary Endodontic Lesion (59).JPG\n",
            "/content/Xrays/training/Primary Endodontic Lesion/Primary Endodontic Lesion (32).JPG\n",
            "/content/Xrays/training/Primary Endodontic Lesion/Primary Endodontic Lesion (9).JPG\n",
            "/content/Xrays/training/Primary Endodontic Lesion/Primary Endodontic Lesion (36).JPG\n",
            "/content/Xrays/training/Primary Endodontic Lesion/Primary Endodontic Lesion (58).JPG\n",
            "/content/Xrays/training/Primary Endodontic Lesion/Primary Endodontic  Lesion (34).JPG\n",
            "/content/Xrays/training/Primary Endodontic Lesion/Primary Endodontic Lesion (40).JPG\n",
            "/content/Xrays/training/Primary Endodontic Lesion/Primary Endodontic  Lesion (8).JPG\n",
            "/content/Xrays/training/Primary Endodontic Lesion/Primary Endodontic Lesion (26).JPG\n",
            "/content/Xrays/training/Primary Endodontic Lesion/Primary Endodontic Lesion (11).JPG\n",
            "/content/Xrays/training/Primary Endodontic Lesion/Primary Endodontic Lesion (45).JPG\n",
            "/content/Xrays/training/Primary Endodontic Lesion/Primary Endodontic Lesion (4).JPG\n",
            "/content/Xrays/training/Primary Endodontic Lesion/Primary Endodontic Lesion (55).JPG\n",
            "/content/Xrays/training/Primary Endodontic Lesion/Primary Endodontic Lesion (35).JPG\n",
            "/content/Xrays/training/Primary Endodontic Lesion/Primary Endodontic Lesion (37).JPG\n",
            "/content/Xrays/training/Primary Endodontic Lesion/Primary Endodontic  Lesion (21).JPG\n",
            "/content/Xrays/training/Primary Endodontic Lesion/Primary Endodontic Lesion (47).JPG\n",
            "/content/Xrays/training/Primary Endodontic Lesion/Primary Endodontic  Lesion (20).JPG\n",
            "/content/Xrays/training/Primary Endodontic Lesion/Primary Endodontic  Lesion (39).JPG\n"
          ]
        }
      ]
    },
    {
      "cell_type": "code",
      "source": [
        "type(train_images)"
      ],
      "metadata": {
        "colab": {
          "base_uri": "https://localhost:8080/"
        },
        "id": "--z3kJHOc4aQ",
        "outputId": "91cc7608-e3a4-4cd0-9690-a22b214aa9ad"
      },
      "execution_count": 35,
      "outputs": [
        {
          "output_type": "execute_result",
          "data": {
            "text/plain": [
              "list"
            ]
          },
          "metadata": {},
          "execution_count": 35
        }
      ]
    },
    {
      "cell_type": "code",
      "source": [
        "#Convert lists to arrays\n",
        "train_images = np.array(train_images)\n",
        "train_labels = np.array(train_labels)"
      ],
      "metadata": {
        "id": "q-ABYijIGstC"
      },
      "execution_count": 13,
      "outputs": []
    },
    {
      "cell_type": "code",
      "source": [
        "train_labels.shape"
      ],
      "metadata": {
        "colab": {
          "base_uri": "https://localhost:8080/"
        },
        "id": "EOzvgJAAG6ZA",
        "outputId": "d5887aeb-b125-47c1-dcc2-3fb81a4d76d1"
      },
      "execution_count": 14,
      "outputs": [
        {
          "output_type": "execute_result",
          "data": {
            "text/plain": [
              "(452,)"
            ]
          },
          "metadata": {},
          "execution_count": 14
        }
      ]
    },
    {
      "cell_type": "code",
      "source": [
        "train_images.shape"
      ],
      "metadata": {
        "colab": {
          "base_uri": "https://localhost:8080/"
        },
        "id": "M7uYHlKoG9iB",
        "outputId": "5a005005-a47d-4f75-effb-79b32f53a5c3"
      },
      "execution_count": 15,
      "outputs": [
        {
          "output_type": "execute_result",
          "data": {
            "text/plain": [
              "(452, 256, 256, 3)"
            ]
          },
          "metadata": {},
          "execution_count": 15
        }
      ]
    },
    {
      "cell_type": "code",
      "source": [
        "# Capture test/validation data and labels into respective lists\n",
        "\n",
        "test_images = []\n",
        "test_labels = []\n",
        "for directory_path in glob.glob(\"/content/Xrays/validation/*\"):\n",
        "    label = directory_path.split(\"/\")[-1]\n",
        "    print(label)\n",
        "\n",
        "    for img_path in glob.glob(os.path.join(directory_path, \"*.JPG\")):\n",
        "\n",
        "        img = cv2.imread(img_path, cv2.IMREAD_COLOR)\n",
        "        img = cv2.resize(img, (SIZE, SIZE))\n",
        "        img = cv2.cvtColor(img, cv2.COLOR_RGB2BGR)\n",
        "        test_images.append(img)\n",
        "        test_labels.append(label)"
      ],
      "metadata": {
        "colab": {
          "base_uri": "https://localhost:8080/"
        },
        "id": "jSAsmqrZHVWh",
        "outputId": "4146d16a-09cc-4a8c-b8e4-1e8e2b34c9ad"
      },
      "execution_count": 16,
      "outputs": [
        {
          "output_type": "stream",
          "name": "stdout",
          "text": [
            "Primary Endo with Secondary Perio\n",
            "True Combined Lesions\n",
            "Primary Periodontal Lesion\n",
            "Primary Perio with Secondary Endo\n",
            "Primary Endodontic Lesion\n"
          ]
        }
      ]
    },
    {
      "cell_type": "code",
      "source": [
        "#Convert lists to arrays\n",
        "test_images = np.array(test_images)\n",
        "test_labels = np.array(test_labels)"
      ],
      "metadata": {
        "id": "0CqR5jfcH2BC"
      },
      "execution_count": 17,
      "outputs": []
    },
    {
      "cell_type": "code",
      "source": [
        "test_images.shape"
      ],
      "metadata": {
        "colab": {
          "base_uri": "https://localhost:8080/"
        },
        "id": "sEU-1kAnH4Zh",
        "outputId": "b205069d-356d-4fdf-9562-e799b1e405ab"
      },
      "execution_count": 18,
      "outputs": [
        {
          "output_type": "execute_result",
          "data": {
            "text/plain": [
              "(82, 256, 256, 3)"
            ]
          },
          "metadata": {},
          "execution_count": 18
        }
      ]
    },
    {
      "cell_type": "code",
      "source": [
        "test_labels.shape"
      ],
      "metadata": {
        "colab": {
          "base_uri": "https://localhost:8080/"
        },
        "id": "mKRQBKhaJwby",
        "outputId": "734c4957-e5ef-43ad-ec5e-7d2227878cd8"
      },
      "execution_count": 19,
      "outputs": [
        {
          "output_type": "execute_result",
          "data": {
            "text/plain": [
              "(82,)"
            ]
          },
          "metadata": {},
          "execution_count": 19
        }
      ]
    },
    {
      "cell_type": "code",
      "source": [
        "test_labels"
      ],
      "metadata": {
        "colab": {
          "base_uri": "https://localhost:8080/"
        },
        "id": "Ik6UfgUQKDat",
        "outputId": "18dc44e3-6600-40e6-8aca-d9b10e61accd"
      },
      "execution_count": 20,
      "outputs": [
        {
          "output_type": "execute_result",
          "data": {
            "text/plain": [
              "array(['Primary Endo with Secondary Perio',\n",
              "       'Primary Endo with Secondary Perio',\n",
              "       'Primary Endo with Secondary Perio',\n",
              "       'Primary Endo with Secondary Perio',\n",
              "       'Primary Endo with Secondary Perio',\n",
              "       'Primary Endo with Secondary Perio',\n",
              "       'Primary Endo with Secondary Perio',\n",
              "       'Primary Endo with Secondary Perio',\n",
              "       'Primary Endo with Secondary Perio',\n",
              "       'Primary Endo with Secondary Perio',\n",
              "       'Primary Endo with Secondary Perio',\n",
              "       'Primary Endo with Secondary Perio',\n",
              "       'Primary Endo with Secondary Perio',\n",
              "       'Primary Endo with Secondary Perio',\n",
              "       'Primary Endo with Secondary Perio',\n",
              "       'Primary Endo with Secondary Perio',\n",
              "       'Primary Endo with Secondary Perio',\n",
              "       'Primary Endo with Secondary Perio',\n",
              "       'Primary Endo with Secondary Perio', 'True Combined Lesions',\n",
              "       'True Combined Lesions', 'True Combined Lesions',\n",
              "       'True Combined Lesions', 'True Combined Lesions',\n",
              "       'True Combined Lesions', 'True Combined Lesions',\n",
              "       'True Combined Lesions', 'True Combined Lesions',\n",
              "       'True Combined Lesions', 'True Combined Lesions',\n",
              "       'True Combined Lesions', 'True Combined Lesions',\n",
              "       'True Combined Lesions', 'True Combined Lesions',\n",
              "       'True Combined Lesions', 'True Combined Lesions',\n",
              "       'True Combined Lesions', 'True Combined Lesions',\n",
              "       'True Combined Lesions', 'Primary Periodontal Lesion',\n",
              "       'Primary Periodontal Lesion', 'Primary Periodontal Lesion',\n",
              "       'Primary Periodontal Lesion', 'Primary Periodontal Lesion',\n",
              "       'Primary Periodontal Lesion', 'Primary Periodontal Lesion',\n",
              "       'Primary Periodontal Lesion', 'Primary Periodontal Lesion',\n",
              "       'Primary Periodontal Lesion', 'Primary Periodontal Lesion',\n",
              "       'Primary Periodontal Lesion', 'Primary Periodontal Lesion',\n",
              "       'Primary Periodontal Lesion', 'Primary Periodontal Lesion',\n",
              "       'Primary Periodontal Lesion', 'Primary Periodontal Lesion',\n",
              "       'Primary Periodontal Lesion', 'Primary Perio with Secondary Endo',\n",
              "       'Primary Perio with Secondary Endo',\n",
              "       'Primary Perio with Secondary Endo',\n",
              "       'Primary Perio with Secondary Endo',\n",
              "       'Primary Perio with Secondary Endo',\n",
              "       'Primary Perio with Secondary Endo', 'Primary Endodontic Lesion',\n",
              "       'Primary Endodontic Lesion', 'Primary Endodontic Lesion',\n",
              "       'Primary Endodontic Lesion', 'Primary Endodontic Lesion',\n",
              "       'Primary Endodontic Lesion', 'Primary Endodontic Lesion',\n",
              "       'Primary Endodontic Lesion', 'Primary Endodontic Lesion',\n",
              "       'Primary Endodontic Lesion', 'Primary Endodontic Lesion',\n",
              "       'Primary Endodontic Lesion', 'Primary Endodontic Lesion',\n",
              "       'Primary Endodontic Lesion', 'Primary Endodontic Lesion',\n",
              "       'Primary Endodontic Lesion', 'Primary Endodontic Lesion',\n",
              "       'Primary Endodontic Lesion', 'Primary Endodontic Lesion'],\n",
              "      dtype='<U33')"
            ]
          },
          "metadata": {},
          "execution_count": 20
        }
      ]
    },
    {
      "cell_type": "code",
      "source": [
        "#Encode labels from text to integers.\n",
        "from sklearn import preprocessing\n",
        "le = preprocessing.LabelEncoder()\n",
        "le.fit(test_labels)\n",
        "test_labels_encoded = le.transform(test_labels)\n",
        "le.fit(train_labels)\n",
        "train_labels_encoded = le.transform(train_labels)"
      ],
      "metadata": {
        "id": "IZ9eQbfOJylx"
      },
      "execution_count": 21,
      "outputs": []
    },
    {
      "cell_type": "code",
      "source": [
        "test_labels_encoded.shape"
      ],
      "metadata": {
        "colab": {
          "base_uri": "https://localhost:8080/"
        },
        "id": "DciarA4hJ9aQ",
        "outputId": "a8168c7b-632a-42f5-ebdb-19c4f3901381"
      },
      "execution_count": 22,
      "outputs": [
        {
          "output_type": "execute_result",
          "data": {
            "text/plain": [
              "(82,)"
            ]
          },
          "metadata": {},
          "execution_count": 22
        }
      ]
    },
    {
      "cell_type": "code",
      "source": [
        "# Normalize pixel values to between 0 and 1\n",
        "train_images, test_images = train_images / 255.0, test_images / 255.0"
      ],
      "metadata": {
        "id": "Ba7_-S2aKNHv"
      },
      "execution_count": 23,
      "outputs": []
    },
    {
      "cell_type": "code",
      "source": [
        "#One hot encode y values for neural network.\n",
        "from keras.utils import to_categorical\n",
        "y_train_one_hot = to_categorical(train_labels_encoded)\n",
        "y_test_one_hot = to_categorical(test_labels_encoded)"
      ],
      "metadata": {
        "id": "UKxoR6Y0KmUB"
      },
      "execution_count": 24,
      "outputs": []
    },
    {
      "cell_type": "code",
      "source": [
        "y_test_one_hot.shape"
      ],
      "metadata": {
        "colab": {
          "base_uri": "https://localhost:8080/"
        },
        "id": "HzDCQPhCLLKi",
        "outputId": "6abfebdc-2f4d-4b7d-eec0-1c187df2feff"
      },
      "execution_count": 67,
      "outputs": [
        {
          "output_type": "execute_result",
          "data": {
            "text/plain": [
              "(82, 5)"
            ]
          },
          "metadata": {},
          "execution_count": 67
        }
      ]
    },
    {
      "cell_type": "code",
      "source": [
        "#Load model wothout classifier/fully connected layers\n",
        "VGG_model = VGG16(weights='imagenet', include_top=False, input_shape=(SIZE, SIZE, 3))"
      ],
      "metadata": {
        "colab": {
          "base_uri": "https://localhost:8080/"
        },
        "id": "lHvnKkNBLODQ",
        "outputId": "2398db02-de98-4991-90a3-2d42de9eb230"
      },
      "execution_count": 25,
      "outputs": [
        {
          "output_type": "stream",
          "name": "stdout",
          "text": [
            "Downloading data from https://storage.googleapis.com/tensorflow/keras-applications/vgg16/vgg16_weights_tf_dim_ordering_tf_kernels_notop.h5\n",
            "58889256/58889256 [==============================] - 0s 0us/step\n"
          ]
        }
      ]
    },
    {
      "cell_type": "code",
      "source": [
        "#Make loaded layers as non-trainable. This is important as we want to work with pre-trained weights\n",
        "for layer in VGG_model.layers:\n",
        "\tlayer.trainable = False"
      ],
      "metadata": {
        "id": "yy1TIQUuMBeB"
      },
      "execution_count": 26,
      "outputs": []
    },
    {
      "cell_type": "code",
      "source": [
        "VGG_model.summary()  #Trainable parameters will be 0"
      ],
      "metadata": {
        "colab": {
          "base_uri": "https://localhost:8080/"
        },
        "id": "TyF0NGY4MFAx",
        "outputId": "bfdd86dd-d3e5-425e-d727-5c4e43df4222"
      },
      "execution_count": 27,
      "outputs": [
        {
          "output_type": "stream",
          "name": "stdout",
          "text": [
            "Model: \"vgg16\"\n",
            "_________________________________________________________________\n",
            " Layer (type)                Output Shape              Param #   \n",
            "=================================================================\n",
            " input_1 (InputLayer)        [(None, 256, 256, 3)]     0         \n",
            "                                                                 \n",
            " block1_conv1 (Conv2D)       (None, 256, 256, 64)      1792      \n",
            "                                                                 \n",
            " block1_conv2 (Conv2D)       (None, 256, 256, 64)      36928     \n",
            "                                                                 \n",
            " block1_pool (MaxPooling2D)  (None, 128, 128, 64)      0         \n",
            "                                                                 \n",
            " block2_conv1 (Conv2D)       (None, 128, 128, 128)     73856     \n",
            "                                                                 \n",
            " block2_conv2 (Conv2D)       (None, 128, 128, 128)     147584    \n",
            "                                                                 \n",
            " block2_pool (MaxPooling2D)  (None, 64, 64, 128)       0         \n",
            "                                                                 \n",
            " block3_conv1 (Conv2D)       (None, 64, 64, 256)       295168    \n",
            "                                                                 \n",
            " block3_conv2 (Conv2D)       (None, 64, 64, 256)       590080    \n",
            "                                                                 \n",
            " block3_conv3 (Conv2D)       (None, 64, 64, 256)       590080    \n",
            "                                                                 \n",
            " block3_pool (MaxPooling2D)  (None, 32, 32, 256)       0         \n",
            "                                                                 \n",
            " block4_conv1 (Conv2D)       (None, 32, 32, 512)       1180160   \n",
            "                                                                 \n",
            " block4_conv2 (Conv2D)       (None, 32, 32, 512)       2359808   \n",
            "                                                                 \n",
            " block4_conv3 (Conv2D)       (None, 32, 32, 512)       2359808   \n",
            "                                                                 \n",
            " block4_pool (MaxPooling2D)  (None, 16, 16, 512)       0         \n",
            "                                                                 \n",
            " block5_conv1 (Conv2D)       (None, 16, 16, 512)       2359808   \n",
            "                                                                 \n",
            " block5_conv2 (Conv2D)       (None, 16, 16, 512)       2359808   \n",
            "                                                                 \n",
            " block5_conv3 (Conv2D)       (None, 16, 16, 512)       2359808   \n",
            "                                                                 \n",
            " block5_pool (MaxPooling2D)  (None, 8, 8, 512)         0         \n",
            "                                                                 \n",
            "=================================================================\n",
            "Total params: 14,714,688\n",
            "Trainable params: 0\n",
            "Non-trainable params: 14,714,688\n",
            "_________________________________________________________________\n"
          ]
        }
      ]
    },
    {
      "cell_type": "code",
      "source": [
        "#Now, let us use features from convolutional network for RF\n",
        "feature_extractor=VGG_model.predict(train_images)"
      ],
      "metadata": {
        "colab": {
          "base_uri": "https://localhost:8080/"
        },
        "id": "G0l6ZGAhMHmg",
        "outputId": "0afe7585-01e2-45df-a7ef-9972f6dd4779"
      },
      "execution_count": 28,
      "outputs": [
        {
          "output_type": "stream",
          "name": "stdout",
          "text": [
            "15/15 [==============================] - 377s 25s/step\n"
          ]
        }
      ]
    },
    {
      "cell_type": "code",
      "source": [
        "feature_extractor.shape"
      ],
      "metadata": {
        "colab": {
          "base_uri": "https://localhost:8080/"
        },
        "id": "QKCmHqzKP9Lu",
        "outputId": "36e10dab-a8bb-4d74-b07c-a73936dd1fed"
      },
      "execution_count": 29,
      "outputs": [
        {
          "output_type": "execute_result",
          "data": {
            "text/plain": [
              "(452, 8, 8, 512)"
            ]
          },
          "metadata": {},
          "execution_count": 29
        }
      ]
    },
    {
      "cell_type": "code",
      "source": [
        "features = feature_extractor.reshape(feature_extractor.shape[0], -1)"
      ],
      "metadata": {
        "id": "6pwxpqBZRuAQ"
      },
      "execution_count": 30,
      "outputs": []
    },
    {
      "cell_type": "code",
      "source": [
        "features.shape"
      ],
      "metadata": {
        "colab": {
          "base_uri": "https://localhost:8080/"
        },
        "id": "X-le6PjwR4My",
        "outputId": "419f0884-47cf-4c4d-9571-f54b50ee184f"
      },
      "execution_count": 31,
      "outputs": [
        {
          "output_type": "execute_result",
          "data": {
            "text/plain": [
              "(452, 32768)"
            ]
          },
          "metadata": {},
          "execution_count": 31
        }
      ]
    },
    {
      "cell_type": "code",
      "source": [
        "X_for_SVM = features #This is our X input to SV"
      ],
      "metadata": {
        "id": "jEooM0p0R6Ih"
      },
      "execution_count": 32,
      "outputs": []
    },
    {
      "cell_type": "code",
      "source": [
        "from sklearn.svm import SVC\n",
        "from sklearn.metrics import accuracy_score"
      ],
      "metadata": {
        "id": "mI3ajo7MS6Jb"
      },
      "execution_count": 42,
      "outputs": []
    },
    {
      "cell_type": "code",
      "source": [
        "# Create an SVM classifier with the OvR strategy\n",
        "SVM_Classifier = SVC(kernel=\"linear\")"
      ],
      "metadata": {
        "id": "pshSCXxzS8ix"
      },
      "execution_count": 43,
      "outputs": []
    },
    {
      "cell_type": "code",
      "source": [
        "# Training the model on the training data and labels\n",
        "\n",
        "SVM_Classifier.fit(X_for_SVM , train_labels_encoded)#For sklearn no one hot encoding"
      ],
      "metadata": {
        "colab": {
          "base_uri": "https://localhost:8080/",
          "height": 74
        },
        "id": "tAmnW7eXUD-S",
        "outputId": "68f3dfc2-19d9-4be7-a996-6f802d5fd997"
      },
      "execution_count": 44,
      "outputs": [
        {
          "output_type": "execute_result",
          "data": {
            "text/plain": [
              "SVC(kernel='linear')"
            ],
            "text/html": [
              "<style>#sk-container-id-2 {color: black;background-color: white;}#sk-container-id-2 pre{padding: 0;}#sk-container-id-2 div.sk-toggleable {background-color: white;}#sk-container-id-2 label.sk-toggleable__label {cursor: pointer;display: block;width: 100%;margin-bottom: 0;padding: 0.3em;box-sizing: border-box;text-align: center;}#sk-container-id-2 label.sk-toggleable__label-arrow:before {content: \"▸\";float: left;margin-right: 0.25em;color: #696969;}#sk-container-id-2 label.sk-toggleable__label-arrow:hover:before {color: black;}#sk-container-id-2 div.sk-estimator:hover label.sk-toggleable__label-arrow:before {color: black;}#sk-container-id-2 div.sk-toggleable__content {max-height: 0;max-width: 0;overflow: hidden;text-align: left;background-color: #f0f8ff;}#sk-container-id-2 div.sk-toggleable__content pre {margin: 0.2em;color: black;border-radius: 0.25em;background-color: #f0f8ff;}#sk-container-id-2 input.sk-toggleable__control:checked~div.sk-toggleable__content {max-height: 200px;max-width: 100%;overflow: auto;}#sk-container-id-2 input.sk-toggleable__control:checked~label.sk-toggleable__label-arrow:before {content: \"▾\";}#sk-container-id-2 div.sk-estimator input.sk-toggleable__control:checked~label.sk-toggleable__label {background-color: #d4ebff;}#sk-container-id-2 div.sk-label input.sk-toggleable__control:checked~label.sk-toggleable__label {background-color: #d4ebff;}#sk-container-id-2 input.sk-hidden--visually {border: 0;clip: rect(1px 1px 1px 1px);clip: rect(1px, 1px, 1px, 1px);height: 1px;margin: -1px;overflow: hidden;padding: 0;position: absolute;width: 1px;}#sk-container-id-2 div.sk-estimator {font-family: monospace;background-color: #f0f8ff;border: 1px dotted black;border-radius: 0.25em;box-sizing: border-box;margin-bottom: 0.5em;}#sk-container-id-2 div.sk-estimator:hover {background-color: #d4ebff;}#sk-container-id-2 div.sk-parallel-item::after {content: \"\";width: 100%;border-bottom: 1px solid gray;flex-grow: 1;}#sk-container-id-2 div.sk-label:hover label.sk-toggleable__label {background-color: #d4ebff;}#sk-container-id-2 div.sk-serial::before {content: \"\";position: absolute;border-left: 1px solid gray;box-sizing: border-box;top: 0;bottom: 0;left: 50%;z-index: 0;}#sk-container-id-2 div.sk-serial {display: flex;flex-direction: column;align-items: center;background-color: white;padding-right: 0.2em;padding-left: 0.2em;position: relative;}#sk-container-id-2 div.sk-item {position: relative;z-index: 1;}#sk-container-id-2 div.sk-parallel {display: flex;align-items: stretch;justify-content: center;background-color: white;position: relative;}#sk-container-id-2 div.sk-item::before, #sk-container-id-2 div.sk-parallel-item::before {content: \"\";position: absolute;border-left: 1px solid gray;box-sizing: border-box;top: 0;bottom: 0;left: 50%;z-index: -1;}#sk-container-id-2 div.sk-parallel-item {display: flex;flex-direction: column;z-index: 1;position: relative;background-color: white;}#sk-container-id-2 div.sk-parallel-item:first-child::after {align-self: flex-end;width: 50%;}#sk-container-id-2 div.sk-parallel-item:last-child::after {align-self: flex-start;width: 50%;}#sk-container-id-2 div.sk-parallel-item:only-child::after {width: 0;}#sk-container-id-2 div.sk-dashed-wrapped {border: 1px dashed gray;margin: 0 0.4em 0.5em 0.4em;box-sizing: border-box;padding-bottom: 0.4em;background-color: white;}#sk-container-id-2 div.sk-label label {font-family: monospace;font-weight: bold;display: inline-block;line-height: 1.2em;}#sk-container-id-2 div.sk-label-container {text-align: center;}#sk-container-id-2 div.sk-container {/* jupyter's `normalize.less` sets `[hidden] { display: none; }` but bootstrap.min.css set `[hidden] { display: none !important; }` so we also need the `!important` here to be able to override the default hidden behavior on the sphinx rendered scikit-learn.org. See: https://github.com/scikit-learn/scikit-learn/issues/21755 */display: inline-block !important;position: relative;}#sk-container-id-2 div.sk-text-repr-fallback {display: none;}</style><div id=\"sk-container-id-2\" class=\"sk-top-container\"><div class=\"sk-text-repr-fallback\"><pre>SVC(kernel=&#x27;linear&#x27;)</pre><b>In a Jupyter environment, please rerun this cell to show the HTML representation or trust the notebook. <br />On GitHub, the HTML representation is unable to render, please try loading this page with nbviewer.org.</b></div><div class=\"sk-container\" hidden><div class=\"sk-item\"><div class=\"sk-estimator sk-toggleable\"><input class=\"sk-toggleable__control sk-hidden--visually\" id=\"sk-estimator-id-2\" type=\"checkbox\" checked><label for=\"sk-estimator-id-2\" class=\"sk-toggleable__label sk-toggleable__label-arrow\">SVC</label><div class=\"sk-toggleable__content\"><pre>SVC(kernel=&#x27;linear&#x27;)</pre></div></div></div></div></div>"
            ]
          },
          "metadata": {},
          "execution_count": 44
        }
      ]
    },
    {
      "cell_type": "code",
      "source": [
        "#Send test data through same feature extractor process\n",
        "X_test_feature = VGG_model.predict(test_images)\n",
        "X_test_features = X_test_feature.reshape(X_test_feature.shape[0], -1)"
      ],
      "metadata": {
        "colab": {
          "base_uri": "https://localhost:8080/"
        },
        "id": "kYjaqwnWU_qx",
        "outputId": "34504924-514f-4804-e3d5-ed585efa728f"
      },
      "execution_count": 45,
      "outputs": [
        {
          "output_type": "stream",
          "name": "stdout",
          "text": [
            "3/3 [==============================] - 68s 22s/step\n"
          ]
        }
      ]
    },
    {
      "cell_type": "code",
      "source": [
        "# Using the model to predict the labels of the test data\n",
        "prediction_SVM = SVM_Classifier.predict(X_test_features)\n",
        "\n"
      ],
      "metadata": {
        "id": "SSomq4dGWwoe"
      },
      "execution_count": 46,
      "outputs": []
    },
    {
      "cell_type": "code",
      "source": [
        "#Inverse le transform to get original label back.\n",
        "prediction_SVM = le.inverse_transform(prediction_SVM)"
      ],
      "metadata": {
        "id": "eNmFe9ktXsTA"
      },
      "execution_count": 47,
      "outputs": []
    },
    {
      "cell_type": "code",
      "source": [
        "prediction_SVM[1]"
      ],
      "metadata": {
        "colab": {
          "base_uri": "https://localhost:8080/",
          "height": 36
        },
        "id": "5x65H4ha5I0s",
        "outputId": "0504f62e-969d-4724-f1fc-9c1beada3a09"
      },
      "execution_count": 48,
      "outputs": [
        {
          "output_type": "execute_result",
          "data": {
            "text/plain": [
              "'Primary Endo with Secondary Perio'"
            ],
            "application/vnd.google.colaboratory.intrinsic+json": {
              "type": "string"
            }
          },
          "metadata": {},
          "execution_count": 48
        }
      ]
    },
    {
      "cell_type": "code",
      "source": [
        "test_labels[1]"
      ],
      "metadata": {
        "colab": {
          "base_uri": "https://localhost:8080/",
          "height": 36
        },
        "id": "HgCNeZO65VqU",
        "outputId": "345fa9ac-4787-4ba4-d939-1e33dd015d2e"
      },
      "execution_count": 49,
      "outputs": [
        {
          "output_type": "execute_result",
          "data": {
            "text/plain": [
              "'Primary Endo with Secondary Perio'"
            ],
            "application/vnd.google.colaboratory.intrinsic+json": {
              "type": "string"
            }
          },
          "metadata": {},
          "execution_count": 49
        }
      ]
    },
    {
      "cell_type": "code",
      "source": [
        "# Calculate accuracy\n",
        "accuracy = accuracy_score(test_labels, prediction_SVM)\n",
        "print(\"Accuracy:\", accuracy)"
      ],
      "metadata": {
        "colab": {
          "base_uri": "https://localhost:8080/"
        },
        "id": "nFUchmITYXOu",
        "outputId": "0f9dbf6b-1639-4aa3-d271-5caca73b79a6"
      },
      "execution_count": 50,
      "outputs": [
        {
          "output_type": "stream",
          "name": "stdout",
          "text": [
            "Accuracy: 0.4268292682926829\n"
          ]
        }
      ]
    },
    {
      "cell_type": "code",
      "source": [],
      "metadata": {
        "id": "VuwbtQXhYzRR"
      },
      "execution_count": null,
      "outputs": []
    }
  ]
}